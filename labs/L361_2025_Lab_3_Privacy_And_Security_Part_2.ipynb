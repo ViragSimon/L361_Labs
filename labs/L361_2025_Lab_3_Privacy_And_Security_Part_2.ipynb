{
 "cells": [
  {
   "cell_type": "markdown",
   "metadata": {
    "id": "hpQbkoayYCpj"
   },
   "source": [
    "# 0. Marking.\n",
    "\n",
    "**_IMPORTANT_**: Save a copy of this notebook into your Drive before you start.\n",
    "\n",
    "- Please attempt all the questions marked for your group (Part II ✅ | Part III/MPhil ✅).\n",
    "\n",
    "Please submit a zip file, containing both parts, consiting of of:\n",
    "\n",
    "1. A text file with a publicly visible link to your notebooks in Google Colab or GitHub.\n",
    "2. A downloaded copy (ipynb) of your notebooks or your zipped cloned GitHub repo. You may treat these as a report: we will not be re-executing the code you used to produce the answers unless required.\n",
    "\n",
    "If you find yourself enjoying the material, feel free to attempt more! Provide your answers in a new cell below the question cell.\n"
   ]
  },
  {
   "cell_type": "markdown",
   "metadata": {
    "id": "T_-VhIG0szzo"
   },
   "source": [
    "## Imports\n"
   ]
  },
  {
   "cell_type": "code",
   "execution_count": 27,
   "metadata": {
    "colab": {
     "base_uri": "https://localhost:8080/"
    },
    "executionInfo": {
     "elapsed": 36463,
     "status": "ok",
     "timestamp": 1703272145844,
     "user": {
      "displayName": "Alexandru-Andrei Iacob",
      "userId": "00751686620367198202"
     },
     "user_tz": -120
    },
    "id": "FuDMIMEUszzo",
    "outputId": "98c533e5-a656-4286-9592-6707dc8ea15b"
   },
   "outputs": [
    {
     "name": "stdout",
     "output_type": "stream",
     "text": [
      "Requirement already satisfied: dill in /Users/macbook/Desktop/L361/L361-Federated-Learning/.conda/lib/python3.10/site-packages (0.3.9)\n"
     ]
    }
   ],
   "source": [
    "# The simulation component of flower uses RAY under the hood.\n",
    "# `pip` could produce some errors. Nothing to worry about.\n",
    "# The execution has been verified; it is working anyway.\n",
    "! pip install --quiet --upgrade \"pip\"\n",
    "! pip install dill\n",
    "! pip install --quiet \\\n",
    "    git+https://github.com/Iacob-Alexandru-Andrei/flower.git@teaching ray==\"2.6.3\" \\\n",
    "    torch==\"2.2.1\" torchvision==\"0.17.1\"  tqdm==\"4.67.1\" torchsummary==\"1.5.1\" \\\n",
    "    pycrypto cryptography==\"41.0.2\" pycryptodome==\"3.18.0\" matplotlib==\"3.8.2\""
   ]
  },
  {
   "cell_type": "code",
   "execution_count": 28,
   "metadata": {
    "id": "OTAtWeP_szzp"
   },
   "outputs": [],
   "source": [
    "# Imports\n",
    "import os\n",
    "import random\n",
    "from collections.abc import Callable\n",
    "from typing import Any\n",
    "from pathlib import Path\n",
    "\n",
    "import flwr as fl\n",
    "import numpy as np\n",
    "\n",
    "import torch\n",
    "from flwr.client import Client\n",
    "from flwr.common.typing import NDArrays\n",
    "from flwr.server import ServerConfig, History\n",
    "from flwr.server.strategy import Strategy\n",
    "from enum import IntEnum\n",
    "from datetime import datetime, timezone\n",
    "import json\n",
    "\n",
    "\n",
    "# Add new seeds here for easy autocomplete\n",
    "class Seeds(IntEnum):\n",
    "    \"\"\"Seeds for reproducibility.\"\"\"\n",
    "\n",
    "    DEFAULT = 1337\n",
    "\n",
    "\n",
    "np.random.seed(Seeds.DEFAULT)\n",
    "random.seed(Seeds.DEFAULT)\n",
    "torch.manual_seed(Seeds.DEFAULT)\n",
    "torch.backends.cudnn.benchmark = False\n",
    "torch.backends.cudnn.deterministic = True\n",
    "\n",
    "PathType = Path | str | None"
   ]
  },
  {
   "cell_type": "markdown",
   "metadata": {},
   "source": [
    "### Paths\n"
   ]
  },
  {
   "cell_type": "code",
   "execution_count": 29,
   "metadata": {},
   "outputs": [],
   "source": [
    "home_dir = Path.cwd()\n",
    "data_dir: Path = home_dir / \"data\""
   ]
  },
  {
   "cell_type": "markdown",
   "metadata": {},
   "source": [
    "### Useful Python functions\n"
   ]
  },
  {
   "cell_type": "code",
   "execution_count": 30,
   "metadata": {
    "id": "3gb8UWW9xKI8"
   },
   "outputs": [],
   "source": [
    "def convert(o: Any) -> int | float:\n",
    "    \"\"\"Convert input object to Python numerical if numpy.\"\"\"\n",
    "    # type: ignore[reportGeneralTypeIssues]\n",
    "    if isinstance(o, np.int32 | np.int64):\n",
    "        return int(o)\n",
    "    # type: ignore[reportGeneralTypeIssues]\n",
    "    if isinstance(o, np.float32 | np.float64):\n",
    "        return float(o)\n",
    "    raise TypeError\n",
    "\n",
    "\n",
    "def save_history(hist: History, name: str) -> None:\n",
    "    \"\"\"Save history from simulation to file.\"\"\"\n",
    "    time = int(datetime.now(timezone.utc).timestamp())\n",
    "    path = home_dir / \"histories\"\n",
    "    path.mkdir(exist_ok=True)\n",
    "    path = path / f\"hist_{time}_{name}.json\"\n",
    "    with open(path, \"w\", encoding=\"utf-8\") as f:\n",
    "        json.dump(hist.__dict__, f, ensure_ascii=False, indent=4, default=convert)\n",
    "\n",
    "\n",
    "def start_seeded_simulation(\n",
    "    client_fn: Callable[[str], Client],\n",
    "    num_clients: int,\n",
    "    config: ServerConfig,\n",
    "    strategy: Strategy,\n",
    "    name: str,\n",
    "    seed: int = Seeds.DEFAULT,\n",
    "    iteration: int = 0,\n",
    ") -> tuple[list[tuple[int, NDArrays]], History]:\n",
    "    \"\"\"Wrap simulation to always seed client selection.\"\"\"\n",
    "    np.random.seed(seed ^ iteration)\n",
    "    torch.manual_seed(seed ^ iteration)\n",
    "    random.seed(seed ^ iteration)\n",
    "    parameter_list, hist = fl.simulation.start_simulation_no_ray(\n",
    "        client_fn=client_fn,\n",
    "        num_clients=num_clients,\n",
    "        client_resources={},\n",
    "        config=config,\n",
    "        strategy=strategy,\n",
    "    )\n",
    "    save_history(hist, name)\n",
    "    return parameter_list, hist"
   ]
  },
  {
   "cell_type": "markdown",
   "metadata": {},
   "source": [
    "### Dataset\n"
   ]
  },
  {
   "cell_type": "code",
   "execution_count": 31,
   "metadata": {
    "id": "xlpr4Y69szzq"
   },
   "outputs": [],
   "source": [
    "from common.client import get_flower_client_generator\n",
    "from common.client_utils import (\n",
    "    get_network_generator_cnn,\n",
    "    get_model_parameters,\n",
    ")"
   ]
  },
  {
   "cell_type": "code",
   "execution_count": 32,
   "metadata": {
    "colab": {
     "base_uri": "https://localhost:8080/"
    },
    "executionInfo": {
     "elapsed": 20972,
     "status": "ok",
     "timestamp": 1703272166813,
     "user": {
      "displayName": "Alexandru-Andrei Iacob",
      "userId": "00751686620367198202"
     },
     "user_tz": -120
    },
    "id": "jg6mnpsM8Rl9",
    "outputId": "8d17c791-e538-4c80-c482-384ca301bc51"
   },
   "outputs": [],
   "source": [
    "np.random.seed(Seeds.DEFAULT)\n",
    "random.seed(Seeds.DEFAULT)\n",
    "torch.manual_seed(Seeds.DEFAULT)\n",
    "network_generator_cnn = get_network_generator_cnn()\n",
    "seed_net_cnn = network_generator_cnn()\n",
    "seed_model_cnn_params: NDArrays = get_model_parameters(seed_net_cnn)\n",
    "federated_evaluation_function = None"
   ]
  },
  {
   "cell_type": "code",
   "execution_count": 33,
   "metadata": {
    "colab": {
     "base_uri": "https://localhost:8080/"
    },
    "executionInfo": {
     "elapsed": 2131,
     "status": "ok",
     "timestamp": 1703272168936,
     "user": {
      "displayName": "Alexandru-Andrei Iacob",
      "userId": "00751686620367198202"
     },
     "user_tz": -120
    },
    "id": "XIfz9DNHp0u0",
    "outputId": "1aa0cb12-9d30-4f28-9541-90aadf187003"
   },
   "outputs": [],
   "source": [
    "fl_client_gen = get_flower_client_generator(network_generator_cnn, home_dir, home_dir)"
   ]
  },
  {
   "cell_type": "markdown",
   "metadata": {
    "id": "SYSSl0eT8Pmv"
   },
   "source": [
    "# Secure Aggregation\n"
   ]
  },
  {
   "cell_type": "markdown",
   "metadata": {
    "id": "2vtkE27Rp6gv"
   },
   "source": [
    "In this section, we will explore a **Secure Multi-Party Computation (SMPC)** based approach first implemented in an FL context in [this](https://arxiv.org/abs/1611.04482) paper, called **Secure Aggregation**.\n",
    "The authors proposed a protocol for the secure aggregation of model updates in a Federated Learning setting.\n",
    "SMPC algorithms allow a group of _mutually distrustful parties_ to compute a function over their private inputs without revealing any information about their inputs to one another.\n",
    "In Federated Learning, users can compute the average of their model updates without revealing any information about their model updates to the other actors.\n",
    "This is achieved by a complex exchange of encrypted keys and messages between the actors, which is why the protocol is _computationally expensive_.\n",
    "The additional information the server and clients exchanges results in additional _communication overhead_.\n",
    "In this Lab, we will focus on the communication overhead, ignoring the computational overhead. Furthermore, the protocol requires a specific fraction of clients to complete training to compute the average.\n",
    "\n",
    "[Pan Heng](https://github.com/panh99) implemented the first Secure Aggregation in Flower. Thus, we will use part of his code in this section. However, because of the complexity of this protocol, we refer all the discussions to the original paper.\n",
    "The main takeaways from the paper are the following: private inputs of clients are completely protected in this setting; Secure Aggregation is computationally expensive and requires a lot of communication overhead; the scalability of Secure Aggregation to many clients requires a lot of computational resources.\n",
    "\n",
    "In the following cell, we will download the code for the Secure Aggregation protocol.\n"
   ]
  },
  {
   "cell_type": "code",
   "execution_count": 34,
   "metadata": {
    "id": "ZwoxfbmTp9to"
   },
   "outputs": [],
   "source": [
    "secagg_dir = home_dir / \"secagg\""
   ]
  },
  {
   "cell_type": "markdown",
   "metadata": {
    "id": "FzuszGSUqX-t"
   },
   "source": [
    "The implementation contains many encryption utilities, and thus it is very complex.\n",
    "So, feel free to dig into the code, but be aware that it is unnecessary to understand every part of it to complete the Lab.\n",
    "\n",
    "We also need to create a folder to store the keys generated on the fly by our simulation.\n"
   ]
  },
  {
   "cell_type": "code",
   "execution_count": 35,
   "metadata": {
    "id": "5gSr813fqY-h"
   },
   "outputs": [],
   "source": [
    "keys_dir = secagg_dir / \"client_data\"\n",
    "keys_dir.mkdir(exist_ok=True, parents=True)"
   ]
  },
  {
   "cell_type": "markdown",
   "metadata": {
    "id": "g_JuulFEqgFG"
   },
   "source": [
    "We are now importing the relevant functions for simulating the Secure Aggregation protocol from the files we have just downloaded.\n"
   ]
  },
  {
   "cell_type": "code",
   "execution_count": 36,
   "metadata": {
    "id": "FbCi-KfFqlIi"
   },
   "outputs": [],
   "source": [
    "from common.secagg.client import get_sec_agg_client_generator as get_client_generator\n",
    "from common.secagg.strategy import SecureAggregationStrategy"
   ]
  },
  {
   "cell_type": "markdown",
   "metadata": {
    "id": "YvSy0c8OqmxR"
   },
   "source": [
    "It is important to point out that from now on we will use a toy simulator.\n",
    "This means that we will not use real clients, so we are not training anything.\n",
    "We will just simulate the communication between the server and the clients to explore the communication overhead.\n",
    "The scripts are built to return to the `aggregate_fit` function of the server the length of the bytes exchanged during all the phases of communication of the Secure Aggregation protocol.\n",
    "The equivalent single FL training round is achieved in 4 phases of communication by the protocol.\n",
    "\n",
    "It is worth mentioning that for this implementation we will change our training round from using epochs to local steps because we need all the clients to train on the same amount of data samples.\n",
    "This is done because even the number of samples could be considered sensitive information that we do not want to reveal to the other actors.\n"
   ]
  },
  {
   "cell_type": "code",
   "execution_count": 37,
   "metadata": {},
   "outputs": [],
   "source": [
    "num_total_clients = 3290"
   ]
  },
  {
   "cell_type": "code",
   "execution_count": 38,
   "metadata": {
    "id": "zDeOr-uSqoc2"
   },
   "outputs": [],
   "source": [
    "def run_sec_agg_demo(\n",
    "    num_clients_per_round: int = 10,\n",
    "    n_model_parameters: int = 10000,\n",
    "    min_num_surviving_clients: int = 5,\n",
    "    n_rounds: int = 2,\n",
    "    n_samples: int = 30,\n",
    ") -> Any:\n",
    "    \"\"\"Execute a secure aggregation simulation.\"\"\"\n",
    "    strategy = SecureAggregationStrategy(\n",
    "        n_dim=n_model_parameters,\n",
    "        num_clients_per_round=num_clients_per_round,\n",
    "        threshold=min_num_surviving_clients,\n",
    "        num_dropouts=num_clients_per_round - min_num_surviving_clients,\n",
    "    )\n",
    "    secagg_hist = start_seeded_simulation(\n",
    "        client_fn=lambda cid: get_client_generator(\n",
    "            n_model_parameters, n_samples, keys_dir\n",
    "        )(cid).to_client(),\n",
    "        num_clients=num_total_clients,\n",
    "        # this refers to the number of phases to simulate (must be 4*n_rounds)\n",
    "        config=ServerConfig(num_rounds=int(4 * n_rounds)),\n",
    "        strategy=strategy,\n",
    "        name=f\"secagg_{num_clients_per_round}_{n_model_parameters}_{min_num_surviving_clients}_{n_rounds}_{n_samples}\",\n",
    "    )\n",
    "    # Clean up keys from the folder\n",
    "    for filename in os.listdir(keys_dir):\n",
    "        file_pth = keys_dir / filename\n",
    "        if filename.endswith(\".pth\"):\n",
    "            Path.unlink(file_pth)\n",
    "\n",
    "    return secagg_hist"
   ]
  },
  {
   "cell_type": "markdown",
   "metadata": {
    "id": "K2uxZganqsU2"
   },
   "source": [
    "In the next cell, we will simulate the Secure Aggregation protocol defined by the abovementioned parameters.\n"
   ]
  },
  {
   "cell_type": "code",
   "execution_count": 39,
   "metadata": {
    "colab": {
     "base_uri": "https://localhost:8080/"
    },
    "executionInfo": {
     "elapsed": 6786,
     "status": "ok",
     "timestamp": 1703272175717,
     "user": {
      "displayName": "Alexandru-Andrei Iacob",
      "userId": "00751686620367198202"
     },
     "user_tz": -120
    },
    "id": "alDvGClxqs4D",
    "outputId": "295cfee2-b4d7-432d-a237-d9f3e270bbc5"
   },
   "outputs": [
    {
     "name": "stderr",
     "output_type": "stream",
     "text": [
      "INFO flwr 2025-02-16 02:45:16,191 | app.py:149 | Starting Flower simulation, config: ServerConfig(num_rounds=8, round_timeout=None)\n",
      "INFO flwr 2025-02-16 02:45:16,199 | server_returns_parameters.py:81 | Initializing global parameters\n",
      "INFO flwr 2025-02-16 02:45:16,207 | server_returns_parameters.py:273 | Using initial parameters provided by strategy\n",
      "INFO flwr 2025-02-16 02:45:16,208 | server_returns_parameters.py:84 | Evaluating initial parameters\n",
      "INFO flwr 2025-02-16 02:45:16,208 | server_returns_parameters.py:97 | FL starting\n",
      "INFO flwr 2025-02-16 02:45:16,208 | strategy.py:120 | Configure fit: stage 0, 0, True\n",
      "INFO flwr 2025-02-16 02:45:16,209 | strategy.py:126 | Stage 0\n",
      "DEBUG flwr 2025-02-16 02:45:16,210 | server_returns_parameters.py:223 | fit_round 1: strategy sampled 10 clients (out of 3290)\n",
      "INFO flwr 2025-02-16 02:45:16,212 | client.py:130 | CID 2530 reloading from /Users/macbook/Desktop/L361/L361-Federated-Learning/labs/secagg/client_data/2530.pth\n",
      "INFO flwr 2025-02-16 02:45:16,214 | client.py:130 | CID 2184 reloading from /Users/macbook/Desktop/L361/L361-Federated-Learning/labs/secagg/client_data/2184.pth\n",
      "INFO flwr 2025-02-16 02:45:16,214 | client.py:130 | CID 2907 reloading from /Users/macbook/Desktop/L361/L361-Federated-Learning/labs/secagg/client_data/2907.pth\n",
      "INFO flwr 2025-02-16 02:45:16,215 | client.py:130 | CID 1498 reloading from /Users/macbook/Desktop/L361/L361-Federated-Learning/labs/secagg/client_data/1498.pth\n",
      "INFO flwr 2025-02-16 02:45:16,216 | client.py:130 | CID 2338 reloading from /Users/macbook/Desktop/L361/L361-Federated-Learning/labs/secagg/client_data/2338.pth\n",
      "INFO flwr 2025-02-16 02:45:16,216 | client.py:130 | CID 2399 reloading from /Users/macbook/Desktop/L361/L361-Federated-Learning/labs/secagg/client_data/2399.pth\n",
      "INFO flwr 2025-02-16 02:45:16,217 | client.py:130 | CID 3175 reloading from /Users/macbook/Desktop/L361/L361-Federated-Learning/labs/secagg/client_data/3175.pth\n",
      "INFO flwr 2025-02-16 02:45:16,217 | client.py:130 | CID 678 reloading from /Users/macbook/Desktop/L361/L361-Federated-Learning/labs/secagg/client_data/678.pth\n",
      "INFO flwr 2025-02-16 02:45:16,217 | client.py:130 | CID 2997 reloading from /Users/macbook/Desktop/L361/L361-Federated-Learning/labs/secagg/client_data/2997.pth\n",
      "INFO flwr 2025-02-16 02:45:16,218 | client.py:130 | CID 1363 reloading from /Users/macbook/Desktop/L361/L361-Federated-Learning/labs/secagg/client_data/1363.pth\n",
      "DEBUG flwr 2025-02-16 02:45:16,226 | server_returns_parameters.py:237 | fit_round 1 received 0 results and 10 failures\n",
      "ERROR flwr 2025-02-16 02:45:16,227 | app.py:189 | Ran out of input\n",
      "ERROR flwr 2025-02-16 02:45:16,228 | app.py:190 | Traceback (most recent call last):\n",
      "  File \"/Users/macbook/Desktop/L361/L361-Federated-Learning/.conda/lib/python3.10/site-packages/flwr/simulation/app.py\", line 184, in start_simulation_no_ray\n",
      "    parameters_list, hist = run_fl_return_parameters(\n",
      "  File \"/Users/macbook/Desktop/L361/L361-Federated-Learning/.conda/lib/python3.10/site-packages/flwr/server/app.py\", line 249, in run_fl_return_parameters\n",
      "    parameters_list, hist = server.fit(num_rounds=config.num_rounds, timeout=config.round_timeout)\n",
      "  File \"/Users/macbook/Desktop/L361/L361-Federated-Learning/.conda/lib/python3.10/site-packages/flwr/server/server_returns_parameters.py\", line 102, in fit\n",
      "    res_fit = self.fit_round(\n",
      "  File \"/Users/macbook/Desktop/L361/L361-Federated-Learning/.conda/lib/python3.10/site-packages/flwr/server/server_returns_parameters.py\", line 249, in fit_round\n",
      "    ] = self.strategy.aggregate_fit(server_round, results, failures)\n",
      "  File \"/Users/macbook/Desktop/L361/L361-Federated-Learning/labs/common/secagg/strategy.py\", line 183, in aggregate_fit\n",
      "    raise f\n",
      "  File \"/Users/macbook/Desktop/L361/L361-Federated-Learning/.conda/lib/python3.10/concurrent/futures/thread.py\", line 58, in run\n",
      "    result = self.fn(*self.args, **self.kwargs)\n",
      "  File \"/Users/macbook/Desktop/L361/L361-Federated-Learning/.conda/lib/python3.10/site-packages/flwr/server/server_returns_parameters.py\", line 357, in fit_client\n",
      "    fit_res = client.fit(ins, timeout=timeout)\n",
      "  File \"/Users/macbook/Desktop/L361/L361-Federated-Learning/.conda/lib/python3.10/site-packages/flwr/simulation/ray_transport/fn_client_proxy.py\", line 55, in fit\n",
      "    return launch_and_fit(self.client_fn, self.cid, ins)\n",
      "  File \"/Users/macbook/Desktop/L361/L361-Federated-Learning/.conda/lib/python3.10/site-packages/flwr/simulation/ray_transport/fn_client_proxy.py\", line 100, in launch_and_fit\n",
      "    return maybe_call_fit(\n",
      "  File \"/Users/macbook/Desktop/L361/L361-Federated-Learning/.conda/lib/python3.10/site-packages/flwr/client/client.py\", line 234, in maybe_call_fit\n",
      "    return client.fit(fit_ins)\n",
      "  File \"/Users/macbook/Desktop/L361/L361-Federated-Learning/.conda/lib/python3.10/site-packages/flwr/client/numpy_client.py\", line 238, in _fit\n",
      "    results = self.numpy_client.fit(parameters, ins.config)  # type: ignore\n",
      "  File \"/Users/macbook/Desktop/L361/L361-Federated-Learning/labs/common/secagg/client.py\", line 98, in fit\n",
      "    self.reload()\n",
      "  File \"/Users/macbook/Desktop/L361/L361-Federated-Learning/labs/common/secagg/client.py\", line 132, in reload\n",
      "    self.__dict__.update(pickle.load(f))\n",
      "EOFError: Ran out of input\n",
      "\n",
      "ERROR flwr 2025-02-16 02:45:16,228 | app.py:191 | Your simulation crashed :(. This could be because of several reasons.The most common are: \n",
      "\t > Your system couldn't fit a single VirtualClient: try lowering `client_resources`.\n",
      "\t > All the actors in your pool crashed. This could be because: \n",
      "\t\t - You clients hit an out-of-memory (OOM) error and actors couldn't recover from it. Try launching your simulation with more generous `client_resources` setting (i.e. it seems {} is not enough for your workload). Use fewer concurrent actors. \n",
      "\t\t - You were running a multi-node simulation and all worker nodes disconnected. The head node might still be alive but cannot accommodate any actor with resources: {}.\n"
     ]
    },
    {
     "ename": "RuntimeError",
     "evalue": "Simulation crashed.",
     "output_type": "error",
     "traceback": [
      "\u001b[0;31m---------------------------------------------------------------------------\u001b[0m",
      "\u001b[0;31mEOFError\u001b[0m                                  Traceback (most recent call last)",
      "File \u001b[0;32m~/Desktop/L361/L361-Federated-Learning/.conda/lib/python3.10/site-packages/flwr/simulation/app.py:184\u001b[0m, in \u001b[0;36mstart_simulation_no_ray\u001b[0;34m(client_fn, num_clients, clients_ids, client_resources, server, config, strategy, client_manager)\u001b[0m\n\u001b[1;32m    182\u001b[0m \u001b[38;5;28;01mtry\u001b[39;00m:\n\u001b[1;32m    183\u001b[0m     \u001b[38;5;66;03m# Start training\u001b[39;00m\n\u001b[0;32m--> 184\u001b[0m     parameters_list, hist \u001b[38;5;241m=\u001b[39m \u001b[43mrun_fl_return_parameters\u001b[49m\u001b[43m(\u001b[49m\n\u001b[1;32m    185\u001b[0m \u001b[43m        \u001b[49m\u001b[43mserver\u001b[49m\u001b[38;5;241;43m=\u001b[39;49m\u001b[43minitialized_server\u001b[49m\u001b[43m,\u001b[49m\n\u001b[1;32m    186\u001b[0m \u001b[43m        \u001b[49m\u001b[43mconfig\u001b[49m\u001b[38;5;241;43m=\u001b[39;49m\u001b[43minitialized_config\u001b[49m\u001b[43m,\u001b[49m\n\u001b[1;32m    187\u001b[0m \u001b[43m    \u001b[49m\u001b[43m)\u001b[49m\n\u001b[1;32m    188\u001b[0m \u001b[38;5;28;01mexcept\u001b[39;00m \u001b[38;5;167;01mException\u001b[39;00m \u001b[38;5;28;01mas\u001b[39;00m ex:\n",
      "File \u001b[0;32m~/Desktop/L361/L361-Federated-Learning/.conda/lib/python3.10/site-packages/flwr/server/app.py:249\u001b[0m, in \u001b[0;36mrun_fl_return_parameters\u001b[0;34m(server, config)\u001b[0m\n\u001b[1;32m    248\u001b[0m \u001b[38;5;250m\u001b[39m\u001b[38;5;124;03m\"\"\"Train a model on the given server and return the History object.\"\"\"\u001b[39;00m\n\u001b[0;32m--> 249\u001b[0m parameters_list, hist \u001b[38;5;241m=\u001b[39m \u001b[43mserver\u001b[49m\u001b[38;5;241;43m.\u001b[39;49m\u001b[43mfit\u001b[49m\u001b[43m(\u001b[49m\u001b[43mnum_rounds\u001b[49m\u001b[38;5;241;43m=\u001b[39;49m\u001b[43mconfig\u001b[49m\u001b[38;5;241;43m.\u001b[39;49m\u001b[43mnum_rounds\u001b[49m\u001b[43m,\u001b[49m\u001b[43m \u001b[49m\u001b[43mtimeout\u001b[49m\u001b[38;5;241;43m=\u001b[39;49m\u001b[43mconfig\u001b[49m\u001b[38;5;241;43m.\u001b[39;49m\u001b[43mround_timeout\u001b[49m\u001b[43m)\u001b[49m\n\u001b[1;32m    250\u001b[0m log(INFO, \u001b[38;5;124m\"\u001b[39m\u001b[38;5;124mapp_fit: losses_distributed \u001b[39m\u001b[38;5;132;01m%s\u001b[39;00m\u001b[38;5;124m\"\u001b[39m, \u001b[38;5;28mstr\u001b[39m(hist\u001b[38;5;241m.\u001b[39mlosses_distributed))\n",
      "File \u001b[0;32m~/Desktop/L361/L361-Federated-Learning/.conda/lib/python3.10/site-packages/flwr/server/server_returns_parameters.py:102\u001b[0m, in \u001b[0;36mReturnParametersServer.fit\u001b[0;34m(self, num_rounds, timeout)\u001b[0m\n\u001b[1;32m    100\u001b[0m \u001b[38;5;28;01mfor\u001b[39;00m current_round \u001b[38;5;129;01min\u001b[39;00m \u001b[38;5;28mrange\u001b[39m(\u001b[38;5;241m1\u001b[39m, num_rounds \u001b[38;5;241m+\u001b[39m \u001b[38;5;241m1\u001b[39m):\n\u001b[1;32m    101\u001b[0m     \u001b[38;5;66;03m# Train model and replace previous global model\u001b[39;00m\n\u001b[0;32m--> 102\u001b[0m     res_fit \u001b[38;5;241m=\u001b[39m \u001b[38;5;28;43mself\u001b[39;49m\u001b[38;5;241;43m.\u001b[39;49m\u001b[43mfit_round\u001b[49m\u001b[43m(\u001b[49m\n\u001b[1;32m    103\u001b[0m \u001b[43m        \u001b[49m\u001b[43mserver_round\u001b[49m\u001b[38;5;241;43m=\u001b[39;49m\u001b[43mcurrent_round\u001b[49m\u001b[43m,\u001b[49m\n\u001b[1;32m    104\u001b[0m \u001b[43m        \u001b[49m\u001b[43mtimeout\u001b[49m\u001b[38;5;241;43m=\u001b[39;49m\u001b[43mtimeout\u001b[49m\u001b[43m,\u001b[49m\n\u001b[1;32m    105\u001b[0m \u001b[43m    \u001b[49m\u001b[43m)\u001b[49m\n\u001b[1;32m    106\u001b[0m     \u001b[38;5;28;01mif\u001b[39;00m res_fit \u001b[38;5;129;01mis\u001b[39;00m \u001b[38;5;129;01mnot\u001b[39;00m \u001b[38;5;28;01mNone\u001b[39;00m:\n",
      "File \u001b[0;32m~/Desktop/L361/L361-Federated-Learning/.conda/lib/python3.10/site-packages/flwr/server/server_returns_parameters.py:249\u001b[0m, in \u001b[0;36mReturnParametersServer.fit_round\u001b[0;34m(self, server_round, timeout)\u001b[0m\n\u001b[1;32m    245\u001b[0m \u001b[38;5;66;03m# Aggregate training results\u001b[39;00m\n\u001b[1;32m    246\u001b[0m aggregated_result: Tuple[\n\u001b[1;32m    247\u001b[0m     Optional[Parameters],\n\u001b[1;32m    248\u001b[0m     Dict[\u001b[38;5;28mstr\u001b[39m, Scalar],\n\u001b[0;32m--> 249\u001b[0m ] \u001b[38;5;241m=\u001b[39m \u001b[38;5;28;43mself\u001b[39;49m\u001b[38;5;241;43m.\u001b[39;49m\u001b[43mstrategy\u001b[49m\u001b[38;5;241;43m.\u001b[39;49m\u001b[43maggregate_fit\u001b[49m\u001b[43m(\u001b[49m\u001b[43mserver_round\u001b[49m\u001b[43m,\u001b[49m\u001b[43m \u001b[49m\u001b[43mresults\u001b[49m\u001b[43m,\u001b[49m\u001b[43m \u001b[49m\u001b[43mfailures\u001b[49m\u001b[43m)\u001b[49m\n\u001b[1;32m    251\u001b[0m parameters_aggregated, metrics_aggregated \u001b[38;5;241m=\u001b[39m aggregated_result\n",
      "File \u001b[0;32m~/Desktop/L361/L361-Federated-Learning/labs/common/secagg/strategy.py:183\u001b[0m, in \u001b[0;36mSecureAggregationStrategy.aggregate_fit\u001b[0;34m(self, server_round, results, failures)\u001b[0m\n\u001b[1;32m    182\u001b[0m         \u001b[38;5;28;01mif\u001b[39;00m \u001b[38;5;28misinstance\u001b[39m(f, \u001b[38;5;167;01mBaseException\u001b[39;00m):\n\u001b[0;32m--> 183\u001b[0m             \u001b[38;5;28;01mraise\u001b[39;00m f\n\u001b[1;32m    184\u001b[0m \u001b[38;5;28;01mfor\u001b[39;00m f \u001b[38;5;129;01min\u001b[39;00m failures:\n",
      "File \u001b[0;32m~/Desktop/L361/L361-Federated-Learning/.conda/lib/python3.10/concurrent/futures/thread.py:58\u001b[0m, in \u001b[0;36m_WorkItem.run\u001b[0;34m(self)\u001b[0m\n\u001b[1;32m     57\u001b[0m \u001b[38;5;28;01mtry\u001b[39;00m:\n\u001b[0;32m---> 58\u001b[0m     result \u001b[38;5;241m=\u001b[39m \u001b[38;5;28;43mself\u001b[39;49m\u001b[38;5;241;43m.\u001b[39;49m\u001b[43mfn\u001b[49m\u001b[43m(\u001b[49m\u001b[38;5;241;43m*\u001b[39;49m\u001b[38;5;28;43mself\u001b[39;49m\u001b[38;5;241;43m.\u001b[39;49m\u001b[43margs\u001b[49m\u001b[43m,\u001b[49m\u001b[43m \u001b[49m\u001b[38;5;241;43m*\u001b[39;49m\u001b[38;5;241;43m*\u001b[39;49m\u001b[38;5;28;43mself\u001b[39;49m\u001b[38;5;241;43m.\u001b[39;49m\u001b[43mkwargs\u001b[49m\u001b[43m)\u001b[49m\n\u001b[1;32m     59\u001b[0m \u001b[38;5;28;01mexcept\u001b[39;00m \u001b[38;5;167;01mBaseException\u001b[39;00m \u001b[38;5;28;01mas\u001b[39;00m exc:\n",
      "File \u001b[0;32m~/Desktop/L361/L361-Federated-Learning/.conda/lib/python3.10/site-packages/flwr/server/server_returns_parameters.py:357\u001b[0m, in \u001b[0;36mfit_client\u001b[0;34m(client, ins, timeout)\u001b[0m\n\u001b[1;32m    356\u001b[0m \u001b[38;5;250m\u001b[39m\u001b[38;5;124;03m\"\"\"Refine parameters on a single client.\"\"\"\u001b[39;00m\n\u001b[0;32m--> 357\u001b[0m fit_res \u001b[38;5;241m=\u001b[39m \u001b[43mclient\u001b[49m\u001b[38;5;241;43m.\u001b[39;49m\u001b[43mfit\u001b[49m\u001b[43m(\u001b[49m\u001b[43mins\u001b[49m\u001b[43m,\u001b[49m\u001b[43m \u001b[49m\u001b[43mtimeout\u001b[49m\u001b[38;5;241;43m=\u001b[39;49m\u001b[43mtimeout\u001b[49m\u001b[43m)\u001b[49m\n\u001b[1;32m    358\u001b[0m \u001b[38;5;28;01mreturn\u001b[39;00m client, fit_res\n",
      "File \u001b[0;32m~/Desktop/L361/L361-Federated-Learning/.conda/lib/python3.10/site-packages/flwr/simulation/ray_transport/fn_client_proxy.py:55\u001b[0m, in \u001b[0;36mFnClientProxy.fit\u001b[0;34m(self, ins, timeout)\u001b[0m\n\u001b[1;32m     54\u001b[0m \u001b[38;5;250m\u001b[39m\u001b[38;5;124;03m\"\"\"Train model parameters on the locally held dataset.\"\"\"\u001b[39;00m\n\u001b[0;32m---> 55\u001b[0m \u001b[38;5;28;01mreturn\u001b[39;00m \u001b[43mlaunch_and_fit\u001b[49m\u001b[43m(\u001b[49m\u001b[38;5;28;43mself\u001b[39;49m\u001b[38;5;241;43m.\u001b[39;49m\u001b[43mclient_fn\u001b[49m\u001b[43m,\u001b[49m\u001b[43m \u001b[49m\u001b[38;5;28;43mself\u001b[39;49m\u001b[38;5;241;43m.\u001b[39;49m\u001b[43mcid\u001b[49m\u001b[43m,\u001b[49m\u001b[43m \u001b[49m\u001b[43mins\u001b[49m\u001b[43m)\u001b[49m\n",
      "File \u001b[0;32m~/Desktop/L361/L361-Federated-Learning/.conda/lib/python3.10/site-packages/flwr/simulation/ray_transport/fn_client_proxy.py:100\u001b[0m, in \u001b[0;36mlaunch_and_fit\u001b[0;34m(client_fn, cid, fit_ins)\u001b[0m\n\u001b[1;32m     99\u001b[0m client: Client \u001b[38;5;241m=\u001b[39m _create_client(client_fn, cid)\n\u001b[0;32m--> 100\u001b[0m \u001b[38;5;28;01mreturn\u001b[39;00m \u001b[43mmaybe_call_fit\u001b[49m\u001b[43m(\u001b[49m\n\u001b[1;32m    101\u001b[0m \u001b[43m    \u001b[49m\u001b[43mclient\u001b[49m\u001b[38;5;241;43m=\u001b[39;49m\u001b[43mclient\u001b[49m\u001b[43m,\u001b[49m\n\u001b[1;32m    102\u001b[0m \u001b[43m    \u001b[49m\u001b[43mfit_ins\u001b[49m\u001b[38;5;241;43m=\u001b[39;49m\u001b[43mfit_ins\u001b[49m\u001b[43m,\u001b[49m\n\u001b[1;32m    103\u001b[0m \u001b[43m\u001b[49m\u001b[43m)\u001b[49m\n",
      "File \u001b[0;32m~/Desktop/L361/L361-Federated-Learning/.conda/lib/python3.10/site-packages/flwr/client/client.py:234\u001b[0m, in \u001b[0;36mmaybe_call_fit\u001b[0;34m(client, fit_ins)\u001b[0m\n\u001b[1;32m    233\u001b[0m \u001b[38;5;66;03m# If the client implements `fit`, call it\u001b[39;00m\n\u001b[0;32m--> 234\u001b[0m \u001b[38;5;28;01mreturn\u001b[39;00m \u001b[43mclient\u001b[49m\u001b[38;5;241;43m.\u001b[39;49m\u001b[43mfit\u001b[49m\u001b[43m(\u001b[49m\u001b[43mfit_ins\u001b[49m\u001b[43m)\u001b[49m\n",
      "File \u001b[0;32m~/Desktop/L361/L361-Federated-Learning/.conda/lib/python3.10/site-packages/flwr/client/numpy_client.py:238\u001b[0m, in \u001b[0;36m_fit\u001b[0;34m(self, ins)\u001b[0m\n\u001b[1;32m    237\u001b[0m \u001b[38;5;66;03m# Train\u001b[39;00m\n\u001b[0;32m--> 238\u001b[0m results \u001b[38;5;241m=\u001b[39m \u001b[38;5;28;43mself\u001b[39;49m\u001b[38;5;241;43m.\u001b[39;49m\u001b[43mnumpy_client\u001b[49m\u001b[38;5;241;43m.\u001b[39;49m\u001b[43mfit\u001b[49m\u001b[43m(\u001b[49m\u001b[43mparameters\u001b[49m\u001b[43m,\u001b[49m\u001b[43m \u001b[49m\u001b[43mins\u001b[49m\u001b[38;5;241;43m.\u001b[39;49m\u001b[43mconfig\u001b[49m\u001b[43m)\u001b[49m  \u001b[38;5;66;03m# type: ignore\u001b[39;00m\n\u001b[1;32m    239\u001b[0m \u001b[38;5;28;01mif\u001b[39;00m \u001b[38;5;129;01mnot\u001b[39;00m (\n\u001b[1;32m    240\u001b[0m     \u001b[38;5;28mlen\u001b[39m(results) \u001b[38;5;241m==\u001b[39m \u001b[38;5;241m3\u001b[39m\n\u001b[1;32m    241\u001b[0m     \u001b[38;5;129;01mand\u001b[39;00m \u001b[38;5;28misinstance\u001b[39m(results[\u001b[38;5;241m0\u001b[39m], \u001b[38;5;28mlist\u001b[39m)\n\u001b[1;32m    242\u001b[0m     \u001b[38;5;129;01mand\u001b[39;00m \u001b[38;5;28misinstance\u001b[39m(results[\u001b[38;5;241m1\u001b[39m], \u001b[38;5;28mint\u001b[39m)\n\u001b[1;32m    243\u001b[0m     \u001b[38;5;129;01mand\u001b[39;00m \u001b[38;5;28misinstance\u001b[39m(results[\u001b[38;5;241m2\u001b[39m], \u001b[38;5;28mdict\u001b[39m)\n\u001b[1;32m    244\u001b[0m ):\n",
      "File \u001b[0;32m~/Desktop/L361/L361-Federated-Learning/labs/common/secagg/client.py:98\u001b[0m, in \u001b[0;36mSecureAggregationClient.fit\u001b[0;34m(self, parameters, config)\u001b[0m\n\u001b[1;32m     84\u001b[0m \u001b[38;5;250m\u001b[39m\u001b[38;5;124;03m\"\"\"Receive and a model on the local client data.\u001b[39;00m\n\u001b[1;32m     85\u001b[0m \n\u001b[1;32m     86\u001b[0m \u001b[38;5;124;03mIt uses the instruction passed through the config dict.\u001b[39;00m\n\u001b[0;32m   (...)\u001b[0m\n\u001b[1;32m     96\u001b[0m \u001b[38;5;124;03m        dataset and other metrics\u001b[39;00m\n\u001b[1;32m     97\u001b[0m \u001b[38;5;124;03m\"\"\"\u001b[39;00m\n\u001b[0;32m---> 98\u001b[0m \u001b[38;5;28;43mself\u001b[39;49m\u001b[38;5;241;43m.\u001b[39;49m\u001b[43mreload\u001b[49m\u001b[43m(\u001b[49m\u001b[43m)\u001b[49m\n\u001b[1;32m     99\u001b[0m stage \u001b[38;5;241m=\u001b[39m config\u001b[38;5;241m.\u001b[39mpop(\u001b[38;5;124m\"\u001b[39m\u001b[38;5;124mstage\u001b[39m\u001b[38;5;124m\"\u001b[39m)\n",
      "File \u001b[0;32m~/Desktop/L361/L361-Federated-Learning/labs/common/secagg/client.py:132\u001b[0m, in \u001b[0;36mSecureAggregationClient.reload\u001b[0;34m(self)\u001b[0m\n\u001b[1;32m    131\u001b[0m     \u001b[38;5;28;01mwith\u001b[39;00m \u001b[38;5;28mopen\u001b[39m(\u001b[38;5;28mself\u001b[39m\u001b[38;5;241m.\u001b[39mcache_pth, \u001b[38;5;124m\"\u001b[39m\u001b[38;5;124mrb\u001b[39m\u001b[38;5;124m\"\u001b[39m) \u001b[38;5;28;01mas\u001b[39;00m f:\n\u001b[0;32m--> 132\u001b[0m         \u001b[38;5;28mself\u001b[39m\u001b[38;5;241m.\u001b[39m\u001b[38;5;18m__dict__\u001b[39m\u001b[38;5;241m.\u001b[39mupdate(\u001b[43mpickle\u001b[49m\u001b[38;5;241;43m.\u001b[39;49m\u001b[43mload\u001b[49m\u001b[43m(\u001b[49m\u001b[43mf\u001b[49m\u001b[43m)\u001b[49m)\n\u001b[1;32m    133\u001b[0m \u001b[38;5;28;01melse\u001b[39;00m:\n",
      "\u001b[0;31mEOFError\u001b[0m: Ran out of input",
      "\nThe above exception was the direct cause of the following exception:\n",
      "\u001b[0;31mRuntimeError\u001b[0m                              Traceback (most recent call last)",
      "Cell \u001b[0;32mIn[39], line 1\u001b[0m\n\u001b[0;32m----> 1\u001b[0m parameters_for_every_round, secagg_hist \u001b[38;5;241m=\u001b[39m \u001b[43mrun_sec_agg_demo\u001b[49m\u001b[43m(\u001b[49m\u001b[43m)\u001b[49m\n",
      "Cell \u001b[0;32mIn[38], line 15\u001b[0m, in \u001b[0;36mrun_sec_agg_demo\u001b[0;34m(num_clients_per_round, n_model_parameters, min_num_surviving_clients, n_rounds, n_samples)\u001b[0m\n\u001b[1;32m      8\u001b[0m \u001b[38;5;250m\u001b[39m\u001b[38;5;124;03m\"\"\"Execute a secure aggregation simulation.\"\"\"\u001b[39;00m\n\u001b[1;32m      9\u001b[0m strategy \u001b[38;5;241m=\u001b[39m SecureAggregationStrategy(\n\u001b[1;32m     10\u001b[0m     n_dim\u001b[38;5;241m=\u001b[39mn_model_parameters,\n\u001b[1;32m     11\u001b[0m     num_clients_per_round\u001b[38;5;241m=\u001b[39mnum_clients_per_round,\n\u001b[1;32m     12\u001b[0m     threshold\u001b[38;5;241m=\u001b[39mmin_num_surviving_clients,\n\u001b[1;32m     13\u001b[0m     num_dropouts\u001b[38;5;241m=\u001b[39mnum_clients_per_round \u001b[38;5;241m-\u001b[39m min_num_surviving_clients,\n\u001b[1;32m     14\u001b[0m )\n\u001b[0;32m---> 15\u001b[0m secagg_hist \u001b[38;5;241m=\u001b[39m \u001b[43mstart_seeded_simulation\u001b[49m\u001b[43m(\u001b[49m\n\u001b[1;32m     16\u001b[0m \u001b[43m    \u001b[49m\u001b[43mclient_fn\u001b[49m\u001b[38;5;241;43m=\u001b[39;49m\u001b[38;5;28;43;01mlambda\u001b[39;49;00m\u001b[43m \u001b[49m\u001b[43mcid\u001b[49m\u001b[43m:\u001b[49m\u001b[43m \u001b[49m\u001b[43mget_client_generator\u001b[49m\u001b[43m(\u001b[49m\n\u001b[1;32m     17\u001b[0m \u001b[43m        \u001b[49m\u001b[43mn_model_parameters\u001b[49m\u001b[43m,\u001b[49m\u001b[43m \u001b[49m\u001b[43mn_samples\u001b[49m\u001b[43m,\u001b[49m\u001b[43m \u001b[49m\u001b[43mkeys_dir\u001b[49m\n\u001b[1;32m     18\u001b[0m \u001b[43m    \u001b[49m\u001b[43m)\u001b[49m\u001b[43m(\u001b[49m\u001b[43mcid\u001b[49m\u001b[43m)\u001b[49m\u001b[38;5;241;43m.\u001b[39;49m\u001b[43mto_client\u001b[49m\u001b[43m(\u001b[49m\u001b[43m)\u001b[49m\u001b[43m,\u001b[49m\n\u001b[1;32m     19\u001b[0m \u001b[43m    \u001b[49m\u001b[43mnum_clients\u001b[49m\u001b[38;5;241;43m=\u001b[39;49m\u001b[43mnum_total_clients\u001b[49m\u001b[43m,\u001b[49m\n\u001b[1;32m     20\u001b[0m \u001b[43m    \u001b[49m\u001b[38;5;66;43;03m# this refers to the number of phases to simulate (must be 4*n_rounds)\u001b[39;49;00m\n\u001b[1;32m     21\u001b[0m \u001b[43m    \u001b[49m\u001b[43mconfig\u001b[49m\u001b[38;5;241;43m=\u001b[39;49m\u001b[43mServerConfig\u001b[49m\u001b[43m(\u001b[49m\u001b[43mnum_rounds\u001b[49m\u001b[38;5;241;43m=\u001b[39;49m\u001b[38;5;28;43mint\u001b[39;49m\u001b[43m(\u001b[49m\u001b[38;5;241;43m4\u001b[39;49m\u001b[43m \u001b[49m\u001b[38;5;241;43m*\u001b[39;49m\u001b[43m \u001b[49m\u001b[43mn_rounds\u001b[49m\u001b[43m)\u001b[49m\u001b[43m)\u001b[49m\u001b[43m,\u001b[49m\n\u001b[1;32m     22\u001b[0m \u001b[43m    \u001b[49m\u001b[43mstrategy\u001b[49m\u001b[38;5;241;43m=\u001b[39;49m\u001b[43mstrategy\u001b[49m\u001b[43m,\u001b[49m\n\u001b[1;32m     23\u001b[0m \u001b[43m    \u001b[49m\u001b[43mname\u001b[49m\u001b[38;5;241;43m=\u001b[39;49m\u001b[38;5;124;43mf\u001b[39;49m\u001b[38;5;124;43m\"\u001b[39;49m\u001b[38;5;124;43msecagg_\u001b[39;49m\u001b[38;5;132;43;01m{\u001b[39;49;00m\u001b[43mnum_clients_per_round\u001b[49m\u001b[38;5;132;43;01m}\u001b[39;49;00m\u001b[38;5;124;43m_\u001b[39;49m\u001b[38;5;132;43;01m{\u001b[39;49;00m\u001b[43mn_model_parameters\u001b[49m\u001b[38;5;132;43;01m}\u001b[39;49;00m\u001b[38;5;124;43m_\u001b[39;49m\u001b[38;5;132;43;01m{\u001b[39;49;00m\u001b[43mmin_num_surviving_clients\u001b[49m\u001b[38;5;132;43;01m}\u001b[39;49;00m\u001b[38;5;124;43m_\u001b[39;49m\u001b[38;5;132;43;01m{\u001b[39;49;00m\u001b[43mn_rounds\u001b[49m\u001b[38;5;132;43;01m}\u001b[39;49;00m\u001b[38;5;124;43m_\u001b[39;49m\u001b[38;5;132;43;01m{\u001b[39;49;00m\u001b[43mn_samples\u001b[49m\u001b[38;5;132;43;01m}\u001b[39;49;00m\u001b[38;5;124;43m\"\u001b[39;49m\u001b[43m,\u001b[49m\n\u001b[1;32m     24\u001b[0m \u001b[43m\u001b[49m\u001b[43m)\u001b[49m\n\u001b[1;32m     25\u001b[0m \u001b[38;5;66;03m# Clean up keys from the folder\u001b[39;00m\n\u001b[1;32m     26\u001b[0m \u001b[38;5;28;01mfor\u001b[39;00m filename \u001b[38;5;129;01min\u001b[39;00m os\u001b[38;5;241m.\u001b[39mlistdir(keys_dir):\n",
      "Cell \u001b[0;32mIn[30], line 35\u001b[0m, in \u001b[0;36mstart_seeded_simulation\u001b[0;34m(client_fn, num_clients, config, strategy, name, seed, iteration)\u001b[0m\n\u001b[1;32m     33\u001b[0m torch\u001b[38;5;241m.\u001b[39mmanual_seed(seed \u001b[38;5;241m^\u001b[39m iteration)\n\u001b[1;32m     34\u001b[0m random\u001b[38;5;241m.\u001b[39mseed(seed \u001b[38;5;241m^\u001b[39m iteration)\n\u001b[0;32m---> 35\u001b[0m parameter_list, hist \u001b[38;5;241m=\u001b[39m \u001b[43mfl\u001b[49m\u001b[38;5;241;43m.\u001b[39;49m\u001b[43msimulation\u001b[49m\u001b[38;5;241;43m.\u001b[39;49m\u001b[43mstart_simulation_no_ray\u001b[49m\u001b[43m(\u001b[49m\n\u001b[1;32m     36\u001b[0m \u001b[43m    \u001b[49m\u001b[43mclient_fn\u001b[49m\u001b[38;5;241;43m=\u001b[39;49m\u001b[43mclient_fn\u001b[49m\u001b[43m,\u001b[49m\n\u001b[1;32m     37\u001b[0m \u001b[43m    \u001b[49m\u001b[43mnum_clients\u001b[49m\u001b[38;5;241;43m=\u001b[39;49m\u001b[43mnum_clients\u001b[49m\u001b[43m,\u001b[49m\n\u001b[1;32m     38\u001b[0m \u001b[43m    \u001b[49m\u001b[43mclient_resources\u001b[49m\u001b[38;5;241;43m=\u001b[39;49m\u001b[43m{\u001b[49m\u001b[43m}\u001b[49m\u001b[43m,\u001b[49m\n\u001b[1;32m     39\u001b[0m \u001b[43m    \u001b[49m\u001b[43mconfig\u001b[49m\u001b[38;5;241;43m=\u001b[39;49m\u001b[43mconfig\u001b[49m\u001b[43m,\u001b[49m\n\u001b[1;32m     40\u001b[0m \u001b[43m    \u001b[49m\u001b[43mstrategy\u001b[49m\u001b[38;5;241;43m=\u001b[39;49m\u001b[43mstrategy\u001b[49m\u001b[43m,\u001b[49m\n\u001b[1;32m     41\u001b[0m \u001b[43m\u001b[49m\u001b[43m)\u001b[49m\n\u001b[1;32m     42\u001b[0m save_history(hist, name)\n\u001b[1;32m     43\u001b[0m \u001b[38;5;28;01mreturn\u001b[39;00m parameter_list, hist\n",
      "File \u001b[0;32m~/Desktop/L361/L361-Federated-Learning/.conda/lib/python3.10/site-packages/flwr/simulation/app.py:208\u001b[0m, in \u001b[0;36mstart_simulation_no_ray\u001b[0;34m(client_fn, num_clients, clients_ids, client_resources, server, config, strategy, client_manager)\u001b[0m\n\u001b[1;32m    190\u001b[0m     log(ERROR, traceback\u001b[38;5;241m.\u001b[39mformat_exc())\n\u001b[1;32m    191\u001b[0m     log(\n\u001b[1;32m    192\u001b[0m         ERROR,\n\u001b[1;32m    193\u001b[0m         \u001b[38;5;124m\"\u001b[39m\u001b[38;5;124mYour simulation crashed :(. This could be because of several reasons.\u001b[39m\u001b[38;5;124m\"\u001b[39m\n\u001b[0;32m   (...)\u001b[0m\n\u001b[1;32m    206\u001b[0m         client_resources,\n\u001b[1;32m    207\u001b[0m     )\n\u001b[0;32m--> 208\u001b[0m     \u001b[38;5;28;01mraise\u001b[39;00m \u001b[38;5;167;01mRuntimeError\u001b[39;00m(\u001b[38;5;124m\"\u001b[39m\u001b[38;5;124mSimulation crashed.\u001b[39m\u001b[38;5;124m\"\u001b[39m) \u001b[38;5;28;01mfrom\u001b[39;00m\u001b[38;5;250m \u001b[39m\u001b[38;5;21;01mex\u001b[39;00m\n\u001b[1;32m    211\u001b[0m \u001b[38;5;28;01mreturn\u001b[39;00m parameters_list,hist\n",
      "\u001b[0;31mRuntimeError\u001b[0m: Simulation crashed."
     ]
    }
   ],
   "source": [
    "parameters_for_every_round, secagg_hist = run_sec_agg_demo()"
   ]
  },
  {
   "cell_type": "code",
   "execution_count": null,
   "metadata": {
    "colab": {
     "base_uri": "https://localhost:8080/"
    },
    "executionInfo": {
     "elapsed": 3,
     "status": "ok",
     "timestamp": 1703272175717,
     "user": {
      "displayName": "Alexandru-Andrei Iacob",
      "userId": "00751686620367198202"
     },
     "user_tz": -120
    },
    "id": "MdmikIdlqu9u",
    "outputId": "422f0d4d-8db4-4c4b-b826-54a11f684b10"
   },
   "outputs": [],
   "source": [
    "secagg_hist"
   ]
  },
  {
   "cell_type": "markdown",
   "metadata": {
    "id": "28jYprcYqtTU"
   },
   "source": [
    "Looking carefully at the `History` object returned by the simulation, we can see that it contains the key `total_cost`, which couples the round of communication with the number of bytes exchanged during that round.\n",
    "Note that the values are periodic because of the 4 phases involved in the protocol.\n"
   ]
  },
  {
   "cell_type": "markdown",
   "metadata": {
    "id": "LQO3PLX8q_HT"
   },
   "source": [
    "**Question 9 (Part II ✅ | Part III/MPhil ✅):**\n",
    "\n",
    "(You need to provide the answer with **code** and **plots** for this question. A short written argumentation is recommended.)\n",
    "\n",
    "Using the function `run_SA_demo`, study the impact of different parameters on the `total_cost`:\n",
    "\n",
    "1. Draw a scatter plot with the `total_cost` summed across rounds on the y-axis. While keeping all other parameters constant to the above values, vary the `num_clients_per_round` from 10 to 40 using an increment of 10. Use the `num_clients_per_round` as the x-axis.\n",
    "\n",
    "2. Draw a scatter plot with the `total_cost` summed across rounds on the y-axis. While keeping all other parameters constant to the above values, vary `n_model_parameters` between $2^{10}$ and $2^{15}$ increasing using all the powers of two in the interval. Use the `n_model_parameters` as the x-axis.\n",
    "\n",
    "3. Describe the trade-offs you see and how they relate to communication overheads.\n"
   ]
  },
  {
   "cell_type": "markdown",
   "metadata": {
    "id": "UvAEbsnFrAEP"
   },
   "source": [
    "**Question 10 (Part III/MPhil ✅):**\n",
    "\n",
    "(This is a purely conceptual question. Answer in **no more than 10 sentences each**.)\n",
    "\n",
    "After reading the [paper](https://arxiv.org/abs/1611.04482) and experimenting with the additional communication costs of Secure Aggregation in FL, discuss the implication of using this protocol in a real FL setting. You may want to discriminate between cross-silo and cross-device settings. You can focus on communication and computation overheads and refer to the asymptotic complexity of both.\n"
   ]
  },
  {
   "cell_type": "markdown",
   "metadata": {
    "id": "Nitz_RnWVWmQ"
   },
   "source": [
    "(c) 2024 Alexandru-Andrei Iacob, Lorenzo Sani\n"
   ]
  }
 ],
 "metadata": {
  "colab": {
   "collapsed_sections": [
    "T_-VhIG0szzo",
    "2Sz3p_A0szzq",
    "RJ9VT7Fzszzp"
   ],
   "provenance": [
    {
     "file_id": "13JmCZ1DGUuwd7Iq-4nHqKrC5CXB4GAu2",
     "timestamp": 1703271252536
    },
    {
     "file_id": "1_j2Gpn6gqpWA5KJkbkhZh5_rQyLLx2-a",
     "timestamp": 1676991800894
    },
    {
     "file_id": "1aAIM403hPVDGafDmq7Q00t57LX0VvpDv",
     "timestamp": 1676667921796
    }
   ]
  },
  "kernelspec": {
   "display_name": "Python 3",
   "name": "python3"
  },
  "language_info": {
   "codemirror_mode": {
    "name": "ipython",
    "version": 3
   },
   "file_extension": ".py",
   "mimetype": "text/x-python",
   "name": "python",
   "nbconvert_exporter": "python",
   "pygments_lexer": "ipython3",
   "version": "3.10.16"
  },
  "vscode": {
   "interpreter": {
    "hash": "f60f5a2c15992c74df12f0554524b987217e124a6a47cf1bc494002bece5a18b"
   }
  }
 },
 "nbformat": 4,
 "nbformat_minor": 0
}
