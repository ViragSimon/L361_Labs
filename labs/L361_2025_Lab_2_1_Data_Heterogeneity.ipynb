{
 "cells": [
  {
   "cell_type": "markdown",
   "metadata": {
    "id": "WWD2QvC22_0W"
   },
   "source": [
    "# 0. Marking and Guidelines\n",
    "---\n",
    "***IMPORTANT***\n",
    "\n",
    "> The **attendance** and **active participation** in the **lab sessions** is **strongly recommended** and will be considered for grading.\n",
    ">\n",
    "> Save a copy of this notebook into your Drive before you start\n",
    "> \n",
    "> Please attempt all the **questions** marked for your **group** (Part II ✅ | Part III/MPhil ✅).\n",
    "> \n",
    "> Continue to **\"Part 2\"** after you are done with this **\"Part 1\"**.\n",
    ">\n",
    "> Please, provide your answers in a **new cell below the question cell**. You can make as many new cells as you need.\n",
    "\n",
    "Please submit a `.zip` file, containing both parts, consisting of:\n",
    "1. A text file with a **publicly** visible link to your notebooks in GitHub.\n",
    "2. A **downloaded copy** (`.ipynb`) of your notebooks or your zipped cloned GitHub repo. You may treat these as a report---we will not be re-executing the code you used to produce the answers unless required.\n",
    "\n",
    "\n",
    "Feel free to attempt more in case you find yourself enjoying the material!\n",
    "If you have any questions, please ask them to the teaching assistants.\n",
    "Are you interested in knowing more about federated learning and related topics? Reach out to the teaching assistants for additional resources and ask more about the current research projects."
   ]
  },
  {
   "cell_type": "markdown",
   "metadata": {
    "id": "_RVKTUExooKZ"
   },
   "source": [
    "## 1. Introduction\n",
    "---\n",
    "\n",
    "Welcome to the second lab session in our FL course.\n",
    "We have already explored how to “federate” a centralized ML model.\n",
    "You should now be able to understand who are the main actors in an FL orchestration.\n",
    "\n",
    "In this lab, we will go a step further using all the tools we learned previously.\n",
    "This lab will focus on the behaviour of an FL system under **heterogeneity**.\n",
    "You may know that heterogeneity represents both an intrinsic property and a challenge in a real FL setting.\n",
    "The literature agrees with splitting this property into two main categories.\n",
    "\n",
    "- We will refer to **system heterogeneity** when the clients, or more generally the participants, of the federation, have very different hardware from each other. This may condition clients' availability and participation in FL rounds. _NOTE: the availability of clients could also depend on network conditions that are independent of the device's hardware. This particular heterogeneity will fall in this category as well._ In this lab, we will mostly refer to **data heterogeneity**. This occurs in those settings in which clients' datasets are non-i.i.d. (non-independent and identically distributed), which is the most frequent case. Even if it is quite obvious, it is worth saying that real distributed collections of data are intrinsically non-i.i.d. Thus creating more than a few statistical concerns on the convergence of widely used algorithms which assume i.i.d. samples.\n",
    "\n",
    "_NOTE: for a more comprehensive discussion we suggest reading Sec.3.1 from [Advanced and Open Problems in Federated Learning](https://www.nowpublishers.com/article/Details/MAL-083)._\n"
   ]
  },
  {
   "cell_type": "markdown",
   "metadata": {
    "id": "9b3v_pcscNZW"
   },
   "source": [
    "## 2. An overview of data heterogeneity\n",
    "---\n",
    "\n",
    "Data heterogeneity has been extensively investigated and characterized in statistics and other fields. Here we want to start with a quick overview of the flavours that come to light in FL:\n",
    "\n",
    "- **Feature distribution skew**\n",
    "- **Label distribution skew**\n",
    "- **Quantity skew**\n",
    "- _Same label, different features_\n",
    "- _Same features, different label_\n",
    "- _Violation of Independence_\n",
    "- _Dataset Shift_\n",
    "\n",
    "During this lab we will get into more detail about the first three categories only---those bolded.\n",
    "\n",
    "It is crucial to say that a naturally partitioned dataset, also referred to as a \"real FL dataset”, usually presents a combination of more than one of these properties. This enforces developers to take into account **all of these** during the building of the FL pipeline because in real settings **we cannot see or touch data**. I like to exemplify such a situation using a metaphor: data in FL are like a Schroedinger's cat for which we cannot open the cage. Before looking into the details of these flavours, let's install and load some useful packages.\n"
   ]
  },
  {
   "cell_type": "code",
   "execution_count": 7,
   "metadata": {
    "colab": {
     "base_uri": "https://localhost:8080/"
    },
    "id": "Bbc-zZGqJDJB",
    "outputId": "32718d4f-1a1c-4f06-e1d3-79116d532f4c"
   },
   "outputs": [
    {
     "name": "stdout",
     "output_type": "stream",
     "text": [
      "Collecting git+https://github.com/Iacob-Alexandru-Andrei/flower.git@teaching\n",
      "  Cloning https://github.com/Iacob-Alexandru-Andrei/flower.git (to revision teaching) to /private/var/folders/6j/51pt41xs611cqzmtybytnss40000gn/T/pip-req-build-tjp8yqr2\n",
      "  Running command git clone --filter=blob:none --quiet https://github.com/Iacob-Alexandru-Andrei/flower.git /private/var/folders/6j/51pt41xs611cqzmtybytnss40000gn/T/pip-req-build-tjp8yqr2\n",
      "  Running command git checkout -b teaching --track origin/teaching\n",
      "  Switched to a new branch 'teaching'\n",
      "  Branch 'teaching' set up to track remote branch 'teaching' from 'origin'.\n",
      "  Resolved https://github.com/Iacob-Alexandru-Andrei/flower.git to commit 1c4fcc1d4a6e8022ddf6f94ebedef1b8e70e0fc4\n",
      "  Installing build dependencies ... \u001b[?25ldone\n",
      "\u001b[?25h  Getting requirements to build wheel ... \u001b[?25ldone\n",
      "\u001b[?25h  Preparing metadata (pyproject.toml) ... \u001b[?25ldone\n",
      "\u001b[?25hRequirement already satisfied: torch in /Users/macbook/Desktop/L361/L361-Federated-Learning/.conda/lib/python3.10/site-packages (2.6.0)\n",
      "Requirement already satisfied: torchvision in /Users/macbook/Desktop/L361/L361-Federated-Learning/.conda/lib/python3.10/site-packages (0.21.0)\n",
      "Requirement already satisfied: ray==2.6.3 in /Users/macbook/Desktop/L361/L361-Federated-Learning/.conda/lib/python3.10/site-packages (2.6.3)\n",
      "Requirement already satisfied: click>=7.0 in /Users/macbook/Desktop/L361/L361-Federated-Learning/.conda/lib/python3.10/site-packages (from ray==2.6.3) (8.1.8)\n",
      "Requirement already satisfied: filelock in /Users/macbook/Desktop/L361/L361-Federated-Learning/.conda/lib/python3.10/site-packages (from ray==2.6.3) (3.17.0)\n",
      "Requirement already satisfied: jsonschema in /Users/macbook/Desktop/L361/L361-Federated-Learning/.conda/lib/python3.10/site-packages (from ray==2.6.3) (4.23.0)\n",
      "Requirement already satisfied: msgpack<2.0.0,>=1.0.0 in /Users/macbook/Desktop/L361/L361-Federated-Learning/.conda/lib/python3.10/site-packages (from ray==2.6.3) (1.1.0)\n",
      "Requirement already satisfied: packaging in /Users/macbook/Desktop/L361/L361-Federated-Learning/.conda/lib/python3.10/site-packages (from ray==2.6.3) (24.2)\n",
      "Requirement already satisfied: protobuf!=3.19.5,>=3.15.3 in /Users/macbook/Desktop/L361/L361-Federated-Learning/.conda/lib/python3.10/site-packages (from ray==2.6.3) (3.20.3)\n",
      "Requirement already satisfied: pyyaml in /Users/macbook/Desktop/L361/L361-Federated-Learning/.conda/lib/python3.10/site-packages (from ray==2.6.3) (6.0.2)\n",
      "Requirement already satisfied: aiosignal in /Users/macbook/Desktop/L361/L361-Federated-Learning/.conda/lib/python3.10/site-packages (from ray==2.6.3) (1.3.2)\n",
      "Requirement already satisfied: frozenlist in /Users/macbook/Desktop/L361/L361-Federated-Learning/.conda/lib/python3.10/site-packages (from ray==2.6.3) (1.5.0)\n",
      "Requirement already satisfied: requests in /Users/macbook/Desktop/L361/L361-Federated-Learning/.conda/lib/python3.10/site-packages (from ray==2.6.3) (2.32.3)\n",
      "Requirement already satisfied: grpcio>=1.42.0 in /Users/macbook/Desktop/L361/L361-Federated-Learning/.conda/lib/python3.10/site-packages (from ray==2.6.3) (1.70.0)\n",
      "Requirement already satisfied: numpy>=1.19.3 in /Users/macbook/Desktop/L361/L361-Federated-Learning/.conda/lib/python3.10/site-packages (from ray==2.6.3) (1.26.4)\n",
      "Requirement already satisfied: cryptography<42.0.0,>=41.0.2 in /Users/macbook/Desktop/L361/L361-Federated-Learning/.conda/lib/python3.10/site-packages (from flwr==1.7.0) (41.0.7)\n",
      "Requirement already satisfied: iterators<0.0.3,>=0.0.2 in /Users/macbook/Desktop/L361/L361-Federated-Learning/.conda/lib/python3.10/site-packages (from flwr==1.7.0) (0.0.2)\n",
      "Requirement already satisfied: pycryptodome<4.0.0,>=3.18.0 in /Users/macbook/Desktop/L361/L361-Federated-Learning/.conda/lib/python3.10/site-packages (from flwr==1.7.0) (3.21.0)\n",
      "Requirement already satisfied: typing-extensions>=4.10.0 in /Users/macbook/.local/lib/python3.10/site-packages (from torch) (4.12.2)\n",
      "Requirement already satisfied: networkx in /Users/macbook/Desktop/L361/L361-Federated-Learning/.conda/lib/python3.10/site-packages (from torch) (3.4.2)\n",
      "Requirement already satisfied: jinja2 in /Users/macbook/Desktop/L361/L361-Federated-Learning/.conda/lib/python3.10/site-packages (from torch) (3.1.5)\n",
      "Requirement already satisfied: fsspec in /Users/macbook/Desktop/L361/L361-Federated-Learning/.conda/lib/python3.10/site-packages (from torch) (2025.2.0)\n",
      "Requirement already satisfied: sympy==1.13.1 in /Users/macbook/Desktop/L361/L361-Federated-Learning/.conda/lib/python3.10/site-packages (from torch) (1.13.1)\n",
      "Requirement already satisfied: mpmath<1.4,>=1.1.0 in /Users/macbook/Desktop/L361/L361-Federated-Learning/.conda/lib/python3.10/site-packages (from sympy==1.13.1->torch) (1.3.0)\n",
      "Requirement already satisfied: pillow!=8.3.*,>=5.3.0 in /Users/macbook/Desktop/L361/L361-Federated-Learning/.conda/lib/python3.10/site-packages (from torchvision) (11.1.0)\n",
      "Requirement already satisfied: cffi>=1.12 in /Users/macbook/Desktop/L361/L361-Federated-Learning/.conda/lib/python3.10/site-packages (from cryptography<42.0.0,>=41.0.2->flwr==1.7.0) (1.17.1)\n",
      "Requirement already satisfied: MarkupSafe>=2.0 in /Users/macbook/Desktop/L361/L361-Federated-Learning/.conda/lib/python3.10/site-packages (from jinja2->torch) (3.0.2)\n",
      "Requirement already satisfied: attrs>=22.2.0 in /Users/macbook/Desktop/L361/L361-Federated-Learning/.conda/lib/python3.10/site-packages (from jsonschema->ray==2.6.3) (25.1.0)\n",
      "Requirement already satisfied: jsonschema-specifications>=2023.03.6 in /Users/macbook/Desktop/L361/L361-Federated-Learning/.conda/lib/python3.10/site-packages (from jsonschema->ray==2.6.3) (2024.10.1)\n",
      "Requirement already satisfied: referencing>=0.28.4 in /Users/macbook/Desktop/L361/L361-Federated-Learning/.conda/lib/python3.10/site-packages (from jsonschema->ray==2.6.3) (0.36.2)\n",
      "Requirement already satisfied: rpds-py>=0.7.1 in /Users/macbook/Desktop/L361/L361-Federated-Learning/.conda/lib/python3.10/site-packages (from jsonschema->ray==2.6.3) (0.22.3)\n",
      "Requirement already satisfied: charset-normalizer<4,>=2 in /Users/macbook/Desktop/L361/L361-Federated-Learning/.conda/lib/python3.10/site-packages (from requests->ray==2.6.3) (3.4.1)\n",
      "Requirement already satisfied: idna<4,>=2.5 in /Users/macbook/Desktop/L361/L361-Federated-Learning/.conda/lib/python3.10/site-packages (from requests->ray==2.6.3) (3.10)\n",
      "Requirement already satisfied: urllib3<3,>=1.21.1 in /Users/macbook/Desktop/L361/L361-Federated-Learning/.conda/lib/python3.10/site-packages (from requests->ray==2.6.3) (2.3.0)\n",
      "Requirement already satisfied: certifi>=2017.4.17 in /Users/macbook/Desktop/L361/L361-Federated-Learning/.conda/lib/python3.10/site-packages (from requests->ray==2.6.3) (2025.1.31)\n",
      "Requirement already satisfied: pycparser in /Users/macbook/Desktop/L361/L361-Federated-Learning/.conda/lib/python3.10/site-packages (from cffi>=1.12->cryptography<42.0.0,>=41.0.2->flwr==1.7.0) (2.22)\n",
      "\u001b[34m==>\u001b[0m \u001b[1mAuto-updating Homebrew...\u001b[0m\n",
      "Adjust how often this is run with HOMEBREW_AUTO_UPDATE_SECS or disable with\n",
      "HOMEBREW_NO_AUTO_UPDATE. Hide these hints with HOMEBREW_NO_ENV_HINTS (see `man brew`).\n",
      "\u001b[34m==>\u001b[0m \u001b[1mAuto-updated Homebrew!\u001b[0m\n",
      "\u001b[34m==>\u001b[0m \u001b[1mUpdated Homebrew from 49999e8727 to 2e211a5332.\u001b[0m\n",
      "Updated 3 taps (homebrew/services, homebrew/core and homebrew/cask).\n",
      "\u001b[34m==>\u001b[0m \u001b[1mNew Formulae\u001b[0m\n",
      "bagels       comrak       ggh          lazyjj       sby          yices2\n",
      "cfnctl       gauth        hcledit      ramalama     threatcl     yor\n",
      "\u001b[34m==>\u001b[0m \u001b[1mNew Casks\u001b[0m\n",
      "autogram\n",
      "\n",
      "You have \u001b[1m29\u001b[0m outdated formulae installed.\n",
      "\n"
     ]
    }
   ],
   "source": [
    "# `pip` could produce some errors. Do not worry about them.\n",
    "# The execution has been verified; it's working anyway.\n",
    "! pip install --quiet --upgrade \"pip\"\n",
    "! pip install --quiet matplotlib tqdm seaborn\n",
    "! pip install git+https://github.com/Iacob-Alexandru-Andrei/flower.git@teaching \\\n",
    "    torch torchvision ray==\"2.6.3\"\n",
    "# The following is just needed to show the folder tree\n",
    "! brew install -qq tree"
   ]
  },
  {
   "cell_type": "code",
   "execution_count": 8,
   "metadata": {
    "id": "99aC-H3gr5ey"
   },
   "outputs": [],
   "source": [
    "import sys\n",
    "import shutil\n",
    "import random\n",
    "import tarfile\n",
    "from collections.abc import Callable\n",
    "from copy import deepcopy\n",
    "from pathlib import Path\n",
    "from typing import Any, ClassVar\n",
    "from types import MethodType\n",
    "from logging import INFO\n",
    "\n",
    "import flwr as fl\n",
    "import matplotlib.pyplot as plt\n",
    "import numpy as np\n",
    "\n",
    "\n",
    "import seaborn as sns\n",
    "import pandas as pd\n",
    "import torch\n",
    "from torch import nn\n",
    "from flwr.common.parameter import ndarrays_to_parameters\n",
    "from flwr.common.typing import NDArrays, Parameters, Scalar\n",
    "from flwr.common.logger import log\n",
    "from flwr.server import ServerConfig, History\n",
    "from flwr.server.strategy import FedAvg, Strategy\n",
    "from torch.nn import Module\n",
    "from torch.utils.data import DataLoader, Dataset\n",
    "from torchvision import transforms\n",
    "from tqdm import tqdm\n",
    "from enum import IntEnum\n",
    "from flwr.client import Client\n",
    "from flwr.server.client_proxy import ClientProxy\n",
    "from flwr.common import FitRes, parameters_to_ndarrays\n",
    "\n",
    "from common.femnist_dataset import FEMNIST\n",
    "from common.client_utils import (\n",
    "    to_tensor_transform,\n",
    "    get_network_generator_mlp,\n",
    "    get_network_generator_cnn,\n",
    "    get_model_parameters,\n",
    "    get_federated_evaluation_function,\n",
    "    aggregate_weighted_average,\n",
    "    get_device,\n",
    "    save_history,\n",
    ")\n",
    "from common.lda_utils import create_lda_partitions\n",
    "from common.client import FlowerClient, get_flower_client_generator\n",
    "\n",
    "\n",
    "# Add new seeds here for easy autocomplete\n",
    "class Seeds(IntEnum):\n",
    "    \"\"\"Seeds for reproducibility.\"\"\"\n",
    "\n",
    "    DEFAULT = 1337\n",
    "\n",
    "\n",
    "def fit_client_seeded(\n",
    "    client: FlowerClient,\n",
    "    params: NDArrays,\n",
    "    conf: dict[str, Any],\n",
    "    seed: Seeds = Seeds.DEFAULT,\n",
    "    **kwargs: Any,\n",
    ") -> tuple[NDArrays, int, dict]:\n",
    "    \"\"\"Wrap to always seed client training.\"\"\"\n",
    "    np.random.seed(seed)\n",
    "    torch.manual_seed(seed)\n",
    "    random.seed(seed)\n",
    "    return client.fit(params, conf, **kwargs)\n",
    "\n",
    "\n",
    "np.random.seed(Seeds.DEFAULT)\n",
    "random.seed(Seeds.DEFAULT)\n",
    "torch.manual_seed(Seeds.DEFAULT)\n",
    "torch.backends.cudnn.benchmark = False\n",
    "torch.backends.cudnn.deterministic = True\n",
    "\n",
    "PathType = Path | str | None"
   ]
  },
  {
   "cell_type": "markdown",
   "metadata": {
    "id": "smKbgZnrJGsX"
   },
   "source": [
    "Another important ingredient, necessary to analyse heterogeneity, is a labelled dataset. We will use FEMNIST since we are all familiar with it now. We will initially load the same version of the dataset used in the previous lab, then we will start creating partitions at will.\n"
   ]
  },
  {
   "cell_type": "code",
   "execution_count": 9,
   "metadata": {
    "id": "2hQhnTM0JU9y"
   },
   "outputs": [],
   "source": [
    "home_dir = Path.cwd()\n",
    "dataset_dir: Path = home_dir / \"femnist\"\n",
    "data_dir: Path = dataset_dir / \"data\"\n",
    "centralized_partition: Path = dataset_dir / \"client_data_mappings\" / \"centralized\"\n",
    "centralized_mapping: Path = dataset_dir / \"client_data_mappings\" / \"centralized\" / \"0\"\n",
    "federated_partition: Path = dataset_dir / \"client_data_mappings\" / \"fed_natural\""
   ]
  },
  {
   "cell_type": "code",
   "execution_count": 10,
   "metadata": {},
   "outputs": [],
   "source": [
    "def start_seeded_simulation(\n",
    "    client_fn: Callable[[str], Client],\n",
    "    num_clients: int,\n",
    "    config: ServerConfig,\n",
    "    strategy: Strategy,\n",
    "    name: str,\n",
    "    seed: int = Seeds.DEFAULT,\n",
    "    iteration: int = 0,\n",
    ") -> tuple[list[tuple[int, NDArrays]], History]:\n",
    "    \"\"\"Wrap simulation to always seed client selection.\"\"\"\n",
    "    np.random.seed(seed ^ iteration)\n",
    "    torch.manual_seed(seed ^ iteration)\n",
    "    random.seed(seed ^ iteration)\n",
    "    parameter_list, hist = fl.simulation.start_simulation_no_ray(\n",
    "        client_fn=client_fn,\n",
    "        num_clients=num_clients,\n",
    "        client_resources={},\n",
    "        config=config,\n",
    "        strategy=strategy,\n",
    "    )\n",
    "    save_history(home_dir, hist, name)\n",
    "    return parameter_list, hist"
   ]
  },
  {
   "cell_type": "code",
   "execution_count": 11,
   "metadata": {
    "id": "twoHcMsJ4n8T"
   },
   "outputs": [],
   "source": [
    "# Decompress dataset\n",
    "if not dataset_dir.exists():\n",
    "    with tarfile.open(home_dir / \"femnist.tar.gz\", \"r:gz\") as tar:\n",
    "        tar.extractall(path=home_dir)\n",
    "    log(INFO, \"Dataset extracted in %s\", dataset_dir)"
   ]
  },
  {
   "cell_type": "markdown",
   "metadata": {
    "id": "6EVPpFjuwoBm"
   },
   "source": [
    "We also need the dataset object. We will use the same as in the previous lab.\n"
   ]
  },
  {
   "cell_type": "markdown",
   "metadata": {
    "id": "cLx7-YaNud_e"
   },
   "source": [
    "### 2.1 Feature distribution skew\n",
    "---\n",
    "\n",
    "Statisticians and data scientists refer to this property as \"covariate shift”. It happens when different clients present samples which describe ideally the same objects having slightly different features. That is the case for two different writers hand-writing the same word, since these may have different stroke widths, slants, etc.\n",
    "What happens to an FL setting in which this property is strong is not always predictable. Ideally, the global model, obtained using FedAvg, will try to learn a shared representation between clients. This could be problematic since clients have different features to represent their data. We could simply expect that the same seed model trained separately on local clients may perform better than a global model obtained in an FL training.\n",
    "\n",
    "To see this property in our chosen dataset we will show two images for the same number taken from different clients.\n",
    "_NOTE: the choice of clients and samples in the following is not random, but suitably made to show you the property._\n"
   ]
  },
  {
   "cell_type": "code",
   "execution_count": 12,
   "metadata": {
    "colab": {
     "base_uri": "https://localhost:8080/",
     "height": 253
    },
    "id": "GQSu0BsBw_tO",
    "outputId": "ca9a8035-55f7-4112-af63-210f7c5bec35"
   },
   "outputs": [
    {
     "name": "stderr",
     "output_type": "stream",
     "text": [
      "INFO flwr 2025-02-12 13:19:37,878 | 2179019995.py:10 | For client 0, sample 4 has label 24\n",
      "INFO flwr 2025-02-12 13:19:37,879 | 2179019995.py:11 | For client 1000, sample 0 has label 24\n"
     ]
    },
    {
     "data": {
      "text/plain": [
       "<matplotlib.image.AxesImage at 0x1035ffe50>"
      ]
     },
     "execution_count": 12,
     "metadata": {},
     "output_type": "execute_result"
    },
    {
     "data": {
      "image/png": "[encoded data removed]",
      "text/plain": [
       "<Figure size 640x480 with 2 Axes>"
      ]
     },
     "metadata": {},
     "output_type": "display_data"
    }
   ],
   "source": [
    "client_0_dataset: FEMNIST = FEMNIST(\n",
    "    mapping=federated_partition / \"0\", data_dir=data_dir, name=\"train\"\n",
    ")\n",
    "client_1000_dataset: FEMNIST = FEMNIST(\n",
    "    mapping=federated_partition / \"1000\", data_dir=data_dir, name=\"train\"\n",
    ")\n",
    "img_a, label_a = client_0_dataset[4]\n",
    "img_b, label_b = client_1000_dataset[0]\n",
    "\n",
    "log(INFO, f\"For client 0, sample 4 has label {label_a}\")\n",
    "log(INFO, f\"For client 1000, sample 0 has label {label_b}\")\n",
    "# display images\n",
    "fig, ax = plt.subplots(1, 2)\n",
    "ax[0].imshow(img_a)\n",
    "ax[1].imshow(img_b)"
   ]
  },
  {
   "cell_type": "markdown",
   "metadata": {
    "id": "o8BULdP73HYV"
   },
   "source": [
    "We can also compare the average values of all the features for all the samples of these clients having the label chosen. You can try to execute the cell below choosing different labels.\n"
   ]
  },
  {
   "cell_type": "code",
   "execution_count": 13,
   "metadata": {
    "colab": {
     "base_uri": "https://localhost:8080/",
     "height": 218
    },
    "id": "9xS7S-xk07dQ",
    "outputId": "f42a7c53-d12b-4c7c-8867-c7b99dceb976"
   },
   "outputs": [
    {
     "data": {
      "text/plain": [
       "<matplotlib.image.AxesImage at 0x3062f66e0>"
      ]
     },
     "execution_count": 13,
     "metadata": {},
     "output_type": "execute_result"
    },
    {
     "data": {
      "image/png": "[encoded data removed]",
      "text/plain": [
       "<Figure size 640x480 with 2 Axes>"
      ]
     },
     "metadata": {},
     "output_type": "display_data"
    }
   ],
   "source": [
    "label_chosen = 4\n",
    "features_0 = []\n",
    "for img, lbl in client_0_dataset:\n",
    "    if lbl == label_chosen:\n",
    "        features_0.append(np.asarray(img).flatten())\n",
    "\n",
    "features_1000 = []\n",
    "for img, lbl in client_1000_dataset:\n",
    "    if lbl == label_chosen:\n",
    "        features_1000.append(np.asarray(img).flatten())\n",
    "\n",
    "# display images\n",
    "fig, ax = plt.subplots(1, 2)\n",
    "ax[0].imshow((np.sum(features_0, axis=0) / len(features_0)).reshape((28, 28)))\n",
    "ax[1].imshow((np.sum(features_1000, axis=0) / len(features_1000)).reshape((28, 28)))"
   ]
  },
  {
   "cell_type": "code",
   "execution_count": 14,
   "metadata": {
    "colab": {
     "base_uri": "https://localhost:8080/",
     "height": 218
    },
    "id": "KbPKX2SuWFcr",
    "outputId": "3edbabad-0e98-4f6e-9e6a-4e68536a5984"
   },
   "outputs": [
    {
     "data": {
      "text/plain": [
       "<matplotlib.image.AxesImage at 0x3063d41f0>"
      ]
     },
     "execution_count": 14,
     "metadata": {},
     "output_type": "execute_result"
    },
    {
     "data": {
      "image/png": "[encoded data removed]",
      "text/plain": [
       "<Figure size 640x480 with 2 Axes>"
      ]
     },
     "metadata": {},
     "output_type": "display_data"
    }
   ],
   "source": [
    "label_chosen = 1\n",
    "features_0 = []\n",
    "for img, lbl in client_0_dataset:\n",
    "    if lbl == label_chosen:\n",
    "        features_0.append(np.asarray(img).flatten())\n",
    "\n",
    "features_1000 = []\n",
    "for img, lbl in client_1000_dataset:\n",
    "    if lbl == label_chosen:\n",
    "        features_1000.append(np.asarray(img).flatten())\n",
    "\n",
    "# display images\n",
    "fig, ax = plt.subplots(1, 2)\n",
    "ax[0].imshow((np.sum(features_0, axis=0) / len(features_0)).reshape((28, 28)))\n",
    "ax[1].imshow((np.sum(features_1000, axis=0) / len(features_1000)).reshape((28, 28)))"
   ]
  },
  {
   "cell_type": "markdown",
   "metadata": {
    "id": "F_hZ8ZKqAwsY"
   },
   "source": [
    "It is worth having a glance on what are the consequences of this property on an FL experiment. To do that we will re-use the code for training an FL client from the previous lab.\n",
    "\n",
    "In order to show on a small scale what can happen to FL training setups where clients have feature distribution skew, we will now build two toy settings. We choose the most populated client---the one with the most samples in the federation. We will then construct a second version of this same client by artificially changing its features by inverting the underlying images--- transforming each image into its negative. Furthermore, we need a specific `get_flower_client_generator` able to invert the images of a specific client.\n",
    "\n",
    "In the following, we provide the relevant methods to do that. These methods are simplified taking advantage of the federation being composed of just two clients.\n"
   ]
  },
  {
   "cell_type": "code",
   "execution_count": 15,
   "metadata": {
    "id": "Y420LYKH_8BL"
   },
   "outputs": [],
   "source": [
    "def load_femnist_inverted_dataset(mapping: Path, name: str) -> Dataset:\n",
    "    \"\"\"Load the filtered FEMNIST dataset given the mapping .csv file.\n",
    "\n",
    "    The relevant transforms are automatically applied.\n",
    "    Note that the last transform will invert images, getting their negative\n",
    "    representation.\n",
    "\n",
    "    Parameters\n",
    "    ----------\n",
    "        mapping (Path): path to the mapping .csv file chosen.\n",
    "        name (str): name of the dataset to load, train or test.\n",
    "\n",
    "    Returns\n",
    "    -------\n",
    "        Dataset: FEMNIST dataset object, ready to use.\n",
    "    \"\"\"\n",
    "    transform = transforms.Compose([\n",
    "        transforms.ToTensor(),\n",
    "        transforms.transforms.F.invert,\n",
    "    ])\n",
    "\n",
    "    return FEMNIST(\n",
    "        mapping=mapping,\n",
    "        name=name,\n",
    "        data_dir=data_dir,\n",
    "        transform=transform,\n",
    "        target_transform=to_tensor_transform,\n",
    "    )\n",
    "\n",
    "\n",
    "# NOTE: We need the self to use this for replacing an internal of a class\n",
    "def _load_inverted_dataset(self: FlowerClient, name: str) -> Dataset:\n",
    "    \"\"\"\n",
    "    Load an inverted dataset for a specific client.\n",
    "\n",
    "    This function loads the FEMNIST inverted dataset for the client identified by\n",
    "    `self.cid`. The dataset is loaded from the partition directory specified by\n",
    "    `self.partition_dir`.\n",
    "\n",
    "    Parameters\n",
    "    ----------\n",
    "        name (str): The name of the dataset to load.\n",
    "\n",
    "    Returns\n",
    "    -------\n",
    "        Dataset: The loaded inverted dataset.\n",
    "\n",
    "    Raises\n",
    "    ------\n",
    "        FileNotFoundError: If the dataset file does not exist.\n",
    "    \"\"\"\n",
    "    full_file: Path = self.partition_dir / str(self.cid)\n",
    "    return load_femnist_inverted_dataset(mapping=full_file, name=name)\n",
    "\n",
    "\n",
    "def get_mod_flower_client_generator(\n",
    "    model_generator: Callable[[], Module],\n",
    "    data_dir: Path,\n",
    "    partition_dir: Path,\n",
    "    mapping_fn: Callable[[int], int] | None = None,\n",
    ") -> Callable[[str], FlowerClient]:\n",
    "    \"\"\"Wrap the function for the client instance generator.\n",
    "\n",
    "    This provides the client generator with a model generator function.\n",
    "    Also, the partition directory must be passed.\n",
    "    A mapping function could be used for filtering/ordering clients.\n",
    "    Note that the \"even\" clients here will have a modified `_load_dataset` function.\n",
    "    The new `_load_dataset` has been chosen to be the one inverting the images.\n",
    "\n",
    "    Parameters\n",
    "    ----------\n",
    "        data_dir (Path): path to the dataset folder.\n",
    "        model_generator (Callable[[], Module]): model generator function.\n",
    "        partition_dir (Path): directory containing the partition.\n",
    "        mapping_fn (Optional[Callable[[int], int]]): function mapping sorted/filtered\n",
    "            ids to real cid.\n",
    "\n",
    "    Returns\n",
    "    -------\n",
    "        Callable[[str], FlowerClient]: client instance.\n",
    "    \"\"\"\n",
    "\n",
    "    def client_fn(cid: str) -> FlowerClient:\n",
    "        \"\"\"Create a single client instance given the client id `cid`.\n",
    "\n",
    "        Parameters\n",
    "        ----------\n",
    "            cid (str): client id, Flower requires this to of type str.\n",
    "\n",
    "        Returns\n",
    "        -------\n",
    "            FlowerClient: client instance.\n",
    "        \"\"\"\n",
    "        log(INFO, f\"Getting client with id {cid}\")\n",
    "        actual_cid = mapping_fn(int(cid)) if mapping_fn is not None else int(cid)\n",
    "        client = FlowerClient(\n",
    "            cid=actual_cid,\n",
    "            data_dir=data_dir,\n",
    "            partition_dir=partition_dir,\n",
    "            model_generator=model_generator,\n",
    "        )\n",
    "        # Pay attention to the following two lines\n",
    "        if int(cid) % 2 == 0:\n",
    "            client._load_dataset = MethodType(_load_inverted_dataset, client)\n",
    "        return client\n",
    "\n",
    "    return client_fn"
   ]
  },
  {
   "cell_type": "markdown",
   "metadata": {
    "id": "V6-ipEzaY8QY"
   },
   "source": [
    "We will now try to train separately the two clients generated this way. The mapping function will be provided to point both client IDs to the data of the most populated client.\n",
    "\n",
    "```python\n",
    "mapping_dict = {0: '178', 1: '178'}\n",
    "```\n",
    "\n",
    "_NOTE: you may want *to experiment \\_with \\_different\\_\\_ clients here*. After having completed the lab, feel free to try!_\n",
    "\n",
    "The following cell will set the relevant configuration for both training and testing of the client and its inverted version.\n",
    "\n",
    "> **IMPORTANT: The architecture used here is an MLP because it is affected by inversion of images. Also, note that we must seed the model parameters here.**\n"
   ]
  },
  {
   "cell_type": "code",
   "execution_count": 16,
   "metadata": {
    "id": "8_ZCNLJRZoah"
   },
   "outputs": [],
   "source": [
    "# Seed the model\n",
    "torch.manual_seed(Seeds.DEFAULT)\n",
    "network_generator_mlp = get_network_generator_mlp()\n",
    "seed_net_mlp = network_generator_mlp()\n",
    "seed_model_mlp_params: NDArrays = get_model_parameters(seed_net_mlp)\n",
    "# Set up config for both train and eval\n",
    "train_config: dict[str, Any] = {\n",
    "    \"epochs\": 8,\n",
    "    \"batch_size\": 32,\n",
    "    \"client_learning_rate\": 0.01,\n",
    "    \"weight_decay\": 0.001,\n",
    "    \"num_workers\": 0,\n",
    "    \"max_batches\": None,\n",
    "}\n",
    "test_config: dict[str, Any] = {\n",
    "    \"batch_size\": 32,\n",
    "    \"num_workers\": 0,\n",
    "    \"max_batches\": None,\n",
    "}\n",
    "# Here is the mapping\n",
    "mapping_dict = {0: \"178\", 1: \"178\"}\n",
    "# NOTE: we are using here the `get_mod_flower_client_generator`\n",
    "federated_mod_flower_client_generator: Callable[[str], FlowerClient] = (\n",
    "    get_mod_flower_client_generator(\n",
    "        model_generator=network_generator_mlp,\n",
    "        data_dir=data_dir,\n",
    "        partition_dir=federated_partition,\n",
    "        mapping_fn=lambda x: int(mapping_dict[x]),\n",
    "    )\n",
    ")\n",
    "# NOTE: we are using here the `get_flower_client_generator`\n",
    "federated_flower_client_generator: Callable[[str], FlowerClient] = (\n",
    "    get_flower_client_generator(\n",
    "        model_generator=network_generator_mlp,\n",
    "        data_dir=data_dir,\n",
    "        partition_dir=federated_partition,\n",
    "        mapping_fn=lambda x: int(mapping_dict[x]),\n",
    "    )\n",
    ")"
   ]
  },
  {
   "cell_type": "markdown",
   "metadata": {
    "id": "zLqrKFqtaIYh"
   },
   "source": [
    "Let's train separately the two versions of the client and then mutually evaluate their models.\n"
   ]
  },
  {
   "cell_type": "code",
   "execution_count": 17,
   "metadata": {
    "colab": {
     "base_uri": "https://localhost:8080/"
    },
    "id": "fWYktaFiaH3d",
    "outputId": "11cf6d6e-c24c-4850-f0d4-0541da501e72"
   },
   "outputs": [
    {
     "name": "stderr",
     "output_type": "stream",
     "text": [
      "INFO flwr 2025-02-12 13:26:01,758 | 3847737467.py:94 | Getting client with id 0\n",
      "INFO flwr 2025-02-12 13:26:01,775 | client.py:51 | Creating client with cid: 178\n",
      "INFO flwr 2025-02-12 13:26:01,840 | 3847737467.py:94 | Getting client with id 1\n",
      "INFO flwr 2025-02-12 13:26:01,841 | client.py:51 | Creating client with cid: 178\n",
      "INFO flwr 2025-02-12 13:26:05,140 | 1832891730.py:8 | Results of fitting the seed model on client 0:\n",
      "\t[13, {'train_loss': 0.013859318640942756}]\n",
      "100%|██████████| 2/2 [00:00<00:00,  2.06it/s]\n",
      "INFO flwr 2025-02-12 13:26:06,277 | 1832891730.py:11 | Results of model eval trained on client 0 on the test set of client 0:\n",
      "\t(5.040204286575317, 2, {'local_accuracy': 0.6595744680851063})\n",
      "INFO flwr 2025-02-12 13:26:06,919 | 1832891730.py:20 | Results of fitting the seed model on client 1:\n",
      "\t[13, {'train_loss': 0.108104047866968}]\n",
      "100%|██████████| 2/2 [00:00<00:00, 213.74it/s]\n",
      "INFO flwr 2025-02-12 13:26:06,935 | 1832891730.py:23 | Results of model eval trained on client 1 on the test set of client 1:\n",
      "\t(7.18291163444519, 2, {'local_accuracy': 0.2127659574468085})\n",
      "100%|██████████| 2/2 [00:00<00:00, 182.13it/s]\n",
      "INFO flwr 2025-02-12 13:26:06,952 | 1832891730.py:30 | Results of model eval trained on client 1 on the test set of client 0:\n",
      "\t(8.348760604858398, 2, {'local_accuracy': 0.06382978723404255})\n",
      "100%|██████████| 2/2 [00:00<00:00, 173.28it/s]\n",
      "INFO flwr 2025-02-12 13:26:06,971 | 1832891730.py:37 | Results of model eval trained on client 0 on the test set of client 1:\n",
      "\t(145.876953125, 2, {'local_accuracy': 0.0})\n"
     ]
    }
   ],
   "source": [
    "# Create clients\n",
    "client_0 = federated_mod_flower_client_generator(str(0))\n",
    "client_1 = federated_mod_flower_client_generator(str(1))\n",
    "# Fit client 0\n",
    "client_0_params, *rest = fit_client_seeded(\n",
    "    client_0, seed_model_mlp_params, train_config\n",
    ")\n",
    "log(INFO, f\"Results of fitting the seed model on client 0:\\n\\t{rest}\")\n",
    "# Evaluate client 0 on model trained on client 0\n",
    "client_0_res = client_0.evaluate(client_0_params, test_config)\n",
    "log(\n",
    "    INFO,\n",
    "    \"Results of model eval trained on client 0 on the test set of client 0:\\n\\t%s\",\n",
    "    client_0_res,\n",
    ")\n",
    "# Fit client 1\n",
    "client_1_params, *rest = fit_client_seeded(\n",
    "    client_1, seed_model_mlp_params, train_config\n",
    ")\n",
    "log(INFO, f\"Results of fitting the seed model on client 1:\\n\\t{rest}\")\n",
    "# Evaluate client 1 on model trained on client 1\n",
    "client_1_res = client_1.evaluate(client_1_params, test_config)\n",
    "log(\n",
    "    INFO,\n",
    "    \"Results of model eval trained on client 1 on the test set of client 1:\\n\\t%s\",\n",
    "    client_1_res,\n",
    ")\n",
    "# Evaluate client 0 on model trained on client 0\n",
    "client_0_res = client_0.evaluate(client_1_params, test_config)\n",
    "log(\n",
    "    INFO,\n",
    "    \"Results of model eval trained on client 1 on the test set of client 0:\\n\\t%s\",\n",
    "    client_0_res,\n",
    ")\n",
    "# Evaluate client 1 on model trained on client 1\n",
    "client_1_res = client_1.evaluate(client_0_params, test_config)\n",
    "log(\n",
    "    INFO,\n",
    "    \"Results of model eval trained on client 0 on the test set of client 1:\\n\\t%s\",\n",
    "    client_1_res,\n",
    ")"
   ]
  },
  {
   "cell_type": "markdown",
   "metadata": {
    "id": "T2I9CswibRCb"
   },
   "source": [
    "In the following cell, we will set up all the relevant methods and parameters to run an FL simulation.\n"
   ]
  },
  {
   "cell_type": "code",
   "execution_count": 18,
   "metadata": {
    "id": "9pEHYQedk8xW"
   },
   "outputs": [],
   "source": [
    "def _on_fit_config_fn(server_round: int) -> dict[str, Scalar]:\n",
    "    \"\"\"\n",
    "    Generate the training configuration for a given server round.\n",
    "\n",
    "    This function updates the global training configuration with the current server\n",
    "    round and returns the updated configuration.\n",
    "\n",
    "    Parameters\n",
    "    ----------\n",
    "    server_round : int\n",
    "        The current round of training on the server.\n",
    "\n",
    "    Returns\n",
    "    -------\n",
    "    dict[str, Scalar]\n",
    "        The updated training configuration dictionary.\n",
    "    \"\"\"\n",
    "    train_config.update({\"server_round\": server_round})\n",
    "    return train_config\n",
    "\n",
    "\n",
    "def _on_evaluate_config_fn(server_round: int) -> dict[str, Scalar]:\n",
    "    \"\"\"\n",
    "    Generate the evaluation configuration for a given server round.\n",
    "\n",
    "    This function updates the global evaluation configuration with the current server\n",
    "    round and returns the updated configuration.\n",
    "\n",
    "    Parameters\n",
    "    ----------\n",
    "    server_round : int\n",
    "        The current round of evaluation on the server.\n",
    "\n",
    "    Returns\n",
    "    -------\n",
    "    dict[str, Scalar]\n",
    "        The updated evaluation configuration dictionary.\n",
    "    \"\"\"\n",
    "    test_config.update({\"server_round\": server_round})\n",
    "    return test_config\n",
    "\n",
    "\n",
    "# NOTE: We don't need the `federated_evaluation_function`. We care about the\n",
    "# distributed accuracy, thus we skip centralised evaluation.\n",
    "strategy = FedAvg(\n",
    "    fraction_fit=sys.float_info.min,\n",
    "    fraction_evaluate=sys.float_info.min,\n",
    "    min_fit_clients=2,\n",
    "    min_evaluate_clients=2,\n",
    "    min_available_clients=2,\n",
    "    on_fit_config_fn=_on_fit_config_fn,\n",
    "    on_evaluate_config_fn=_on_evaluate_config_fn,\n",
    "    initial_parameters=ndarrays_to_parameters(seed_model_mlp_params),\n",
    "    accept_failures=False,\n",
    "    fit_metrics_aggregation_fn=aggregate_weighted_average,\n",
    "    evaluate_metrics_aggregation_fn=aggregate_weighted_average,\n",
    ")"
   ]
  },
  {
   "cell_type": "markdown",
   "metadata": {
    "id": "0mTgAc5yYVny"
   },
   "source": [
    "### 2.2 Label distribution skew\n",
    "---"
   ]
  },
  {
   "cell_type": "markdown",
   "metadata": {
    "id": "IE6yFy4sH79L"
   },
   "source": [
    "The flavour of data heterogeneity we are dealing with in this subsection is often called “prior probability shift\". In a few words, this occurs when, given a particular label, the distribution of samples having that label differs from client to client. In our running example, we can see whether in FEMNIST happens that different clients have drawn different distributions of symbols.\n",
    "We can think about what could happen to an FL training in this situation simplifying a bit the actors in a play. Let's imagine that the federation has a subset of clients (one client: client 0) that is the only one having a specific subset of labels (say letters). A global model trained using FedAvg on that federation won't ever be able to learn well the representation of that subset of labels (letters). There exist methods to mitigate this particular situation, but often they involve sharing statistics about local datasets, thus creating privacy concerns.\n",
    "\n",
    "We will select two clients, then we will plot the histogram of the labels for each of them on the same canvas. Thus, we will be able to evaluate whether there is a qualitative difference between the two.\n"
   ]
  },
  {
   "cell_type": "code",
   "execution_count": 19,
   "metadata": {
    "colab": {
     "base_uri": "https://localhost:8080/",
     "height": 282
    },
    "id": "CobK_i5-cwxI",
    "outputId": "876d5ead-de3b-4012-8e3f-810691e1c944"
   },
   "outputs": [
    {
     "data": {
      "text/plain": [
       "<matplotlib.legend.Legend at 0x306060970>"
      ]
     },
     "execution_count": 19,
     "metadata": {},
     "output_type": "execute_result"
    },
    {
     "data": {
      "image/png": "[encoded data removed]",
      "text/plain": [
       "<Figure size 640x480 with 1 Axes>"
      ]
     },
     "metadata": {},
     "output_type": "display_data"
    }
   ],
   "source": [
    "client_3000_dataset: FEMNIST = FEMNIST(\n",
    "    mapping=federated_partition / \"3000\", data_dir=data_dir, name=\"train\"\n",
    ")\n",
    "plt.hist(\n",
    "    [int(x[1]) for x in client_0_dataset],\n",
    "    bins=62,\n",
    "    color=\"blue\",\n",
    "    alpha=0.7,\n",
    "    label=\"client 0\",\n",
    ")\n",
    "plt.hist(\n",
    "    [int(x[1]) for x in client_3000_dataset],\n",
    "    bins=62,\n",
    "    color=\"orange\",\n",
    "    alpha=0.7,\n",
    "    label=\"client 3000\",\n",
    ")\n",
    "plt.legend()"
   ]
  },
  {
   "cell_type": "markdown",
   "metadata": {
    "id": "3ekusyXpeLy3"
   },
   "source": [
    "---\n",
    "\n",
    "**Question 1 (Part II ✅ | Part III/MPhil ✅):**\n",
    "\n",
    "(These are meant to be conceptual questions. You should provide written answers for these. **No more than 3 sentences each**. **No code** is needed)\n",
    "\n",
    "If we ignore the privacy assumptions of FL and allow the overall label distribution to be known, how could we balance the set of selected clients to guide the federated model towards a similar per-class accuracy that the centralised model can achieve? Assume FedAvg and the usual client implementation in your reasoning.\n",
    "\n",
    "---\n"
   ]
  },
  {
   "cell_type": "markdown",
   "metadata": {},
   "source": [
    "**Question 1 Answer:**\n",
    "\n",
    "If we can know the overall label distribution, we can balance the set of selected clients by selecting clients that have a more balanced label distribution hence avoiding unequal class distributions in the data. Another approach is to select clients with under-represented classes more frequently to contribute to the global model to balance the class distribution or change the weighting of clients in FedAvg so that clients with under-represented classes have bigger impact on the model. \n",
    "\n",
    "\n",
    "---"
   ]
  },
  {
   "cell_type": "markdown",
   "metadata": {
    "id": "ZR7M2rpHJ5kO"
   },
   "source": [
    "### 2.3 Quantity skew\n",
    "---"
   ]
  },
  {
   "cell_type": "markdown",
   "metadata": {
    "id": "amXbWzGcIACk"
   },
   "source": [
    "The last kind of heterogeneity we will discuss in detail is the _quantity skew_, which occurs when clients possess different numbers of samples. Last, but not least, it is the most investigated property that real FL datasets have. Also called \"imbalancedness\", it has been tackled using many techniques spanning from data manipulation to optimization algorithm design. Even if the literature regarding such techniques is quite broad, relative to FL being a new topic of research, there is still not any agreement about how to deal with imbalancedness. Often different solutions have different accuracy depending on the task and how imbalanced the FL dataset is.\n",
    "\n",
    "Those of you that have well-trained observation skills may recall a plot in the last lab that spoiled this property. Now we'll try to get the global view of FEMNIST data from this perspective.\n"
   ]
  },
  {
   "cell_type": "code",
   "execution_count": 20,
   "metadata": {
    "colab": {
     "base_uri": "https://localhost:8080/",
     "height": 279
    },
    "id": "T-bzX0KvhZ5z",
    "outputId": "c4a7ee39-f56f-4db7-c9e3-ea89c905e7d6"
   },
   "outputs": [
    {
     "name": "stderr",
     "output_type": "stream",
     "text": [
      "/var/folders/6j/51pt41xs611cqzmtybytnss40000gn/T/ipykernel_89421/2496043336.py:1: UserWarning: Ignoring `palette` because no `hue` variable has been assigned.\n",
      "  sns.histplot(\n"
     ]
    },
    {
     "data": {
      "image/png": "[encoded data removed]",
      "text/plain": [
       "<Figure size 640x480 with 1 Axes>"
      ]
     },
     "metadata": {},
     "output_type": "display_data"
    }
   ],
   "source": [
    "sns.histplot(\n",
    "    alpha=0.15,\n",
    "    legend=True,\n",
    "    data=[\n",
    "        len(\n",
    "            FEMNIST(\n",
    "                mapping=federated_partition / str(i), data_dir=data_dir, name=\"train\"\n",
    "            )\n",
    "        )\n",
    "        for i in range(3229)\n",
    "    ],\n",
    "    fill=True,\n",
    "    kde=True,\n",
    "    element=\"step\",\n",
    "    stat=\"density\",\n",
    "    common_norm=False,\n",
    "    common_bins=True,\n",
    "    cbar=True,\n",
    "    palette=\"dark\",\n",
    ")\n",
    "plt.xlabel(\"# samples\")\n",
    "plt.show()"
   ]
  },
  {
   "cell_type": "markdown",
   "metadata": {
    "id": "RFYZaMvAcaYV"
   },
   "source": [
    "## 3. The behaviour of FL under data heterogeneity/creating heterogeneous partitions\n",
    "---\n"
   ]
  },
  {
   "cell_type": "markdown",
   "metadata": {
    "id": "zemO_m5s2Bff"
   },
   "source": [
    "### FEMNIST folder structure\n",
    "---"
   ]
  },
  {
   "cell_type": "markdown",
   "metadata": {
    "id": "OsTGyV4ms_bm"
   },
   "source": [
    "By default, FEMNIST will be split as follows:\n",
    "\n",
    "- `femnist`: the location of the relevant data\n",
    "  - `client_data_mappings`: contains different partitions\n",
    "    - `centralized`: mappings from writer_id -> `[image_path, label]` for the centralized dataset\n",
    "    - `fed_natural`: mappings from writer_id -> `[image_path, label]` for the naturally federated dataset\n",
    "  - `data`: contains the macro partitions between test, train, and val\n",
    "    - `train`: contains the raw images---samples of the train set\n",
    "    - `test`: contains the raw images---samples of the test set\n",
    "    - `val`: contains the raw images---samples of the val set\n",
    "- `femnist.tar.gz`: the compressed dataset\n",
    "\n",
    "We will store client datasets in sequentially labelled folders within each partition and do all necessary remapping in python.\n"
   ]
  },
  {
   "cell_type": "code",
   "execution_count": 21,
   "metadata": {
    "colab": {
     "base_uri": "https://localhost:8080/"
    },
    "id": "oZjU-2dyrVxC",
    "outputId": "ff22ac9e-73f4-476c-caf6-dfca749f0154"
   },
   "outputs": [
    {
     "name": "stdout",
     "output_type": "stream",
     "text": [
      "\u001b[01;34m./\u001b[0m\n",
      "├── \u001b[01;34mcommon\u001b[0m\n",
      "│   ├── \u001b[01;34m__pycache__\u001b[0m\n",
      "│   └── \u001b[01;34msecagg\u001b[0m\n",
      "├── \u001b[01;34mfemnist\u001b[0m\n",
      "│   ├── \u001b[01;34mclient_data_mappings\u001b[0m\n",
      "│   │   ├── \u001b[01;34mcentralized\u001b[0m\n",
      "│   │   └── \u001b[01;34mfed_natural\u001b[0m\n",
      "│   └── \u001b[01;34mdata\u001b[0m\n",
      "│       ├── \u001b[01;34mtest\u001b[0m\n",
      "│       ├── \u001b[01;34mtrain\u001b[0m\n",
      "│       └── \u001b[01;34mval\u001b[0m\n",
      "└── \u001b[01;34mhistories\u001b[0m\n",
      "\n",
      "13 directories\n"
     ]
    }
   ],
   "source": [
    "# Showing resulting folder tree\n",
    "! tree -dC -L 3 ./"
   ]
  },
  {
   "cell_type": "markdown",
   "metadata": {
    "id": "O_QqLvPZ2Bff"
   },
   "source": [
    "### Test sets for FL\n",
    "---"
   ]
  },
  {
   "cell_type": "markdown",
   "metadata": {
    "id": "VhsBuoiOtDzE"
   },
   "source": [
    "Prior to constructing our centralized partition, it is necessary to discuss what a test set even means for FL.\n",
    "\n",
    "A testing set can generally be either a **federated test set** or a **local test set**:\n",
    "\n",
    "- A federated test set contains data representative of the entire federated network and is used to provide a form of centralized-like evaluation of the federated model. In production scenarios, this would be data that has been consensually gathered from a multitude of users and is legal/efficient to store on the server or clients which have been kept out of the training loop. For research purposes it can be constructed in one of the two following ways:\n",
    "  - Take x% of data from all clients and save it separately.\n",
    "  - Leave y% of clients utterly unavailable for federated training and use their data as a test/validation set. **This is the version we shall use during the lab for the federated test set.**\n",
    "- A local test set is formed via data from a specific client which has not been seen during training. There are as many local test sets as there are clients. As such, they can be used to test the model on a specific client or to accumulate average statistics to determine its performance.\n"
   ]
  },
  {
   "cell_type": "markdown",
   "metadata": {
    "id": "PEnNRUzntSHQ"
   },
   "source": [
    "### Creating and using partitions\n",
    "---"
   ]
  },
  {
   "cell_type": "markdown",
   "metadata": {
    "id": "8XBPXfzPtkJe"
   },
   "source": [
    "#### Class imbalancedness\n",
    "---"
   ]
  },
  {
   "cell_type": "markdown",
   "metadata": {
    "id": "xEzJSW4TvEmK"
   },
   "source": [
    "We will start creating class imbalanced partitions. The most representative example, as often happens, is the extreme one. Thus, we are going to create a partition of the dataset in which each client possesses one class only. This aim sets one parameter for the creation of the current partition, but we need to choose also another parameter: the number of clients we want to create or the number of samples per client that we want to infer. These last are two antagonist parameters that describe the same thing. The larger the number of clients is, the lower the number of samples per client is.\n",
    "\n",
    "Let's start by looking at how labels are distributed in the entire dataset (test set only), by treating the dataset as centralized.\n"
   ]
  },
  {
   "cell_type": "code",
   "execution_count": 22,
   "metadata": {
    "colab": {
     "base_uri": "https://localhost:8080/",
     "height": 337
    },
    "id": "yLEQJLkjwM4u",
    "outputId": "704b99b0-a234-4327-e692-43531e1ce524"
   },
   "outputs": [
    {
     "data": {
      "text/plain": [
       "<matplotlib.legend.Legend at 0x30bcadf90>"
      ]
     },
     "execution_count": 22,
     "metadata": {},
     "output_type": "execute_result"
    },
    {
     "data": {
      "image/png": "[encoded data removed]",
      "text/plain": [
       "<Figure size 1000x500 with 2 Axes>"
      ]
     },
     "metadata": {},
     "output_type": "display_data"
    }
   ],
   "source": [
    "centralized_train_dataset: FEMNIST = FEMNIST(\n",
    "    mapping=centralized_partition / \"0\", data_dir=data_dir, name=\"train\"\n",
    ")\n",
    "centralized_test_dataset: FEMNIST = FEMNIST(\n",
    "    mapping=centralized_partition / \"0\", data_dir=data_dir, name=\"test\"\n",
    ")\n",
    "fig, ax = plt.subplots(1, 2, figsize=(10, 5))\n",
    "train_histo = ax[0].hist(\n",
    "    [int(x[1]) for x in centralized_train_dataset.data],\n",
    "    bins=62,\n",
    "    color=\"blue\",\n",
    "    alpha=0.7,\n",
    "    label=\"centralized train dataset\",\n",
    ")\n",
    "test_histo = ax[1].hist(\n",
    "    [int(x[1]) for x in centralized_test_dataset.data],\n",
    "    bins=62,\n",
    "    color=\"orange\",\n",
    "    alpha=0.7,\n",
    "    label=\"centralized test dataset\",\n",
    ")\n",
    "ax[0].legend()\n",
    "ax[1].legend()"
   ]
  },
  {
   "cell_type": "markdown",
   "metadata": {
    "id": "0AWfsLZo9jmi"
   },
   "source": [
    "Since the distribution is all but uniform, we need to make a further choice. We want to build a federation of 62 clients each of them having one class only. We want all the classes to be represented in the federation. Likewise, we also want FedAvg to treat equally all the clients in the federation. Thus, we will need to partition clients taking into account the population of the least represented class in both the `train` and the `test` set.\n"
   ]
  },
  {
   "cell_type": "code",
   "execution_count": 23,
   "metadata": {
    "colab": {
     "base_uri": "https://localhost:8080/"
    },
    "id": "1_yGo1zI9UyA",
    "outputId": "dc57594b-63b0-46e5-e59b-3902ac8e29f8"
   },
   "outputs": [
    {
     "name": "stderr",
     "output_type": "stream",
     "text": [
      "INFO flwr 2025-02-12 13:48:57,503 | 3870438806.py:1 | The least represented class in the train set has 1786.0 samples\n",
      "INFO flwr 2025-02-12 13:48:57,504 | 3870438806.py:6 | The least represented class in the test set has 233.0 samples\n"
     ]
    }
   ],
   "source": [
    "log(\n",
    "    INFO,\n",
    "    \"The least represented class in the train set has %s samples\",\n",
    "    min(train_histo[0]),\n",
    ")\n",
    "log(\n",
    "    INFO,\n",
    "    \"The least represented class in the test set has %s samples\",\n",
    "    min(test_histo[0]),\n",
    ")\n",
    "max_train_samples = int(min(train_histo[0]))\n",
    "max_test_samples = int(min(test_histo[0]))"
   ]
  },
  {
   "cell_type": "markdown",
   "metadata": {
    "id": "OuvZvcU3_eq0"
   },
   "source": [
    "Let's now create the function that creates the partition. We will stick to the folder structure the dataset has.\n"
   ]
  },
  {
   "cell_type": "code",
   "execution_count": 24,
   "metadata": {
    "id": "fvJS4NX5_r-F"
   },
   "outputs": [],
   "source": [
    "class_imbalanced_partition: Path = (\n",
    "    dataset_dir / \"client_data_mappings\" / \"class_imbalanced\"\n",
    ")\n",
    "class_imbalanced_partition.mkdir(parents=True, exist_ok=True)\n",
    "train_df = pd.read_csv(centralized_mapping / \"train.csv\")\n",
    "test_df = pd.read_csv(centralized_mapping / \"test.csv\")\n",
    "max_train_samples = 200\n",
    "max_test_samples = 50\n",
    "for i in range(62):\n",
    "    folder_path: Path = class_imbalanced_partition / str(i)\n",
    "    folder_path.mkdir(parents=True, exist_ok=True)\n",
    "\n",
    "    train_path: Path = folder_path / \"train.csv\"\n",
    "    test_path: Path = folder_path / \"test.csv\"\n",
    "\n",
    "    client_df = deepcopy(\n",
    "        train_df[train_df.label == i].sample(frac=1)[:max_train_samples]\n",
    "    ).reset_index()\n",
    "    client_df[\"client_id\"] = i\n",
    "    client_df = client_df.drop(columns=[\"level_0\"])\n",
    "    client_df.to_csv(train_path, index=False)\n",
    "    client_df = deepcopy(\n",
    "        test_df[test_df.label == i].sample(frac=1)[:max_test_samples]\n",
    "    ).reset_index()\n",
    "    client_df[\"client_id\"] = i\n",
    "    client_df = client_df.drop(columns=[\"level_0\"])\n",
    "    client_df.to_csv(test_path, index=False)"
   ]
  },
  {
   "cell_type": "markdown",
   "metadata": {},
   "source": [
    "Here, we seed the initial model parameters to come from a partially trained model on the centralized dataset.\n"
   ]
  },
  {
   "cell_type": "code",
   "execution_count": 25,
   "metadata": {
    "id": "z0Bj3btM9llx"
   },
   "outputs": [
    {
     "name": "stderr",
     "output_type": "stream",
     "text": [
      "INFO flwr 2025-02-12 13:49:24,592 | client.py:51 | Creating client with cid: 0\n"
     ]
    }
   ],
   "source": [
    "torch.manual_seed(Seeds.DEFAULT)\n",
    "network_generator_cnn = get_network_generator_cnn()\n",
    "seed_net_cnn = network_generator_cnn()\n",
    "centralized_flower_client_generator: Callable[[str], FlowerClient] = (\n",
    "    get_flower_client_generator(\n",
    "        model_generator=network_generator_cnn,\n",
    "        partition_dir=centralized_partition,\n",
    "        data_dir=data_dir,\n",
    "    )\n",
    ")\n",
    "centralized_flower_client = centralized_flower_client_generator(str(0))\n",
    "centralized_train_config: dict[str, Any] = {\n",
    "    \"epochs\": 1,\n",
    "    \"batch_size\": 32,\n",
    "    \"client_learning_rate\": 0.01,\n",
    "    \"weight_decay\": 0.001,\n",
    "    \"num_workers\": 0,\n",
    "    \"max_batches\": 1000,\n",
    "}\n",
    "test_config: dict[str, Any] = {\n",
    "    \"batch_size\": 32,\n",
    "    \"num_workers\": 0,\n",
    "    \"max_batches\": None,\n",
    "}\n",
    "# Train parameters on the centralised dataset\n",
    "trained_params, num_examples, train_metrics = fit_client_seeded(\n",
    "    centralized_flower_client,\n",
    "    params=get_model_parameters(seed_net_cnn),\n",
    "    conf=centralized_train_config,\n",
    ")\n",
    "initial_parameters: Parameters = ndarrays_to_parameters(trained_params)"
   ]
  },
  {
   "cell_type": "markdown",
   "metadata": {},
   "source": [
    "We also create the centralised evaluation function that will be executed by the server at the end of every round if requested.\n"
   ]
  },
  {
   "cell_type": "code",
   "execution_count": 26,
   "metadata": {
    "id": "pRiXe-eU9m4u"
   },
   "outputs": [
    {
     "name": "stderr",
     "output_type": "stream",
     "text": [
      "INFO flwr 2025-02-12 13:50:59,153 | client_utils.py:415 | Reduced federated test_set size from 28510 to a size of 1500 mean index: 14726.628666666667\n"
     ]
    }
   ],
   "source": [
    "federated_evaluation_function = get_federated_evaluation_function(\n",
    "    data_dir=data_dir,\n",
    "    centralized_mapping=centralized_mapping,\n",
    "    device=get_device(),\n",
    "    batch_size=test_config[\"batch_size\"],\n",
    "    num_workers=test_config[\"num_workers\"],\n",
    "    model_generator=network_generator_cnn,\n",
    "    criterion=nn.CrossEntropyLoss(),\n",
    ")"
   ]
  },
  {
   "cell_type": "markdown",
   "metadata": {},
   "source": [
    "Finally, the client generator function.\n"
   ]
  },
  {
   "cell_type": "code",
   "execution_count": 27,
   "metadata": {
    "id": "Z0Ohncc3DLJG"
   },
   "outputs": [],
   "source": [
    "imbalanced_flower_client_generator: Callable[[str], FlowerClient] = (\n",
    "    get_flower_client_generator(\n",
    "        model_generator=network_generator_cnn,\n",
    "        data_dir=data_dir,\n",
    "        partition_dir=class_imbalanced_partition,\n",
    "    )\n",
    ")"
   ]
  },
  {
   "cell_type": "markdown",
   "metadata": {},
   "source": [
    "Let's see how these clients look like.\n"
   ]
  },
  {
   "cell_type": "code",
   "execution_count": 28,
   "metadata": {},
   "outputs": [
    {
     "name": "stderr",
     "output_type": "stream",
     "text": [
      "INFO flwr 2025-02-12 13:51:32,910 | client.py:51 | Creating client with cid: 0\n",
      "INFO flwr 2025-02-12 13:51:32,942 | client.py:51 | Creating client with cid: 0\n"
     ]
    },
    {
     "data": {
      "text/plain": [
       "<matplotlib.legend.Legend at 0x1034879d0>"
      ]
     },
     "execution_count": 28,
     "metadata": {},
     "output_type": "execute_result"
    },
    {
     "data": {
      "image/png": "[encoded data removed]",
      "text/plain": [
       "<Figure size 640x480 with 1 Axes>"
      ]
     },
     "metadata": {},
     "output_type": "display_data"
    }
   ],
   "source": [
    "N_CLASSES = 62\n",
    "train_dataset_client_0 = imbalanced_flower_client_generator(str(0))._load_dataset(\n",
    "    \"train\"\n",
    ")\n",
    "plt.hist(\n",
    "    [int(x[1]) for x in train_dataset_client_0.data],\n",
    "    bins=N_CLASSES,\n",
    "    color=\"blue\",\n",
    "    alpha=0.7,\n",
    "    label=\"client 0 train set\",\n",
    ")\n",
    "train_dataset_client_1 = imbalanced_flower_client_generator(str(0))._load_dataset(\n",
    "    \"train\"\n",
    ")\n",
    "plt.hist(\n",
    "    [int(x[1]) for x in train_dataset_client_1.data],\n",
    "    bins=N_CLASSES,\n",
    "    color=\"orange\",\n",
    "    alpha=0.7,\n",
    "    label=\"client 1 train set\",\n",
    ")\n",
    "plt.legend()"
   ]
  },
  {
   "cell_type": "markdown",
   "metadata": {},
   "source": [
    "We will now create a wrapper for the strategy that will be used to extract the clients' model parameters obtained during the training for the next question.\n"
   ]
  },
  {
   "cell_type": "code",
   "execution_count": 29,
   "metadata": {},
   "outputs": [],
   "source": [
    "class WrappedFedAvg(FedAvg):\n",
    "    \"\"\"Wrap the FedAvg strategy to store clients' models.\"\"\"\n",
    "\n",
    "    clients_models: ClassVar[dict[int, list[tuple[int, NDArrays]]]] = {}\n",
    "\n",
    "    def aggregate_fit(\n",
    "        self,\n",
    "        server_round: int,\n",
    "        results: list[tuple[ClientProxy, FitRes]],\n",
    "        failures: list[tuple[ClientProxy, FitRes] | BaseException],\n",
    "    ) -> tuple[Parameters | None, dict[str, Scalar]]:\n",
    "        \"\"\"Aggregate fit results using weighted average.\"\"\"\n",
    "        # Call FedAvg original aggregate_fit, so that it handles the failures\n",
    "        ret = super().aggregate_fit(server_round, results, failures)\n",
    "        # Append clients' model parameters to the list\n",
    "        self.clients_models[server_round] = [\n",
    "            (i, parameters_to_ndarrays(fit_res.parameters))\n",
    "            for i, (_, fit_res) in enumerate(results)\n",
    "        ]\n",
    "        # Return the original return value\n",
    "        return ret"
   ]
  },
  {
   "cell_type": "code",
   "execution_count": 30,
   "metadata": {
    "id": "iuSAFGmXDgYT"
   },
   "outputs": [],
   "source": [
    "train_config: dict[str, Any] = {\n",
    "    \"epochs\": 8,\n",
    "    \"batch_size\": 32,\n",
    "    \"client_learning_rate\": 0.01,\n",
    "    \"weight_decay\": 0.001,\n",
    "    \"num_workers\": 0,\n",
    "    \"max_batches\": None,\n",
    "}\n",
    "\n",
    "\n",
    "def _on_fit_config_fn(server_round: int) -> dict[str, Scalar]:\n",
    "    train_config.update({\"server_round\": server_round})\n",
    "    return train_config\n",
    "\n",
    "\n",
    "num_total_clients = 62\n",
    "num_clients_per_round: int = 5\n",
    "num_evaluate_clients: int = 5\n",
    "\n",
    "strategy = WrappedFedAvg(\n",
    "    fraction_fit=sys.float_info.min,\n",
    "    fraction_evaluate=sys.float_info.min,\n",
    "    min_fit_clients=num_clients_per_round,\n",
    "    min_evaluate_clients=num_evaluate_clients,\n",
    "    min_available_clients=max(num_clients_per_round, num_evaluate_clients),\n",
    "    on_fit_config_fn=_on_fit_config_fn,\n",
    "    on_evaluate_config_fn=None,\n",
    "    evaluate_fn=federated_evaluation_function,\n",
    "    initial_parameters=initial_parameters,\n",
    "    accept_failures=False,\n",
    "    fit_metrics_aggregation_fn=aggregate_weighted_average,\n",
    "    evaluate_metrics_aggregation_fn=aggregate_weighted_average,\n",
    ")"
   ]
  },
  {
   "cell_type": "code",
   "execution_count": 31,
   "metadata": {
    "colab": {
     "base_uri": "https://localhost:8080/"
    },
    "id": "5sFPqF0k596b",
    "outputId": "3c8b36f3-1cf7-448f-a60e-36d2d1c18043"
   },
   "outputs": [
    {
     "name": "stderr",
     "output_type": "stream",
     "text": [
      "INFO flwr 2025-02-12 13:54:32,027 | app.py:149 | Starting Flower simulation, config: ServerConfig(num_rounds=5, round_timeout=None)\n",
      "INFO flwr 2025-02-12 13:54:32,028 | server_returns_parameters.py:81 | Initializing global parameters\n",
      "INFO flwr 2025-02-12 13:54:32,029 | server_returns_parameters.py:273 | Using initial parameters provided by strategy\n",
      "INFO flwr 2025-02-12 13:54:32,031 | server_returns_parameters.py:84 | Evaluating initial parameters\n",
      "100%|██████████| 47/47 [00:01<00:00, 45.22it/s]\n",
      "INFO flwr 2025-02-12 13:54:33,107 | server_returns_parameters.py:87 | initial parameters (loss, other metrics): 70.78418409824371, {'accuracy': 0.57}\n",
      "INFO flwr 2025-02-12 13:54:33,108 | server_returns_parameters.py:97 | FL starting\n",
      "DEBUG flwr 2025-02-12 13:54:33,108 | server_returns_parameters.py:223 | fit_round 1: strategy sampled 5 clients (out of 62)\n",
      "INFO flwr 2025-02-12 13:54:33,109 | client.py:51 | Creating client with cid: 39\n",
      "INFO flwr 2025-02-12 13:54:33,110 | client.py:51 | Creating client with cid: 59\n",
      "INFO flwr 2025-02-12 13:54:33,110 | client.py:51 | Creating client with cid: 34\n",
      "INFO flwr 2025-02-12 13:54:33,110 | client.py:51 | Creating client with cid: 45\n",
      "INFO flwr 2025-02-12 13:54:33,112 | client.py:51 | Creating client with cid: 23\n",
      "DEBUG flwr 2025-02-12 13:54:35,890 | server_returns_parameters.py:237 | fit_round 1 received 5 results and 0 failures\n",
      "100%|██████████| 47/47 [00:00<00:00, 199.53it/s]\n",
      "INFO flwr 2025-02-12 13:54:36,136 | server_returns_parameters.py:120 | fit progress: (1, 396.7785949707031, {'accuracy': 0.058}, 3.0277152080088854)\n",
      "DEBUG flwr 2025-02-12 13:54:36,136 | server_returns_parameters.py:173 | evaluate_round 1: strategy sampled 5 clients (out of 62)\n",
      "INFO flwr 2025-02-12 13:54:36,137 | client.py:51 | Creating client with cid: 36\n",
      "INFO flwr 2025-02-12 13:54:36,138 | client.py:51 | Creating client with cid: 37\n",
      "INFO flwr 2025-02-12 13:54:36,139 | client.py:51 | Creating client with cid: 46\n",
      "INFO flwr 2025-02-12 13:54:36,139 | client.py:51 | Creating client with cid: 10\n",
      "INFO flwr 2025-02-12 13:54:36,140 | client.py:51 | Creating client with cid: 49\n",
      "DEBUG flwr 2025-02-12 13:54:36,157 | server_returns_parameters.py:187 | evaluate_round 1 received 0 results and 5 failures\n",
      "DEBUG flwr 2025-02-12 13:54:36,158 | server_returns_parameters.py:223 | fit_round 2: strategy sampled 5 clients (out of 62)\n",
      "INFO flwr 2025-02-12 13:54:36,158 | client.py:51 | Creating client with cid: 52\n",
      "INFO flwr 2025-02-12 13:54:36,158 | client.py:51 | Creating client with cid: 21\n",
      "INFO flwr 2025-02-12 13:54:36,158 | client.py:51 | Creating client with cid: 24\n",
      "INFO flwr 2025-02-12 13:54:36,159 | client.py:51 | Creating client with cid: 40\n",
      "INFO flwr 2025-02-12 13:54:36,159 | client.py:51 | Creating client with cid: 50\n",
      "DEBUG flwr 2025-02-12 13:54:38,499 | server_returns_parameters.py:237 | fit_round 2 received 5 results and 0 failures\n",
      "100%|██████████| 47/47 [00:00<00:00, 194.69it/s]\n",
      "INFO flwr 2025-02-12 13:54:38,749 | server_returns_parameters.py:120 | fit progress: (2, 290.9444613456726, {'accuracy': 0.056666666666666664}, 5.64128012501169)\n",
      "DEBUG flwr 2025-02-12 13:54:38,750 | server_returns_parameters.py:173 | evaluate_round 2: strategy sampled 5 clients (out of 62)\n",
      "INFO flwr 2025-02-12 13:54:38,750 | client.py:51 | Creating client with cid: 23\n",
      "INFO flwr 2025-02-12 13:54:38,750 | client.py:51 | Creating client with cid: 58\n",
      "INFO flwr 2025-02-12 13:54:38,751 | client.py:51 | Creating client with cid: 19\n",
      "INFO flwr 2025-02-12 13:54:38,751 | client.py:51 | Creating client with cid: 25\n",
      "INFO flwr 2025-02-12 13:54:38,752 | client.py:51 | Creating client with cid: 44\n",
      "DEBUG flwr 2025-02-12 13:54:38,771 | server_returns_parameters.py:187 | evaluate_round 2 received 0 results and 5 failures\n",
      "DEBUG flwr 2025-02-12 13:54:38,772 | server_returns_parameters.py:223 | fit_round 3: strategy sampled 5 clients (out of 62)\n",
      "INFO flwr 2025-02-12 13:54:38,773 | client.py:51 | Creating client with cid: 13\n",
      "INFO flwr 2025-02-12 13:54:38,773 | client.py:51 | Creating client with cid: 48\n",
      "INFO flwr 2025-02-12 13:54:38,773 | client.py:51 | Creating client with cid: 42\n",
      "INFO flwr 2025-02-12 13:54:38,774 | client.py:51 | Creating client with cid: 55\n",
      "INFO flwr 2025-02-12 13:54:38,774 | client.py:51 | Creating client with cid: 58\n",
      "DEBUG flwr 2025-02-12 13:54:41,465 | server_returns_parameters.py:237 | fit_round 3 received 5 results and 0 failures\n",
      "100%|██████████| 47/47 [00:00<00:00, 216.85it/s]\n",
      "INFO flwr 2025-02-12 13:54:41,691 | server_returns_parameters.py:120 | fit progress: (3, 364.35610580444336, {'accuracy': 0.004}, 8.582647582981735)\n",
      "DEBUG flwr 2025-02-12 13:54:41,691 | server_returns_parameters.py:173 | evaluate_round 3: strategy sampled 5 clients (out of 62)\n",
      "INFO flwr 2025-02-12 13:54:41,691 | client.py:51 | Creating client with cid: 23\n",
      "INFO flwr 2025-02-12 13:54:41,692 | client.py:51 | Creating client with cid: 6\n",
      "INFO flwr 2025-02-12 13:54:41,692 | client.py:51 | Creating client with cid: 27\n",
      "INFO flwr 2025-02-12 13:54:41,692 | client.py:51 | Creating client with cid: 52\n",
      "INFO flwr 2025-02-12 13:54:41,694 | client.py:51 | Creating client with cid: 40\n",
      "DEBUG flwr 2025-02-12 13:54:41,709 | server_returns_parameters.py:187 | evaluate_round 3 received 0 results and 5 failures\n",
      "DEBUG flwr 2025-02-12 13:54:41,710 | server_returns_parameters.py:223 | fit_round 4: strategy sampled 5 clients (out of 62)\n",
      "INFO flwr 2025-02-12 13:54:41,711 | client.py:51 | Creating client with cid: 25\n",
      "INFO flwr 2025-02-12 13:54:41,711 | client.py:51 | Creating client with cid: 57\n",
      "INFO flwr 2025-02-12 13:54:41,712 | client.py:51 | Creating client with cid: 4\n",
      "INFO flwr 2025-02-12 13:54:41,713 | client.py:51 | Creating client with cid: 32\n",
      "INFO flwr 2025-02-12 13:54:41,714 | client.py:51 | Creating client with cid: 44\n",
      "DEBUG flwr 2025-02-12 13:54:43,995 | server_returns_parameters.py:237 | fit_round 4 received 5 results and 0 failures\n",
      "100%|██████████| 47/47 [00:00<00:00, 212.22it/s]\n",
      "INFO flwr 2025-02-12 13:54:44,226 | server_returns_parameters.py:120 | fit progress: (4, 186.2810719013214, {'accuracy': 0.136}, 11.117822500003967)\n",
      "DEBUG flwr 2025-02-12 13:54:44,226 | server_returns_parameters.py:173 | evaluate_round 4: strategy sampled 5 clients (out of 62)\n",
      "INFO flwr 2025-02-12 13:54:44,227 | client.py:51 | Creating client with cid: 42\n",
      "INFO flwr 2025-02-12 13:54:44,227 | client.py:51 | Creating client with cid: 22\n",
      "INFO flwr 2025-02-12 13:54:44,227 | client.py:51 | Creating client with cid: 56\n",
      "INFO flwr 2025-02-12 13:54:44,228 | client.py:51 | Creating client with cid: 25\n",
      "INFO flwr 2025-02-12 13:54:44,228 | client.py:51 | Creating client with cid: 51\n",
      "DEBUG flwr 2025-02-12 13:54:44,287 | server_returns_parameters.py:187 | evaluate_round 4 received 0 results and 5 failures\n",
      "DEBUG flwr 2025-02-12 13:54:44,288 | server_returns_parameters.py:223 | fit_round 5: strategy sampled 5 clients (out of 62)\n",
      "INFO flwr 2025-02-12 13:54:44,289 | client.py:51 | Creating client with cid: 47\n",
      "INFO flwr 2025-02-12 13:54:44,289 | client.py:51 | Creating client with cid: 51\n",
      "INFO flwr 2025-02-12 13:54:44,291 | client.py:51 | Creating client with cid: 19\n",
      "INFO flwr 2025-02-12 13:54:44,291 | client.py:51 | Creating client with cid: 42\n",
      "INFO flwr 2025-02-12 13:54:44,293 | client.py:51 | Creating client with cid: 1\n",
      "DEBUG flwr 2025-02-12 13:54:46,450 | server_returns_parameters.py:237 | fit_round 5 received 5 results and 0 failures\n",
      "100%|██████████| 47/47 [00:00<00:00, 214.15it/s]\n",
      "INFO flwr 2025-02-12 13:54:46,678 | server_returns_parameters.py:120 | fit progress: (5, 309.6246643066406, {'accuracy': 0.010666666666666666}, 13.569986457994673)\n",
      "DEBUG flwr 2025-02-12 13:54:46,679 | server_returns_parameters.py:173 | evaluate_round 5: strategy sampled 5 clients (out of 62)\n",
      "INFO flwr 2025-02-12 13:54:46,679 | client.py:51 | Creating client with cid: 53\n",
      "INFO flwr 2025-02-12 13:54:46,680 | client.py:51 | Creating client with cid: 22\n",
      "INFO flwr 2025-02-12 13:54:46,680 | client.py:51 | Creating client with cid: 38\n",
      "INFO flwr 2025-02-12 13:54:46,681 | client.py:51 | Creating client with cid: 7\n",
      "INFO flwr 2025-02-12 13:54:46,681 | client.py:51 | Creating client with cid: 29\n",
      "DEBUG flwr 2025-02-12 13:54:46,697 | server_returns_parameters.py:187 | evaluate_round 5 received 0 results and 5 failures\n",
      "INFO flwr 2025-02-12 13:54:46,698 | server_returns_parameters.py:150 | FL finished in 13.589812582999002\n",
      "INFO flwr 2025-02-12 13:54:46,699 | app.py:250 | app_fit: losses_distributed []\n",
      "INFO flwr 2025-02-12 13:54:46,699 | app.py:251 | app_fit: metrics_distributed_fit {'train_loss': [(1, {'avg': 7.2679432451538964e-09, 'all': [(6, 2.3283057773437754e-10), (6, 9.681798585070567e-09), (6, 0.0), (6, 2.6425087062964536e-08), (6, 0.0)]}), (2, {'avg': 1.5700082167437643e-08, 'all': [(6, 2.473711561516249e-08), (6, 5.277376631992089e-08), (6, 0.0), (6, 0.0), (6, 9.895289021048341e-10)]}), (3, {'avg': 2.638743600939334e-10, 'all': [(6, 3.686484659204403e-10), (6, 0.0), (6, 0.0), (6, 9.507233345492268e-10), (6, 0.0)]}), (4, {'avg': 1.2024697329064231e-08, 'all': [(6, 0.0), (6, 1.241759634932708e-09), (6, 4.4625838094281e-10), (6, 5.04466117027628e-10), (6, 5.7931002512418006e-08)]}), (5, {'avg': 5.463450802415762e-09, 'all': [(6, 0.0), (6, 3.8805104962680304e-11), (6, 0.0), (6, 2.7278448907116133e-08), (6, 0.0)]})]}\n",
      "INFO flwr 2025-02-12 13:54:46,699 | app.py:252 | app_fit: metrics_distributed {}\n",
      "INFO flwr 2025-02-12 13:54:46,700 | app.py:253 | app_fit: losses_centralized [(0, 70.78418409824371), (1, 396.7785949707031), (2, 290.9444613456726), (3, 364.35610580444336), (4, 186.2810719013214), (5, 309.6246643066406)]\n",
      "INFO flwr 2025-02-12 13:54:46,700 | app.py:254 | app_fit: metrics_centralized {'accuracy': [(0, 0.57), (1, 0.058), (2, 0.056666666666666664), (3, 0.004), (4, 0.136), (5, 0.010666666666666666)]}\n"
     ]
    }
   ],
   "source": [
    "params, hist = start_seeded_simulation(\n",
    "    client_fn=lambda cid: imbalanced_flower_client_generator(cid).to_client(),\n",
    "    num_clients=num_total_clients,\n",
    "    config=ServerConfig(num_rounds=5),\n",
    "    strategy=strategy,\n",
    "    name=\"imbalanced\",\n",
    ")"
   ]
  },
  {
   "cell_type": "markdown",
   "metadata": {},
   "source": [
    "We will now investigate how such a partition behaves in an FL setting. In particular, we will try to understand what happens to the global model and the clients' updates as the training progresses.\n"
   ]
  },
  {
   "cell_type": "markdown",
   "metadata": {
    "id": "uzG9xF-lgb51"
   },
   "source": [
    "---\n",
    "\n",
    "**Question 2 (Part II ✅):**\n",
    "\n",
    "(You need to provide the answer with **code** and **plots** for this question. A short written argumentation is recommended.)\n",
    "\n",
    "1. For each round, retrieve the clients' models and the global model using the appropriate attribute of the `WrappedFedAvg` strategy.\n",
    "2. Inspect the models collected for each round as follows:\n",
    "   - Extract the \"softmax-ed\" activations of the last layer of each clients' model when the model is fed with random inputs. (HINT: `from common.client_utils import get_activations_from_random_input`, give a motivation for the choice of the parameters of this function if you decide to use it)\n",
    "   - Compute the pairwise cosine-similarity (you can use functions similar to those used in the previous Lab) between the values obtained in the previous step.\n",
    "   - Plot the results of this computation in a confusion matrix. The confusion matrix will have the shape `n_clients_per_round`x`n_clients_per_round`.\n",
    "   - Repeat the same procedure for computing and compare the pairwise KL divergence between the \"softmax-ed\" activations of the last layer of each clients' model when the model is fed with random inputs. (HINT: `from scipy.stats import entropy`).\n",
    "3. Compare the confusion matrices obtained. What do you observe, and how does it compare with your expectations? Briefly discuss the results.\n",
    "\n",
    "---\n"
   ]
  },
  {
   "cell_type": "markdown",
   "metadata": {},
   "source": [
    "\n",
    "---\n",
    "\n",
    "**Question 3 (Part III/MPhil ✅):**\n",
    "\n",
    "(This is meant to be a conceptual question. You should provide a written answer to this. **No more than 3 sentences**. **No code** is needed)\n",
    "\n",
    "1. Read about Multi-task Learning (MTL) [here](https://academic.oup.com/nsr/article/5/1/30/4101432). How does the concept of a client relate to a task in MTL?\n",
    "\n",
    "---\n"
   ]
  },
  {
   "cell_type": "markdown",
   "metadata": {},
   "source": [
    "**Question 3 Answer:**\n",
    "\n",
    "\n",
    "In Multi-task Learning (MTL), a task represent a unique learning objective, which has some form of relation to other tasks and the goal of MTL is to learn multiple tasks simultaneously to improve generalization and performance even for unseen tasks. In Federated Learning (FL), a client can be considered as a task in MTL where the client has its own learning objective (learning its own data distribution) with other clients with related objectives (learning a related data distribution). Similarly to MTL goal is to learn a global model (a model with multiple tasks) that can generalize well to all and previously unseen clients (tasks).\n",
    "\n",
    "\n",
    "---"
   ]
  },
  {
   "cell_type": "markdown",
   "metadata": {
    "id": "I64eyic-tnWF"
   },
   "source": [
    "#### LDA partitions\n",
    "---"
   ]
  },
  {
   "cell_type": "markdown",
   "metadata": {
    "id": "iLFg0zOBh77Q"
   },
   "source": [
    "The most popular method for creating heterogeneous partitions from a centralized dataset in terms of class unbalancing is [Latent Dirichlet Allocation (LDA)](https://web.archive.org/web/20120501152722/http://jmlr.csail.mit.edu/papers/v3/blei03a.html). LDA is a generative probabilistic model for collections of discrete data. The paper linked above provides all the theoretical details about the method.\n",
    "\n",
    "The important detail for you to understand about LDA is that the `concentration` parameter controls the degree of heterogeneity in the distribution while `num_partitions` controls how many clients are generated following the specified distribution.\n",
    "\n",
    "A `concentration=0` implies a completely heterogeneous distribution where each client may only contain examples from one class. Thus, if for a `concentration=0` we were to set the `num_partitions` argument to the number of classes we will get the same partitioning as the one we manually created above.\n",
    "\n",
    "> **Important:** The LDA partitioning only approaches a fully i.i.d distribution when `concentration` tends towards $\\infty$. The most appropriate value of the `concentration` to generate a completely i.i.d. partition is dataset dependent. Feel free to try out different values of `concentration` and `num_partitions` to see how the partitioning changes.\n"
   ]
  },
  {
   "cell_type": "markdown",
   "metadata": {},
   "source": [
    "Let's create the partitions using LDA with `concentration=2.5` and `num_partitions=1000`. This will result in a non-i.i.d. partitioning.\n"
   ]
  },
  {
   "cell_type": "code",
   "execution_count": 32,
   "metadata": {
    "id": "ztmKkBPLhBVP"
   },
   "outputs": [],
   "source": [
    "N_TOTAL_CLIENTS = 1_000\n",
    "concentration = 2.5\n",
    "# Create partitions\n",
    "x = np.array([x[0] for x in centralized_train_dataset.data])\n",
    "y = np.array([x[1] for x in centralized_train_dataset.data])\n",
    "train_clients_partitions, dist = create_lda_partitions(\n",
    "    dataset=(x, y),\n",
    "    dirichlet_dist=None,\n",
    "    num_partitions=N_TOTAL_CLIENTS,\n",
    "    concentration=concentration,\n",
    "    accept_imbalanced=True,\n",
    "    seed=Seeds.DEFAULT,\n",
    ")\n",
    "x = np.array([x[0] for x in centralized_test_dataset.data])\n",
    "y = np.array([x[1] for x in centralized_test_dataset.data])\n",
    "test_clients_partitions, dist = create_lda_partitions(\n",
    "    dataset=(x, y),\n",
    "    dirichlet_dist=dist,\n",
    "    num_partitions=N_TOTAL_CLIENTS,\n",
    "    concentration=concentration,\n",
    "    accept_imbalanced=True,\n",
    "    seed=Seeds.DEFAULT,\n",
    ")"
   ]
  },
  {
   "cell_type": "markdown",
   "metadata": {},
   "source": [
    "Let's store the partitions in the folder structure we have been using so far.\n"
   ]
  },
  {
   "cell_type": "code",
   "execution_count": 33,
   "metadata": {
    "id": "_EFfE0fVqnCB"
   },
   "outputs": [],
   "source": [
    "lda_partition: Path = dataset_dir / \"client_data_mappings\" / \"lda\"\n",
    "if lda_partition.exists():\n",
    "    shutil.rmtree(str(lda_partition))\n",
    "lda_partition.mkdir(parents=True, exist_ok=True)\n",
    "\n",
    "for i, (train_set, test_set) in enumerate(\n",
    "    zip(train_clients_partitions, test_clients_partitions, strict=True)\n",
    "):\n",
    "    folder_path: Path = lda_partition / str(i)\n",
    "    folder_path.mkdir(parents=True, exist_ok=True)\n",
    "\n",
    "    train_path: Path = folder_path / \"train.csv\"\n",
    "    test_path: Path = folder_path / \"test.csv\"\n",
    "\n",
    "    pd.DataFrame({\n",
    "        \"client_id\": [0] * len(train_set[0]),\n",
    "        \"sample_path\": train_set[0],\n",
    "        \"sample_id\": range(len(train_set[0])),\n",
    "        \"label\": train_set[1],\n",
    "    }).to_csv(train_path, index=False, mode=\"w\")\n",
    "    pd.DataFrame({\n",
    "        \"client_id\": [0] * len(test_set[0]),\n",
    "        \"sample_path\": test_set[0],\n",
    "        \"sample_id\": range(len(test_set[0])),\n",
    "        \"label\": test_set[1],\n",
    "    }).to_csv(test_path, index=False, mode=\"w\")"
   ]
  },
  {
   "cell_type": "markdown",
   "metadata": {},
   "source": [
    "We instantiate a client generator function.\n"
   ]
  },
  {
   "cell_type": "code",
   "execution_count": 34,
   "metadata": {
    "id": "pm6IBCqGqgHD"
   },
   "outputs": [],
   "source": [
    "lda_flower_client_generator: Callable[[str], FlowerClient] = (\n",
    "    get_flower_client_generator(\n",
    "        model_generator=network_generator_cnn,\n",
    "        data_dir=data_dir,\n",
    "        partition_dir=lda_partition,\n",
    "    )\n",
    ")"
   ]
  },
  {
   "cell_type": "markdown",
   "metadata": {},
   "source": [
    "We can also plot two clients' labels distributions to see how different they are.\n"
   ]
  },
  {
   "cell_type": "code",
   "execution_count": 35,
   "metadata": {
    "id": "EGf3J7SytbIc"
   },
   "outputs": [
    {
     "name": "stderr",
     "output_type": "stream",
     "text": [
      "INFO flwr 2025-02-12 14:30:27,898 | client.py:51 | Creating client with cid: 0\n",
      "INFO flwr 2025-02-12 14:30:27,929 | client.py:51 | Creating client with cid: 1\n"
     ]
    },
    {
     "data": {
      "text/plain": [
       "<matplotlib.legend.Legend at 0x33aaef940>"
      ]
     },
     "execution_count": 35,
     "metadata": {},
     "output_type": "execute_result"
    },
    {
     "data": {
      "image/png": "[encoded data removed]",
      "text/plain": [
       "<Figure size 640x480 with 1 Axes>"
      ]
     },
     "metadata": {},
     "output_type": "display_data"
    }
   ],
   "source": [
    "N_CLASSES = 62\n",
    "plt.hist(\n",
    "    [\n",
    "        int(x[1])\n",
    "        for x in lda_flower_client_generator(str(0))._load_dataset(\"train\").data\n",
    "    ],\n",
    "    bins=N_CLASSES,\n",
    "    color=\"blue\",\n",
    "    alpha=0.7,\n",
    "    label=\"client 0 train set\",\n",
    ")\n",
    "plt.hist(\n",
    "    [\n",
    "        int(x[1])\n",
    "        for x in lda_flower_client_generator(str(1))._load_dataset(\"train\").data\n",
    "    ],\n",
    "    bins=N_CLASSES,\n",
    "    color=\"orange\",\n",
    "    alpha=0.7,\n",
    "    label=\"client 1 train set\",\n",
    ")\n",
    "plt.legend()"
   ]
  },
  {
   "cell_type": "markdown",
   "metadata": {},
   "source": [
    "We try now to run an FL simulation is such challenging setting.\n"
   ]
  },
  {
   "cell_type": "code",
   "execution_count": 36,
   "metadata": {
    "id": "JWbg6Ty6s7c0"
   },
   "outputs": [],
   "source": [
    "train_config: dict[str, Any] = {\n",
    "    \"epochs\": 1,\n",
    "    \"batch_size\": 32,\n",
    "    \"client_learning_rate\": 0.01,\n",
    "    \"weight_decay\": 0.001,\n",
    "    \"num_workers\": 0,\n",
    "    \"max_batches\": None,\n",
    "}\n",
    "\n",
    "\n",
    "def _on_fit_config_fn(server_round: int) -> dict[str, Scalar]:\n",
    "    \"\"\"\n",
    "    Generate the training configuration for a given server round.\n",
    "\n",
    "    This function updates the global training configuration with the current server\n",
    "    round and returns the updated configuration.\n",
    "\n",
    "    Parameters\n",
    "    ----------\n",
    "    server_round : int\n",
    "        The current round of training on the server.\n",
    "\n",
    "    Returns\n",
    "    -------\n",
    "    dict[str, Scalar]\n",
    "        The updated training configuration dictionary.\n",
    "    \"\"\"\n",
    "    train_config.update({\"server_round\": server_round})\n",
    "    return train_config\n",
    "\n",
    "\n",
    "num_total_clients = N_TOTAL_CLIENTS\n",
    "num_clients_per_round: int = 5\n",
    "num_evaluate_clients: int = 0\n",
    "\n",
    "strategy = FedAvg(\n",
    "    fraction_fit=sys.float_info.min,\n",
    "    fraction_evaluate=sys.float_info.min,\n",
    "    min_fit_clients=num_clients_per_round,\n",
    "    min_evaluate_clients=num_evaluate_clients,\n",
    "    min_available_clients=max(num_clients_per_round, num_evaluate_clients),\n",
    "    on_fit_config_fn=_on_fit_config_fn,\n",
    "    on_evaluate_config_fn=None,\n",
    "    evaluate_fn=federated_evaluation_function,\n",
    "    initial_parameters=initial_parameters,\n",
    "    accept_failures=False,\n",
    "    fit_metrics_aggregation_fn=aggregate_weighted_average,\n",
    "    evaluate_metrics_aggregation_fn=aggregate_weighted_average,\n",
    ")"
   ]
  },
  {
   "cell_type": "code",
   "execution_count": 37,
   "metadata": {
    "id": "7PscXeuI6Dpo"
   },
   "outputs": [
    {
     "name": "stderr",
     "output_type": "stream",
     "text": [
      "INFO flwr 2025-02-12 14:30:45,455 | app.py:149 | Starting Flower simulation, config: ServerConfig(num_rounds=5, round_timeout=None)\n",
      "INFO flwr 2025-02-12 14:30:45,459 | server_returns_parameters.py:81 | Initializing global parameters\n",
      "INFO flwr 2025-02-12 14:30:45,533 | server_returns_parameters.py:273 | Using initial parameters provided by strategy\n",
      "INFO flwr 2025-02-12 14:30:45,538 | server_returns_parameters.py:84 | Evaluating initial parameters\n",
      "100%|██████████| 47/47 [00:00<00:00, 71.21it/s]\n",
      "INFO flwr 2025-02-12 14:30:46,228 | server_returns_parameters.py:87 | initial parameters (loss, other metrics): 70.78418409824371, {'accuracy': 0.57}\n",
      "INFO flwr 2025-02-12 14:30:46,228 | server_returns_parameters.py:97 | FL starting\n",
      "DEBUG flwr 2025-02-12 14:30:46,229 | server_returns_parameters.py:223 | fit_round 1: strategy sampled 5 clients (out of 1000)\n",
      "INFO flwr 2025-02-12 14:30:46,230 | client.py:51 | Creating client with cid: 632\n",
      "INFO flwr 2025-02-12 14:30:46,231 | client.py:51 | Creating client with cid: 947\n",
      "INFO flwr 2025-02-12 14:30:46,232 | client.py:51 | Creating client with cid: 546\n",
      "INFO flwr 2025-02-12 14:30:46,234 | client.py:51 | Creating client with cid: 726\n",
      "INFO flwr 2025-02-12 14:30:46,235 | client.py:51 | Creating client with cid: 374\n",
      "DEBUG flwr 2025-02-12 14:30:47,599 | server_returns_parameters.py:237 | fit_round 1 received 5 results and 0 failures\n",
      "100%|██████████| 47/47 [00:00<00:00, 199.35it/s]\n",
      "INFO flwr 2025-02-12 14:30:47,844 | server_returns_parameters.py:120 | fit progress: (1, 74.31935024261475, {'accuracy': 0.6733333333333333}, 1.614716749987565)\n",
      "INFO flwr 2025-02-12 14:30:47,844 | server_returns_parameters.py:171 | evaluate_round 1: no clients selected, cancel\n",
      "DEBUG flwr 2025-02-12 14:30:47,844 | server_returns_parameters.py:223 | fit_round 2: strategy sampled 5 clients (out of 1000)\n",
      "INFO flwr 2025-02-12 14:30:47,845 | client.py:51 | Creating client with cid: 584\n",
      "INFO flwr 2025-02-12 14:30:47,846 | client.py:51 | Creating client with cid: 599\n",
      "INFO flwr 2025-02-12 14:30:47,847 | client.py:51 | Creating client with cid: 749\n",
      "INFO flwr 2025-02-12 14:30:47,847 | client.py:51 | Creating client with cid: 169\n",
      "INFO flwr 2025-02-12 14:30:47,848 | client.py:51 | Creating client with cid: 793\n",
      "DEBUG flwr 2025-02-12 14:30:48,952 | server_returns_parameters.py:237 | fit_round 2 received 5 results and 0 failures\n",
      "100%|██████████| 47/47 [00:00<00:00, 174.16it/s]\n",
      "INFO flwr 2025-02-12 14:30:49,230 | server_returns_parameters.py:120 | fit progress: (2, 72.38489669561386, {'accuracy': 0.638}, 3.001028792001307)\n",
      "INFO flwr 2025-02-12 14:30:49,230 | server_returns_parameters.py:171 | evaluate_round 2: no clients selected, cancel\n",
      "DEBUG flwr 2025-02-12 14:30:49,230 | server_returns_parameters.py:223 | fit_round 3: strategy sampled 5 clients (out of 1000)\n",
      "INFO flwr 2025-02-12 14:30:49,231 | client.py:51 | Creating client with cid: 844\n",
      "INFO flwr 2025-02-12 14:30:49,231 | client.py:51 | Creating client with cid: 340\n",
      "INFO flwr 2025-02-12 14:30:49,232 | client.py:51 | Creating client with cid: 392\n",
      "INFO flwr 2025-02-12 14:30:49,232 | client.py:51 | Creating client with cid: 650\n",
      "INFO flwr 2025-02-12 14:30:49,233 | client.py:51 | Creating client with cid: 808\n",
      "DEBUG flwr 2025-02-12 14:30:50,194 | server_returns_parameters.py:237 | fit_round 3 received 5 results and 0 failures\n",
      "100%|██████████| 47/47 [00:00<00:00, 209.02it/s]\n",
      "INFO flwr 2025-02-12 14:30:50,428 | server_returns_parameters.py:120 | fit progress: (3, 83.67553466558456, {'accuracy': 0.6293333333333333}, 4.199163708020933)\n",
      "INFO flwr 2025-02-12 14:30:50,428 | server_returns_parameters.py:171 | evaluate_round 3: no clients selected, cancel\n",
      "DEBUG flwr 2025-02-12 14:30:50,429 | server_returns_parameters.py:223 | fit_round 4: strategy sampled 5 clients (out of 1000)\n",
      "INFO flwr 2025-02-12 14:30:50,430 | client.py:51 | Creating client with cid: 368\n",
      "INFO flwr 2025-02-12 14:30:50,430 | client.py:51 | Creating client with cid: 943\n",
      "INFO flwr 2025-02-12 14:30:50,431 | client.py:51 | Creating client with cid: 315\n",
      "INFO flwr 2025-02-12 14:30:50,431 | client.py:51 | Creating client with cid: 400\n",
      "INFO flwr 2025-02-12 14:30:50,431 | client.py:51 | Creating client with cid: 713\n",
      "DEBUG flwr 2025-02-12 14:30:51,386 | server_returns_parameters.py:237 | fit_round 4 received 5 results and 0 failures\n",
      "100%|██████████| 47/47 [00:00<00:00, 207.15it/s]\n",
      "INFO flwr 2025-02-12 14:30:51,620 | server_returns_parameters.py:120 | fit progress: (4, 82.01117998361588, {'accuracy': 0.6746666666666666}, 5.391248458006885)\n",
      "INFO flwr 2025-02-12 14:30:51,620 | server_returns_parameters.py:171 | evaluate_round 4: no clients selected, cancel\n",
      "DEBUG flwr 2025-02-12 14:30:51,621 | server_returns_parameters.py:223 | fit_round 5: strategy sampled 5 clients (out of 1000)\n",
      "INFO flwr 2025-02-12 14:30:51,621 | client.py:51 | Creating client with cid: 209\n",
      "INFO flwr 2025-02-12 14:30:51,622 | client.py:51 | Creating client with cid: 779\n",
      "INFO flwr 2025-02-12 14:30:51,622 | client.py:51 | Creating client with cid: 672\n",
      "INFO flwr 2025-02-12 14:30:51,623 | client.py:51 | Creating client with cid: 884\n",
      "INFO flwr 2025-02-12 14:30:51,623 | client.py:51 | Creating client with cid: 934\n",
      "DEBUG flwr 2025-02-12 14:30:52,485 | server_returns_parameters.py:237 | fit_round 5 received 5 results and 0 failures\n",
      "100%|██████████| 47/47 [00:00<00:00, 212.05it/s]\n",
      "INFO flwr 2025-02-12 14:30:52,715 | server_returns_parameters.py:120 | fit progress: (5, 89.18762493133545, {'accuracy': 0.662}, 6.485685333027504)\n",
      "INFO flwr 2025-02-12 14:30:52,715 | server_returns_parameters.py:171 | evaluate_round 5: no clients selected, cancel\n",
      "INFO flwr 2025-02-12 14:30:52,715 | server_returns_parameters.py:150 | FL finished in 6.4863588330335915\n",
      "INFO flwr 2025-02-12 14:30:52,715 | app.py:250 | app_fit: losses_distributed []\n",
      "INFO flwr 2025-02-12 14:30:52,716 | app.py:251 | app_fit: metrics_distributed_fit {'train_loss': [(1, {'avg': 0.026624511554837228, 'all': [(20, 0.02393855298869312), (20, 0.021733143040910362), (20, 0.03870560983195901), (20, 0.03099018130451441), (20, 0.017755070608109234)]}), (2, {'avg': 0.03459102475084364, 'all': [(20, 0.025922113750129937), (20, 0.020683826599270105), (20, 0.030128476023674012), (20, 0.0802724115550518), (20, 0.015948295826092362)]}), (3, {'avg': 0.028699913430027663, 'all': [(20, 0.017221773555502296), (20, 0.021108680265024306), (20, 0.04040125217288733), (20, 0.04892218979075551), (20, 0.015845671365968882)]}), (4, {'avg': 0.033229832348879426, 'all': [(20, 0.040088678058236835), (20, 0.0139463881845586), (20, 0.01734764315187931), (20, 0.05707320123910904), (20, 0.03769325111061335)]}), (5, {'avg': 0.032067336167674515, 'all': [(20, 0.01662410800345242), (20, 0.09743121527135372), (20, 0.009941796830389649), (20, 0.014243493764661252), (20, 0.022096066968515515)]})]}\n",
      "INFO flwr 2025-02-12 14:30:52,716 | app.py:252 | app_fit: metrics_distributed {}\n",
      "INFO flwr 2025-02-12 14:30:52,716 | app.py:253 | app_fit: losses_centralized [(0, 70.78418409824371), (1, 74.31935024261475), (2, 72.38489669561386), (3, 83.67553466558456), (4, 82.01117998361588), (5, 89.18762493133545)]\n",
      "INFO flwr 2025-02-12 14:30:52,717 | app.py:254 | app_fit: metrics_centralized {'accuracy': [(0, 0.57), (1, 0.6733333333333333), (2, 0.638), (3, 0.6293333333333333), (4, 0.6746666666666666), (5, 0.662)]}\n"
     ]
    }
   ],
   "source": [
    "params, hist = start_seeded_simulation(\n",
    "    client_fn=lambda cid: lda_flower_client_generator(cid).to_client(),\n",
    "    num_clients=num_total_clients,\n",
    "    config=ServerConfig(num_rounds=5),\n",
    "    strategy=strategy,\n",
    "    name=\"fedavg_lda_example\",\n",
    ")"
   ]
  },
  {
   "cell_type": "markdown",
   "metadata": {},
   "source": [
    "---\n",
    "\n",
    "**Question 4 (Part II ✅):**\n",
    "\n",
    "(You need to provide the answer with **code** and **plots** for this question. A short written argumentation is recommended.)\n",
    "\n",
    "1. Produce a set of LDA partitions with `concentration` in `[0.001, 0.1, 1e3]`.\n",
    "2. Train an FL setting for every partition you have produced using the same hyperparameter we used in the cell above, but with `num_clients_per_round=62` and `ServerConfig(num_rounds=1)`.\n",
    "3. Why do you think one-shot averaging works well for full i.i.d. data and not for very heterogeneous clients?\n",
    "\n",
    "---\n"
   ]
  },
  {
   "cell_type": "markdown",
   "metadata": {},
   "source": [
    "Use the configuration provided by the following cell.\n",
    "\n",
    "> **IMPORTANT**: Be careful when using the strategy object. You must ensure that the different experiments will use the same initial parameters. Inspect `flwr.server.strategy.FedAvg` to understand how these are used.\n"
   ]
  },
  {
   "cell_type": "code",
   "execution_count": 38,
   "metadata": {},
   "outputs": [],
   "source": [
    "# NOTE: We are using randomly initialized parameters here.\n",
    "torch.manual_seed(Seeds.DEFAULT)\n",
    "network_generator_cnn = get_network_generator_cnn()\n",
    "seed_net_cnn = network_generator_cnn()\n",
    "q4_initial_parameters: Parameters = ndarrays_to_parameters(\n",
    "    get_model_parameters(seed_net_cnn)\n",
    ")\n",
    "# Set up experiment configuration\n",
    "N_TOTAL_CLIENTS = 100\n",
    "N_TOTAL_ROUNDS = 1\n",
    "train_config: dict[str, Any] = {\n",
    "    \"epochs\": 1,\n",
    "    \"batch_size\": 32,\n",
    "    \"client_learning_rate\": 0.001,\n",
    "    \"weight_decay\": 0.001,\n",
    "    \"num_workers\": 0,\n",
    "    \"max_batches\": None,\n",
    "}\n",
    "\n",
    "\n",
    "def _on_fit_config_fn(server_round: int) -> dict[str, Scalar]:\n",
    "    \"\"\"\n",
    "    Generate the training configuration for a given server round.\n",
    "\n",
    "    This function updates the global training configuration with the current server\n",
    "    round and returns the updated configuration.\n",
    "\n",
    "    Parameters\n",
    "    ----------\n",
    "    server_round : int\n",
    "        The current round of training on the server.\n",
    "\n",
    "    Returns\n",
    "    -------\n",
    "    dict[str, Scalar]\n",
    "        The updated training configuration dictionary.\n",
    "    \"\"\"\n",
    "    train_config.update({\"server_round\": server_round})\n",
    "    return train_config\n",
    "\n",
    "\n",
    "num_total_clients = N_TOTAL_CLIENTS\n",
    "num_clients_per_round: int = 62\n",
    "num_evaluate_clients: int = 0\n",
    "fraction_fit: float = float(num_clients_per_round) / num_total_clients\n",
    "fraction_evaluate: float = float(num_evaluate_clients) / num_total_clients\n",
    "# Set up strategy\n",
    "strategy = FedAvg(\n",
    "    fraction_fit=sys.float_info.min,\n",
    "    fraction_evaluate=sys.float_info.min,\n",
    "    min_fit_clients=num_clients_per_round,\n",
    "    min_evaluate_clients=num_evaluate_clients,\n",
    "    min_available_clients=max(num_clients_per_round, num_evaluate_clients),\n",
    "    on_fit_config_fn=_on_fit_config_fn,\n",
    "    on_evaluate_config_fn=None,\n",
    "    evaluate_fn=federated_evaluation_function,\n",
    "    initial_parameters=q4_initial_parameters,\n",
    "    accept_failures=False,\n",
    "    fit_metrics_aggregation_fn=aggregate_weighted_average,\n",
    "    evaluate_metrics_aggregation_fn=aggregate_weighted_average,\n",
    ")"
   ]
  },
  {
   "cell_type": "markdown",
   "metadata": {
    "id": "i0_aN4dkcvv8"
   },
   "source": [
    "## 4. FL Strategies tackling heterogeneity\n",
    "---"
   ]
  },
  {
   "cell_type": "markdown",
   "metadata": {
    "id": "9ayxhgBa-8Oi"
   },
   "source": [
    "The challenge of dealing with non-iidness in FL has been discussed extensively since the publication of the first paper about FL. Many approaches have been proposed, but still, the literature doesn't agree on a general approach or a rule of thumb. A natural method is to modify/extend FedAvg or develop another algorithm specifically oriented to mitigating heterogeneity. In some applications, augmenting data to make it more similar between clients is possible. Some works assume a small dataset that is shared between clients to serve as a reference.\n",
    "\n",
    "Every time a new approach has been proposed, many related questions have arisen. It is no longer clear that treating all examples of all the clients equally make sense. Some works proposed limiting the contributions of data from any client in the federation. The notion of fairness has been introduced and defined in many ways in order to set up principles that could result in new approaches, for example emphasizing underperforming clients during aggregation. It is not even clear whether a single global model is the correct objective for FL---works related to this question gave birth to Personalised Federated Learning (PFL), a sub-branch of research.\n",
    "\n",
    "We started to think that we should be able to turn the non-iid problem from a bug into a feature treated similarly to a task in MTL. The number of works that start with this perspective is however limited.\n",
    "\n",
    "Even if FedAvg can partially mitigate heterogeneity, it is not working well in all situations, as we saw previously. From the many new algorithms that were introduced, it is worth mentioning: [FedProx](https://www.researchgate.net/profile/Anit-Sahu/publication/329734586_On_the_Convergence_of_Federated_Optimization_in_Heterogeneous_Networks/links/5c1bdd5e299bf12be38ee52d/On-the-Convergence-of-Federated-Optimization-in-Heterogeneous-Networks.pdf), [q-FedAvg](https://arxiv.org/abs/1905.10497), [SCAFFOLD](http://proceedings.mlr.press/v119/karimireddy20a.html). For a matter of time, we will now explore just one of these algorithms introduced for tackling the non-iid problem specifically. We chose FedProx since it is the simplest to demonstrate.\n"
   ]
  },
  {
   "cell_type": "markdown",
   "metadata": {
    "id": "W3xe9fHHc5Sc"
   },
   "source": [
    "### FedProx\n",
    "---"
   ]
  },
  {
   "cell_type": "markdown",
   "metadata": {
    "id": "xNyYEsRnId3C"
   },
   "source": [
    "The Federated Proximal (FedProx) method was developed in the context of tuning and benchmarking FedAvg in a heterogeneous setting. The authors of FedAvg proposed carefully tuning the learning rate and the number of local epochs to increase the accuracy in such settings but turned out clear that something more was necessary. Based on the client's heterogeneity, local updates change the global model not only in different directions in the loss space but also at different rates. This phenomenon is called client divergence or drifting.\n",
    "\n",
    "Using FedAvg we would like to have a different number of local epochs for each client based on its characteristics. Thus, heuristically setting the number of local updates is not always optimal, because clients are all different from each other. Limiting the number of local updates through a more flexible tool is beneficial. Thus, FedProx proposes to incorporate a term in the local objective function that penalizes big changes from the current model at the server. In each node $k$, instead of minimizing the local loss function $F_k$, the local solver tries to approximately minimize:\n",
    "\n",
    "$\\min_wh_w(w;w^t)=F_k(w)+\\frac{\\mu}{2}||w-w^t||^2$,\n",
    "\n",
    "where $||w-w^t||^2$ is the new proximal term.\n",
    "\n",
    "FedProx acts as FedAvg apart from the change in the local objective. This new objective enforces limited local model updates more explicitly than FedAvg. Using FedProx, it is no longer necessary to tune the number of local epochs for each client to minimize divergence.\n",
    "\n",
    "We will now implement and test FedProx on the natural partition of FEMNIST. Implementing FedProx just involves modifying the local training function of our `FlowerRayClient`. We will then write the new function and build a new `client_generator` function that overwrites the relevant methods of our client.\n"
   ]
  },
  {
   "cell_type": "code",
   "execution_count": 39,
   "metadata": {
    "id": "BoGXFQALRRkR"
   },
   "outputs": [],
   "source": [
    "def train_fedprox_femnist(\n",
    "    net: Module,\n",
    "    train_loader: DataLoader,\n",
    "    epochs: int,\n",
    "    device: str,\n",
    "    optimizer: torch.optim.Optimizer,\n",
    "    criterion: Module,\n",
    "    proximal_mu: float,\n",
    ") -> float:\n",
    "    \"\"\"Train the network on the training set using FedProx.\n",
    "\n",
    "    Parameters\n",
    "    ----------\n",
    "        net (Module): generic module object describing the network to train.\n",
    "        train_loader (DataLoader): dataloader to iterate during the training.\n",
    "        epochs (int): number of epochs of training.\n",
    "        device (str): device name onto which perform the computation.\n",
    "        optimizer (torch.optim.Optimizer): optimizer object.\n",
    "        criterion (Module): generic module describing the loss function.\n",
    "        proximal_mu (float): parameter for the weight of the proximal term.\n",
    "\n",
    "    Returns\n",
    "    -------\n",
    "        float: the final epoch mean train loss.\n",
    "    \"\"\"\n",
    "    global_params: Module = deepcopy(net)\n",
    "    global_params.requires_grad_(False)\n",
    "    global_params_list = [val for _, val in global_params.state_dict().items()]\n",
    "    net.train()\n",
    "    running_loss, total = 0.0, 0\n",
    "    for _ in tqdm(range(epochs)):\n",
    "        running_loss = 0.0\n",
    "        total = 0\n",
    "        for data, labels in train_loader:\n",
    "            data, labels = data.to(device), labels.to(device)\n",
    "            optimizer.zero_grad()\n",
    "            # NOTE: here comes the implementation of FedProx algorithm\n",
    "            proximal_term = 0.0\n",
    "            for local_weights, global_weights in zip(\n",
    "                net.parameters(), global_params_list, strict=True\n",
    "            ):\n",
    "                proximal_term += (local_weights - global_weights).norm(2)\n",
    "            loss = criterion(net(data), labels) + (proximal_mu / 2) * proximal_term\n",
    "            running_loss += loss.item()\n",
    "            total += labels.size(0)\n",
    "            loss.backward()\n",
    "            optimizer.step()\n",
    "    return running_loss / total\n",
    "\n",
    "\n",
    "def _train_fedprox(\n",
    "    self: FlowerClient, net: Module, train_loader: DataLoader, config: dict[str, Scalar]\n",
    ") -> float:\n",
    "    return train_fedprox_femnist(\n",
    "        net=net,\n",
    "        train_loader=train_loader,\n",
    "        epochs=int(config[\"epochs\"]),\n",
    "        device=self.device,\n",
    "        optimizer=torch.optim.AdamW(\n",
    "            net.parameters(),\n",
    "            lr=float(config[\"client_learning_rate\"]),\n",
    "            weight_decay=float(config[\"weight_decay\"]),\n",
    "        ),\n",
    "        criterion=torch.nn.CrossEntropyLoss(),\n",
    "        proximal_mu=float(config[\"proximal_mu\"]),\n",
    "    )\n",
    "\n",
    "\n",
    "def get_fedprox_flower_client_generator(\n",
    "    model_generator: Callable[[], Module],\n",
    "    data_dir: Path,\n",
    "    partition_dir: Path,\n",
    ") -> Callable[[str], FlowerClient]:\n",
    "    \"\"\"Implement a wrapper function for the client instance generator.\n",
    "\n",
    "    This provides the client generator with a model generator function.\n",
    "    Also, the partition directory must be passed.\n",
    "    The clients generated will train using FedProx algorithm.\n",
    "\n",
    "    Parameters\n",
    "    ----------\n",
    "        data_dir (Path): path to the dataset folder.\n",
    "        model_generator (Callable[[], Module]): model generator function.\n",
    "        partition_dir (Path): directory containing the partition.\n",
    "\n",
    "    Returns\n",
    "    -------\n",
    "        Callable[[str], WrappedClient]: client instance.\n",
    "    \"\"\"\n",
    "\n",
    "    def client_fn(cid: str) -> FlowerClient:\n",
    "        \"\"\"Create a single client instance given the client id `cid`.\n",
    "\n",
    "        Parameters\n",
    "        ----------\n",
    "            cid (str): client id, Flower requires this to of type str.\n",
    "\n",
    "        Returns\n",
    "        -------\n",
    "            WrappedClient: client instance.\n",
    "        \"\"\"\n",
    "        log(INFO, f\"Getting client with id {cid}\")\n",
    "        client = FlowerClient(\n",
    "            cid=int(cid),\n",
    "            data_dir=data_dir,\n",
    "            partition_dir=partition_dir,\n",
    "            model_generator=model_generator,\n",
    "        )\n",
    "        # Pay attention to the following line\n",
    "        client._train = MethodType(_train_fedprox, client)\n",
    "        return client\n",
    "\n",
    "    return client_fn"
   ]
  },
  {
   "cell_type": "code",
   "execution_count": 40,
   "metadata": {},
   "outputs": [],
   "source": [
    "torch.manual_seed(Seeds.DEFAULT)\n",
    "N_TOTAL_CLIENTS = 1000\n",
    "CONCENTRATION = 0.1\n",
    "# Create partitions\n",
    "x = np.array([x[0] for x in centralized_train_dataset.data])\n",
    "y = np.array([x[1] for x in centralized_train_dataset.data])\n",
    "train_clients_partitions, dist = create_lda_partitions(\n",
    "    dataset=(x, y),\n",
    "    dirichlet_dist=None,\n",
    "    num_partitions=N_TOTAL_CLIENTS,\n",
    "    concentration=CONCENTRATION,\n",
    "    accept_imbalanced=True,\n",
    "    seed=Seeds.DEFAULT,\n",
    ")\n",
    "x = np.array([x[0] for x in centralized_test_dataset.data])\n",
    "y = np.array([x[1] for x in centralized_test_dataset.data])\n",
    "test_clients_partitions, dist = create_lda_partitions(\n",
    "    dataset=(x, y),\n",
    "    dirichlet_dist=dist,\n",
    "    num_partitions=N_TOTAL_CLIENTS,\n",
    "    concentration=CONCENTRATION,\n",
    "    accept_imbalanced=True,\n",
    ")\n",
    "# Store partitions\n",
    "lda_partition: Path = dataset_dir / \"client_data_mappings\" / f\"lda_{CONCENTRATION}\"\n",
    "if lda_partition.exists():\n",
    "    shutil.rmtree(str(lda_partition))\n",
    "lda_partition.mkdir(parents=True, exist_ok=True)\n",
    "\n",
    "for i, (train_set, test_set) in enumerate(\n",
    "    zip(train_clients_partitions, test_clients_partitions, strict=True)\n",
    "):\n",
    "    folder_path: Path = lda_partition / str(i)\n",
    "    folder_path.mkdir(parents=True, exist_ok=True)\n",
    "\n",
    "    train_path: Path = folder_path / \"train.csv\"\n",
    "    test_path: Path = folder_path / \"test.csv\"\n",
    "\n",
    "    pd.DataFrame({\n",
    "        \"client_id\": [0] * len(train_set[0]),\n",
    "        \"sample_path\": train_set[0],\n",
    "        \"sample_id\": range(len(train_set[0])),\n",
    "        \"label\": train_set[1],\n",
    "    }).to_csv(train_path, index=False)\n",
    "    pd.DataFrame({\n",
    "        \"client_id\": [0] * len(test_set[0]),\n",
    "        \"sample_path\": test_set[0],\n",
    "        \"sample_id\": range(len(test_set[0])),\n",
    "        \"label\": test_set[1],\n",
    "    }).to_csv(test_path, index=False)"
   ]
  },
  {
   "cell_type": "markdown",
   "metadata": {
    "id": "wjiLOOddl6cw"
   },
   "source": [
    "We are now able to train an FL setting using FedProx.\n"
   ]
  },
  {
   "cell_type": "code",
   "execution_count": 41,
   "metadata": {
    "id": "Sbd8Ks4Hl-Uz"
   },
   "outputs": [],
   "source": [
    "# NOTE: we are using here the `get_fedprox_flower_client_generator`\n",
    "federated_fedprox_flower_client_generator: Callable[[str], FlowerClient] = (\n",
    "    get_fedprox_flower_client_generator(\n",
    "        model_generator=network_generator_cnn,\n",
    "        data_dir=data_dir,\n",
    "        partition_dir=lda_partition,\n",
    "    )\n",
    ")\n",
    "N_TOTAL_ROUNDS = 5\n",
    "# Set up experiment configuration\n",
    "train_config: dict[str, Any] = {\n",
    "    \"epochs\": 1,\n",
    "    \"batch_size\": 32,\n",
    "    \"client_learning_rate\": 0.1,\n",
    "    \"weight_decay\": 0.001,\n",
    "    \"num_workers\": 0,\n",
    "    \"max_batches\": None,\n",
    "    \"proximal_mu\": 0.01,\n",
    "}\n",
    "\n",
    "\n",
    "def _on_fit_config_fn(server_round: int) -> dict[str, Scalar]:\n",
    "    train_config.update({\"server_round\": server_round})\n",
    "    return train_config\n",
    "\n",
    "\n",
    "num_total_clients = N_TOTAL_CLIENTS\n",
    "num_clients_per_round: int = 5\n",
    "num_evaluate_clients: int = 0\n",
    "fraction_fit: float = float(num_clients_per_round) / num_total_clients\n",
    "fraction_evaluate: float = float(num_evaluate_clients) / num_total_clients\n",
    "# Set up strategy\n",
    "strategy = FedAvg(\n",
    "    fraction_fit=sys.float_info.min,\n",
    "    fraction_evaluate=sys.float_info.min,\n",
    "    min_fit_clients=num_clients_per_round,\n",
    "    min_evaluate_clients=num_evaluate_clients,\n",
    "    min_available_clients=max(num_clients_per_round, num_evaluate_clients),\n",
    "    on_fit_config_fn=_on_fit_config_fn,\n",
    "    on_evaluate_config_fn=None,\n",
    "    evaluate_fn=federated_evaluation_function,\n",
    "    initial_parameters=initial_parameters,\n",
    "    accept_failures=False,\n",
    "    fit_metrics_aggregation_fn=aggregate_weighted_average,\n",
    "    evaluate_metrics_aggregation_fn=aggregate_weighted_average,\n",
    ")"
   ]
  },
  {
   "cell_type": "code",
   "execution_count": 42,
   "metadata": {
    "id": "7cg576GQBRWS"
   },
   "outputs": [
    {
     "name": "stderr",
     "output_type": "stream",
     "text": [
      "INFO flwr 2025-02-12 14:45:38,119 | app.py:149 | Starting Flower simulation, config: ServerConfig(num_rounds=5, round_timeout=None)\n",
      "INFO flwr 2025-02-12 14:45:38,122 | server_returns_parameters.py:81 | Initializing global parameters\n",
      "INFO flwr 2025-02-12 14:45:38,137 | server_returns_parameters.py:273 | Using initial parameters provided by strategy\n",
      "INFO flwr 2025-02-12 14:45:38,139 | server_returns_parameters.py:84 | Evaluating initial parameters\n",
      "100%|██████████| 47/47 [00:00<00:00, 71.87it/s]\n",
      "INFO flwr 2025-02-12 14:45:38,810 | server_returns_parameters.py:87 | initial parameters (loss, other metrics): 70.78418409824371, {'accuracy': 0.57}\n",
      "INFO flwr 2025-02-12 14:45:38,810 | server_returns_parameters.py:97 | FL starting\n",
      "DEBUG flwr 2025-02-12 14:45:38,811 | server_returns_parameters.py:223 | fit_round 1: strategy sampled 5 clients (out of 1000)\n",
      "INFO flwr 2025-02-12 14:45:38,813 | 2358598921.py:102 | Getting client with id 632\n",
      "INFO flwr 2025-02-12 14:45:38,814 | 2358598921.py:102 | Getting client with id 947\n",
      "INFO flwr 2025-02-12 14:45:38,814 | client.py:51 | Creating client with cid: 632\n",
      "INFO flwr 2025-02-12 14:45:38,814 | 2358598921.py:102 | Getting client with id 546\n",
      "INFO flwr 2025-02-12 14:45:38,814 | 2358598921.py:102 | Getting client with id 726\n",
      "INFO flwr 2025-02-12 14:45:38,815 | 2358598921.py:102 | Getting client with id 374\n",
      "INFO flwr 2025-02-12 14:45:38,815 | client.py:51 | Creating client with cid: 947\n",
      "INFO flwr 2025-02-12 14:45:38,817 | client.py:51 | Creating client with cid: 546\n",
      "INFO flwr 2025-02-12 14:45:38,818 | client.py:51 | Creating client with cid: 726\n",
      "INFO flwr 2025-02-12 14:45:38,819 | client.py:51 | Creating client with cid: 374\n",
      "  0%|          | 0/1 [00:00<?, ?it/s]\n",
      "\u001b[A\n",
      "\n",
      "\n",
      "\u001b[A\u001b[A\u001b[A\n",
      "\n",
      "\u001b[A\u001b[A\n",
      "\n",
      "100%|██████████| 1/1 [00:02<00:00,  2.81s/it]\n",
      "\u001b[A\n",
      "\n",
      "\n",
      "100%|██████████| 1/1 [00:02<00:00,  2.80s/it]\n",
      "100%|██████████| 1/1 [00:02<00:00,  2.81s/it]\n",
      "100%|██████████| 1/1 [00:02<00:00,  2.82s/it]\n",
      "100%|██████████| 1/1 [00:02<00:00,  2.81s/it]\n",
      "100%|██████████| 1/1 [00:02<00:00,  2.81s/it]\n",
      "DEBUG flwr 2025-02-12 14:45:41,697 | server_returns_parameters.py:237 | fit_round 1 received 5 results and 0 failures\n",
      "100%|██████████| 47/47 [00:00<00:00, 162.74it/s]\n",
      "INFO flwr 2025-02-12 14:45:41,994 | server_returns_parameters.py:120 | fit progress: (1, 180.42159461975098, {'accuracy': 0.006}, 3.1830372500116937)\n",
      "INFO flwr 2025-02-12 14:45:41,994 | server_returns_parameters.py:171 | evaluate_round 1: no clients selected, cancel\n",
      "DEBUG flwr 2025-02-12 14:45:41,995 | server_returns_parameters.py:223 | fit_round 2: strategy sampled 5 clients (out of 1000)\n",
      "INFO flwr 2025-02-12 14:45:41,995 | 2358598921.py:102 | Getting client with id 584\n",
      "INFO flwr 2025-02-12 14:45:41,996 | 2358598921.py:102 | Getting client with id 599\n",
      "INFO flwr 2025-02-12 14:45:41,996 | 2358598921.py:102 | Getting client with id 749\n",
      "INFO flwr 2025-02-12 14:45:41,996 | 2358598921.py:102 | Getting client with id 169\n",
      "INFO flwr 2025-02-12 14:45:41,996 | client.py:51 | Creating client with cid: 584\n",
      "INFO flwr 2025-02-12 14:45:41,997 | 2358598921.py:102 | Getting client with id 793\n",
      "INFO flwr 2025-02-12 14:45:41,998 | client.py:51 | Creating client with cid: 599\n",
      "INFO flwr 2025-02-12 14:45:41,998 | client.py:51 | Creating client with cid: 749\n",
      "INFO flwr 2025-02-12 14:45:41,999 | client.py:51 | Creating client with cid: 169\n",
      "INFO flwr 2025-02-12 14:45:42,001 | client.py:51 | Creating client with cid: 793\n",
      "  0%|          | 0/1 [00:00<?, ?it/s]\n",
      "\u001b[A\n",
      "\n",
      "\n",
      "\u001b[A\u001b[A\u001b[A\n",
      "\n",
      "\u001b[A\u001b[A\n",
      "\u001b[A\n",
      "\n",
      "\n",
      "\u001b[A\u001b[A\u001b[A\n",
      "\n",
      "100%|██████████| 1/1 [00:01<00:00,  1.25s/it]\n",
      "100%|██████████| 1/1 [00:01<00:00,  1.25s/it]\n",
      "100%|██████████| 1/1 [00:01<00:00,  1.26s/it]\n",
      "100%|██████████| 1/1 [00:01<00:00,  1.26s/it]\n",
      "100%|██████████| 1/1 [00:01<00:00,  1.26s/it]\n",
      "DEBUG flwr 2025-02-12 14:45:43,342 | server_returns_parameters.py:237 | fit_round 2 received 5 results and 0 failures\n",
      "100%|██████████| 47/47 [00:00<00:00, 197.06it/s]\n",
      "INFO flwr 2025-02-12 14:45:43,595 | server_returns_parameters.py:120 | fit progress: (2, 189.9695188999176, {'accuracy': 0.05733333333333333}, 4.784222749993205)\n",
      "INFO flwr 2025-02-12 14:45:43,596 | server_returns_parameters.py:171 | evaluate_round 2: no clients selected, cancel\n",
      "DEBUG flwr 2025-02-12 14:45:43,597 | server_returns_parameters.py:223 | fit_round 3: strategy sampled 5 clients (out of 1000)\n",
      "INFO flwr 2025-02-12 14:45:43,597 | 2358598921.py:102 | Getting client with id 844\n",
      "INFO flwr 2025-02-12 14:45:43,598 | 2358598921.py:102 | Getting client with id 340\n",
      "INFO flwr 2025-02-12 14:45:43,598 | 2358598921.py:102 | Getting client with id 392\n",
      "INFO flwr 2025-02-12 14:45:43,598 | 2358598921.py:102 | Getting client with id 650\n",
      "INFO flwr 2025-02-12 14:45:43,598 | client.py:51 | Creating client with cid: 844\n",
      "INFO flwr 2025-02-12 14:45:43,598 | 2358598921.py:102 | Getting client with id 808\n",
      "INFO flwr 2025-02-12 14:45:43,599 | client.py:51 | Creating client with cid: 340\n",
      "INFO flwr 2025-02-12 14:45:43,599 | client.py:51 | Creating client with cid: 392\n",
      "INFO flwr 2025-02-12 14:45:43,600 | client.py:51 | Creating client with cid: 650\n",
      "INFO flwr 2025-02-12 14:45:43,602 | client.py:51 | Creating client with cid: 808\n",
      "  0%|          | 0/1 [00:00<?, ?it/s]\n",
      "\u001b[A\n",
      "\n",
      "\u001b[A\u001b[A\n",
      "\n",
      "\n",
      "100%|██████████| 1/1 [00:01<00:00,  1.24s/it]\n",
      "\n",
      "\u001b[A\u001b[A\n",
      "\n",
      "\n",
      "\u001b[A\u001b[A\u001b[A\n",
      "100%|██████████| 1/1 [00:01<00:00,  1.25s/it]\n",
      "100%|██████████| 1/1 [00:01<00:00,  1.25s/it]\n",
      "100%|██████████| 1/1 [00:01<00:00,  1.25s/it]\n",
      "100%|██████████| 1/1 [00:01<00:00,  1.24s/it]\n",
      "100%|██████████| 1/1 [00:01<00:00,  1.25s/it]\n",
      "DEBUG flwr 2025-02-12 14:45:44,936 | server_returns_parameters.py:237 | fit_round 3 received 5 results and 0 failures\n",
      "100%|██████████| 47/47 [00:00<00:00, 210.38it/s]\n",
      "INFO flwr 2025-02-12 14:45:45,171 | server_returns_parameters.py:120 | fit progress: (3, 178.5223352909088, {'accuracy': 0.07333333333333333}, 6.360522250004578)\n",
      "INFO flwr 2025-02-12 14:45:45,172 | server_returns_parameters.py:171 | evaluate_round 3: no clients selected, cancel\n",
      "DEBUG flwr 2025-02-12 14:45:45,172 | server_returns_parameters.py:223 | fit_round 4: strategy sampled 5 clients (out of 1000)\n",
      "INFO flwr 2025-02-12 14:45:45,173 | 2358598921.py:102 | Getting client with id 368\n",
      "INFO flwr 2025-02-12 14:45:45,174 | client.py:51 | Creating client with cid: 368\n",
      "INFO flwr 2025-02-12 14:45:45,173 | 2358598921.py:102 | Getting client with id 315\n",
      "INFO flwr 2025-02-12 14:45:45,174 | 2358598921.py:102 | Getting client with id 400\n",
      "INFO flwr 2025-02-12 14:45:45,173 | 2358598921.py:102 | Getting client with id 943\n",
      "INFO flwr 2025-02-12 14:45:45,174 | 2358598921.py:102 | Getting client with id 713\n",
      "INFO flwr 2025-02-12 14:45:45,176 | client.py:51 | Creating client with cid: 315\n",
      "INFO flwr 2025-02-12 14:45:45,177 | client.py:51 | Creating client with cid: 400\n",
      "INFO flwr 2025-02-12 14:45:45,178 | client.py:51 | Creating client with cid: 943\n",
      "INFO flwr 2025-02-12 14:45:45,179 | client.py:51 | Creating client with cid: 713\n",
      "  0%|          | 0/1 [00:00<?, ?it/s]\n",
      "\n",
      "\u001b[A\u001b[A\n",
      "\u001b[A\n",
      "\n",
      "\n",
      "\u001b[A\u001b[A\u001b[A\n",
      "\u001b[A\n",
      "\n",
      "\u001b[A\u001b[A\n",
      "\n",
      "\n",
      "100%|██████████| 1/1 [00:01<00:00,  1.17s/it]\n",
      "100%|██████████| 1/1 [00:01<00:00,  1.17s/it]\n",
      "100%|██████████| 1/1 [00:01<00:00,  1.17s/it]\n",
      "100%|██████████| 1/1 [00:01<00:00,  1.16s/it]\n",
      "100%|██████████| 1/1 [00:01<00:00,  1.18s/it]\n",
      "DEBUG flwr 2025-02-12 14:45:46,391 | server_returns_parameters.py:237 | fit_round 4 received 5 results and 0 failures\n",
      "100%|██████████| 47/47 [00:00<00:00, 179.92it/s]\n",
      "INFO flwr 2025-02-12 14:45:46,660 | server_returns_parameters.py:120 | fit progress: (4, 249.10559940338135, {'accuracy': 0.07533333333333334}, 7.848774500016589)\n",
      "INFO flwr 2025-02-12 14:45:46,660 | server_returns_parameters.py:171 | evaluate_round 4: no clients selected, cancel\n",
      "DEBUG flwr 2025-02-12 14:45:46,661 | server_returns_parameters.py:223 | fit_round 5: strategy sampled 5 clients (out of 1000)\n",
      "INFO flwr 2025-02-12 14:45:46,661 | 2358598921.py:102 | Getting client with id 209\n",
      "INFO flwr 2025-02-12 14:45:46,662 | 2358598921.py:102 | Getting client with id 779\n",
      "INFO flwr 2025-02-12 14:45:46,662 | 2358598921.py:102 | Getting client with id 672\n",
      "INFO flwr 2025-02-12 14:45:46,662 | 2358598921.py:102 | Getting client with id 884\n",
      "INFO flwr 2025-02-12 14:45:46,662 | client.py:51 | Creating client with cid: 209\n",
      "INFO flwr 2025-02-12 14:45:46,662 | 2358598921.py:102 | Getting client with id 934\n",
      "INFO flwr 2025-02-12 14:45:46,663 | client.py:51 | Creating client with cid: 779\n",
      "INFO flwr 2025-02-12 14:45:46,663 | client.py:51 | Creating client with cid: 672\n",
      "INFO flwr 2025-02-12 14:45:46,664 | client.py:51 | Creating client with cid: 884\n",
      "INFO flwr 2025-02-12 14:45:46,666 | client.py:51 | Creating client with cid: 934\n",
      "  0%|          | 0/1 [00:00<?, ?it/s]\n",
      "\u001b[A\n",
      "\n",
      "\u001b[A\u001b[A\n",
      "\n",
      "\n",
      "100%|██████████| 1/1 [00:01<00:00,  1.28s/it]\n",
      "\n",
      "\n",
      "\u001b[A\u001b[A\u001b[A\n",
      "\u001b[A\n",
      "\n",
      "100%|██████████| 1/1 [00:01<00:00,  1.28s/it]\n",
      "100%|██████████| 1/1 [00:01<00:00,  1.28s/it]\n",
      "100%|██████████| 1/1 [00:01<00:00,  1.27s/it]\n",
      "100%|██████████| 1/1 [00:01<00:00,  1.28s/it]\n",
      "100%|██████████| 1/1 [00:01<00:00,  1.28s/it]\n",
      "DEBUG flwr 2025-02-12 14:45:47,999 | server_returns_parameters.py:237 | fit_round 5 received 5 results and 0 failures\n",
      "100%|██████████| 47/47 [00:00<00:00, 192.10it/s]\n",
      "INFO flwr 2025-02-12 14:45:48,273 | server_returns_parameters.py:120 | fit progress: (5, 175.2435781955719, {'accuracy': 0.07333333333333333}, 9.462596708035562)\n",
      "INFO flwr 2025-02-12 14:45:48,274 | server_returns_parameters.py:171 | evaluate_round 5: no clients selected, cancel\n",
      "INFO flwr 2025-02-12 14:45:48,274 | server_returns_parameters.py:150 | FL finished in 9.463084458024241\n",
      "INFO flwr 2025-02-12 14:45:48,274 | app.py:250 | app_fit: losses_distributed []\n",
      "INFO flwr 2025-02-12 14:45:48,275 | app.py:251 | app_fit: metrics_distributed_fit {'train_loss': [(1, {'avg': 0.08123350257053971, 'all': [(20, 0.12533522676676512), (20, 0.05406832508742809), (20, 0.09221755098551512), (20, 0.055542107485234735), (20, 0.0790043025277555)]}), (2, {'avg': 0.05121493263170123, 'all': [(20, 0.03699654098600149), (20, 0.07012720294296741), (20, 0.03656691340729594), (20, 0.054378675483167174), (20, 0.05800533033907414)]}), (3, {'avg': 0.05041101053822786, 'all': [(20, 0.07838579267263412), (20, 0.008740097959525883), (20, 0.038695878069847825), (20, 0.053854493983089925), (20, 0.07237879000604153)]}), (4, {'avg': 0.06037318071350455, 'all': [(20, 0.07837892211973667), (20, 0.08529469426721334), (20, 0.07202173117548227), (20, 0.032740318588912486), (20, 0.03343023741617799)]}), (5, {'avg': 0.06718965647742152, 'all': [(20, 0.04179825922474265), (20, 0.05411340687423945), (20, 0.09129946660250425), (20, 0.07708653192967177), (20, 0.0716506177559495)]})]}\n",
      "INFO flwr 2025-02-12 14:45:48,276 | app.py:252 | app_fit: metrics_distributed {}\n",
      "INFO flwr 2025-02-12 14:45:48,277 | app.py:253 | app_fit: losses_centralized [(0, 70.78418409824371), (1, 180.42159461975098), (2, 189.9695188999176), (3, 178.5223352909088), (4, 249.10559940338135), (5, 175.2435781955719)]\n",
      "INFO flwr 2025-02-12 14:45:48,277 | app.py:254 | app_fit: metrics_centralized {'accuracy': [(0, 0.57), (1, 0.006), (2, 0.05733333333333333), (3, 0.07333333333333333), (4, 0.07533333333333334), (5, 0.07333333333333333)]}\n"
     ]
    }
   ],
   "source": [
    "params_list, hist = start_seeded_simulation(\n",
    "    client_fn=lambda cid: federated_fedprox_flower_client_generator(cid).to_client(),\n",
    "    num_clients=N_TOTAL_CLIENTS,\n",
    "    config=ServerConfig(num_rounds=N_TOTAL_ROUNDS),\n",
    "    strategy=strategy,\n",
    "    name=\"fedprox\",\n",
    ")"
   ]
  },
  {
   "cell_type": "markdown",
   "metadata": {},
   "source": [
    "---\n",
    "\n",
    "**Question 5 (Part II ✅):**\n",
    "\n",
    "(You need to provide the answer with **code** and **plots** for this question. A short written argumentation is recommended.)\n",
    "\n",
    "1. Train the FL setting composed of LDA partitions with `concentration=1.0` using FedProx with values of `proximal_mu` in $\\{10.0, 0.1, 1e-5\\}$. Keep `num_clients_per_round=5` and `ServerConfig(num_rounds=10)`. Use the experimental configurations bellow.\n",
    "2. Plot the norm of the pseudo-gradient (average delta between the updated models and models at the start of the round) and the loss (in two plots) for every `proximal_mu`. What do you observe, and how does it compare with your expectations? Briefly discuss the results.\n",
    "\n",
    "---\n"
   ]
  },
  {
   "cell_type": "code",
   "execution_count": 43,
   "metadata": {},
   "outputs": [
    {
     "name": "stderr",
     "output_type": "stream",
     "text": [
      "INFO flwr 2025-02-12 14:45:48,302 | client.py:51 | Creating client with cid: 0\n"
     ]
    }
   ],
   "source": [
    "torch.manual_seed(Seeds.DEFAULT)\n",
    "network_generator_cnn = get_network_generator_cnn()\n",
    "seed_net_cnn = network_generator_cnn()\n",
    "centralized_flower_client_generator: Callable[[str], FlowerClient] = (\n",
    "    get_flower_client_generator(\n",
    "        model_generator=network_generator_cnn,\n",
    "        partition_dir=centralized_partition,\n",
    "        data_dir=data_dir,\n",
    "    )\n",
    ")\n",
    "centralized_flower_client = centralized_flower_client_generator(0)\n",
    "centralized_train_config: dict[str, Any] = {\n",
    "    \"epochs\": 1,\n",
    "    \"batch_size\": 32,\n",
    "    \"client_learning_rate\": 0.01,\n",
    "    \"weight_decay\": 0.001,\n",
    "    \"num_workers\": 0,\n",
    "    \"max_batches\": 1000,\n",
    "}\n",
    "# Train parameters on the centralised dataset\n",
    "trained_params, num_examples, train_metrics = fit_client_seeded(\n",
    "    centralized_flower_client,\n",
    "    params=get_model_parameters(seed_net_cnn),\n",
    "    conf=centralized_train_config,\n",
    ")\n",
    "q5_initial_parameters_pretrained = ndarrays_to_parameters(trained_params)"
   ]
  },
  {
   "cell_type": "code",
   "execution_count": 44,
   "metadata": {},
   "outputs": [],
   "source": [
    "N_TOTAL_CLIENTS = 1000\n",
    "N_TOTAL_ROUNDS = 10\n",
    "N_CLIENTS_PER_ROUND = 5\n",
    "CONCENTRATION = 1.0\n",
    "# Set up experiment configuration\n",
    "train_config: dict[str, Any] = {\n",
    "    \"epochs\": 5,\n",
    "    \"batch_size\": 32,\n",
    "    \"client_learning_rate\": 0.01,\n",
    "    \"weight_decay\": 0.001,\n",
    "    \"num_workers\": 0,\n",
    "    \"max_batches\": None,\n",
    "    # NOTE: This must be adjusted according to the requests\n",
    "    \"proximal_mu\": ...,\n",
    "}\n",
    "\n",
    "\n",
    "def _on_fit_config_fn(server_round: int) -> dict[str, Scalar]:\n",
    "    \"\"\"\n",
    "    Generate the training configuration for a given server round.\n",
    "\n",
    "    This function updates the global training configuration with the current server\n",
    "    round and returns the updated configuration.\n",
    "\n",
    "    Parameters\n",
    "    ----------\n",
    "    server_round : int\n",
    "        The current round of training on the server.\n",
    "\n",
    "    Returns\n",
    "    -------\n",
    "    dict[str, Scalar]\n",
    "        The updated training configuration dictionary.\n",
    "    \"\"\"\n",
    "    train_config.update({\"server_round\": server_round})\n",
    "    return train_config\n",
    "\n",
    "\n",
    "num_total_clients = N_TOTAL_CLIENTS\n",
    "num_clients_per_round: int = N_CLIENTS_PER_ROUND\n",
    "num_evaluate_clients: int = 0\n",
    "fraction_fit: float = float(num_clients_per_round) / num_total_clients\n",
    "fraction_evaluate: float = float(num_evaluate_clients) / num_total_clients\n",
    "# Set up strategy\n",
    "strategy = FedAvg(\n",
    "    fraction_fit=sys.float_info.min,\n",
    "    fraction_evaluate=sys.float_info.min,\n",
    "    min_fit_clients=num_clients_per_round,\n",
    "    min_evaluate_clients=num_evaluate_clients,\n",
    "    min_available_clients=max(num_clients_per_round, num_evaluate_clients),\n",
    "    on_fit_config_fn=_on_fit_config_fn,\n",
    "    on_evaluate_config_fn=None,\n",
    "    evaluate_fn=federated_evaluation_function,\n",
    "    initial_parameters=q5_initial_parameters_pretrained,\n",
    "    accept_failures=False,\n",
    "    fit_metrics_aggregation_fn=aggregate_weighted_average,\n",
    "    evaluate_metrics_aggregation_fn=aggregate_weighted_average,\n",
    ")\n",
    "\n",
    "# Create partitions\n",
    "x = np.array([x[0] for x in centralized_train_dataset.data])\n",
    "y = np.array([x[1] for x in centralized_train_dataset.data])\n",
    "train_clients_partitions, dist = create_lda_partitions(\n",
    "    dataset=(x, y),\n",
    "    dirichlet_dist=None,\n",
    "    num_partitions=N_TOTAL_CLIENTS,\n",
    "    concentration=CONCENTRATION,\n",
    "    accept_imbalanced=True,\n",
    ")\n",
    "x = np.array([x[0] for x in centralized_test_dataset.data])\n",
    "y = np.array([x[1] for x in centralized_test_dataset.data])\n",
    "test_clients_partitions, dist = create_lda_partitions(\n",
    "    dataset=(x, y),\n",
    "    dirichlet_dist=dist,\n",
    "    num_partitions=N_TOTAL_CLIENTS,\n",
    "    concentration=CONCENTRATION,\n",
    "    accept_imbalanced=True,\n",
    ")\n",
    "# Store partitions\n",
    "lda_partition: Path = dataset_dir / \"client_data_mappings\" / f\"lda_{CONCENTRATION}\"\n",
    "if lda_partition.exists():\n",
    "    shutil.rmtree(str(lda_partition))\n",
    "lda_partition.mkdir(parents=True, exist_ok=True)\n",
    "\n",
    "for i, (train_set, test_set) in enumerate(\n",
    "    zip(train_clients_partitions, test_clients_partitions, strict=True)\n",
    "):\n",
    "    folder_path: Path = lda_partition / str(i)\n",
    "    folder_path.mkdir(parents=True, exist_ok=True)\n",
    "\n",
    "    train_path: Path = folder_path / \"train.csv\"\n",
    "    test_path: Path = folder_path / \"test.csv\"\n",
    "\n",
    "    pd.DataFrame({\n",
    "        \"client_id\": [0] * len(train_set[0]),\n",
    "        \"sample_path\": train_set[0],\n",
    "        \"sample_id\": range(len(train_set[0])),\n",
    "        \"label\": train_set[1],\n",
    "    }).to_csv(train_path, index=False)\n",
    "    pd.DataFrame({\n",
    "        \"client_id\": [0] * len(test_set[0]),\n",
    "        \"sample_path\": test_set[0],\n",
    "        \"sample_id\": range(len(test_set[0])),\n",
    "        \"label\": test_set[1],\n",
    "    }).to_csv(test_path, index=False)\n",
    "# Create the client generator\n",
    "fedprox_flower_client_generator: Callable[[str], FlowerClient] = (\n",
    "    get_fedprox_flower_client_generator(\n",
    "        model_generator=network_generator_cnn,\n",
    "        data_dir=data_dir,\n",
    "        partition_dir=lda_partition,\n",
    "    )\n",
    ")"
   ]
  },
  {
   "cell_type": "markdown",
   "metadata": {
    "id": "5K1N62Obm679"
   },
   "source": [
    "---\n",
    "\n",
    "**Question 6 (Part III/MPhil ✅):**\n",
    "\n",
    "(These are meant to be conceptual questions. You should provide written answers for these. **No more than 3 sentences each**. No code is needed)\n",
    "\n",
    "In FL, fairness is generally defined as the variance of the accuracy of the global model on local clients' test sets. If two models have the same average accuracy, the one with the lower variance between clients is the fairer.\n",
    "\n",
    "- In light of this, is it reasonable to say that analysing the fairness of the model across clients, i.e. the distributed accuracy, could be used as a tool to measure the data heterogeneity? Motivate your answer.\n",
    "- Both FedAvg and FedProx are training a single global model, so we will always measure some unfairness. Do you think we could improve fairness by finetuning the global model on the local clients just before evaluating it on their local test set?\n",
    "\n",
    "---"
   ]
  },
  {
   "cell_type": "markdown",
   "metadata": {},
   "source": [
    "**Question 6 Answer:**\n",
    "\n",
    "Part 1:\n",
    "\n",
    "Analysing, the fairness of the model across clients can be used as a tool to measure data heterogeneity though not in detail. If a model has a high variance in accuracy across all/a subset of clients, it can indicate that the data is heterogeneous as the model is not able to generalize well across all clients. However, this indicator does not capture fine details of data heterogeneity such as feature distribution skew, label distribution skew, and quantity skew.\n",
    "\n",
    "Part 2: \n",
    "\n",
    "Fine-tuning the global model on the local client just before evaluation would increase the fairness of the model as it would be better tailored to the clients' test set hence improving the local accuracy. However, this might not be a good representation of the global model's fairness and could undermine the fairness measurement because it tailors the model to the client's test set, \"artificially\" improving local accuracy and decreasing the variance in accuracy across clients regarding the original/global (not fine-tuned) model. This would no longer represent/measure how well the global model generalizes across all clients rather how the global model with fine-tuning performs.\n",
    "\n",
    "---"
   ]
  },
  {
   "cell_type": "markdown",
   "metadata": {
    "id": "ICOGgdnJRd1b"
   },
   "source": [
    "(c) 2025 Alexandru-Andrei Iacob, Lorenzo Sani\n"
   ]
  }
 ],
 "metadata": {
  "accelerator": "GPU",
  "colab": {
   "provenance": []
  },
  "gpuClass": "standard",
  "kernelspec": {
   "display_name": "Python 3",
   "language": "python",
   "name": "python3"
  },
  "language_info": {
   "codemirror_mode": {
    "name": "ipython",
    "version": 3
   },
   "file_extension": ".py",
   "mimetype": "text/x-python",
   "name": "python",
   "nbconvert_exporter": "python",
   "pygments_lexer": "ipython3",
   "version": "3.10.16"
  }
 },
 "nbformat": 4,
 "nbformat_minor": 0
}
